{
 "cells": [
  {
   "cell_type": "markdown",
   "metadata": {},
   "source": [
    "# \"Socialize\" = \"Social\" + \"Optimize\"\n",
    "## Using Data Science to Increase Engagement on Social Media\n",
    "by: Ishaan Jaffer and Jessica Chau"
   ]
  },
  {
   "cell_type": "markdown",
   "metadata": {},
   "source": [
    "## Introduction\n",
    "At present there are approximately 7.7 billion people in the world with at least 3.5 billion of us online, implying that social media platforms are used by approximately one-in-three people in the world. This sudden growth and adoption has transformed the way we find partners, access news and information, or even how we organize political change and in so many other different ways. Leveraging the power of social media is now more important than ever before. This project aims to optimize social media activity for our users by providing them suggestions based on the analysis of data that we get from the Twitter API. Specifically,our project will have four key features that will provide suggestions on the following: \n",
    "    1. What the best time to post on social media would be \n",
    "    2. What are some keywords to include in a tweet based on post category and trending tweets \n",
    "    3. What are some hashtags to include in a tweet based on post category and trending tweets \n",
    "    4. What is the sentiment of the tweet the user has drafted\n",
    "<img src = \"1.png\" align = \"center\">\n",
    "For this project, we will be focusing specifically on Twitter. We have developed these four features because these are the four main components of a tweet that a user should think about before posting it. We want to ensure that a user is posting their tweet when the most people are going to see it. Additionally, we want to provide the user with suggestions of content, including the words itself and the hashtags, that has shown to be popular. Finally, we also want to ensure that the content that the user inputted is reflecting the same sentiment that they are intending to express.\n"
   ]
  },
  {
   "cell_type": "markdown",
   "metadata": {},
   "source": [
    "## Table of Contents\n",
    "- [Architecture Diagram](#Architecture-Diagram)\n",
    "- [Installing the Libraries](#Installing-the-Libraries)\n",
    "- [User Input](#User-Input)\n",
    "- [Gathering the Data](#Gathering-the-Data)\n",
    "    - [Data Cleaning and Preprocessing](#Data-Cleaning-and-Preprocessing)\n",
    "    - [Webscraping](#Webscraping)\n",
    "    - [Twitter API](#Twitter-API)\n",
    "- [Finding the Best Time to Post](#Finding-the-Best-Time-to-Post)\n",
    "- [Providing Suggestions for Keywords and Hashtags](#Providing-Suggestions-for-Keywords-and-Hashtags)\n",
    "- [Sentiment Analysis](#Sentiment-Analysis)\n",
    "- [Results](#Results)\n",
    "- [Suggestions for Future Research](#Suggestions-for-Future-Research)"
   ]
  },
  {
   "cell_type": "markdown",
   "metadata": {},
   "source": [
    "## Architecture Diagram\n",
    "\n",
    "Below we have illustrated the pipeline that the data will follow. With our project, we will have the user input their username, the tweet that they intend on posting, and the category or categories of the tweet that the content of their tweet falls under. With this data, we can use the Twitter API to begin building a database of all the tweets that were posted globally that fall under the category that the user inputed. We also use webscraping to build a database of all of the tweets and posts on the users timeline. Thus, for each feature of our project we can provide two suggestions, one that is based off of the global data and one that is user specific. For our global suggestion, we will analyze all of the tweets from any Twitter user globally in the given category and give a suggestion based on the data from all Twitter users in that category. For our user specific suggestion, we will analyze all of the tweets that the user has posted and give a suggestion based on only the data from the user.\n",
    "\n",
    "With this data, we can do a time series analysis to analyze the best time for social media engagment globally for the inputted category, as well as specifically for the user. Additionally, after we have cleaned and processed the data, we can use TFIDF to analyze the most popular keywords and hashtags for all tweets globally within the given category, as well as for all of the tweets of the user. Finally, we can use a sentiment analysis model to analyze the sentiment behind the tweet that the user intends on posting."
   ]
  },
  {
   "cell_type": "markdown",
   "metadata": {},
   "source": [
    "<img src = \"2.png\" align = \"center\">"
   ]
  },
  {
   "cell_type": "markdown",
   "metadata": {},
   "source": [
    "## Installing the Libraries\n",
    "\n",
    "In order to gather the data, we will mainly be using Tweepy and the Twitter API, as well as, Selenium for webscraping. For each component of our project, we will be using different module for each component. For the time component, we will mainly be using Pandas for the time series analysis. For the keywords and hashtags, we will mainly be using the sklearn module. Finally, for the sentiment analysis, we will be using the Textblob and NLTK. "
   ]
  },
  {
   "cell_type": "code",
   "execution_count": 301,
   "metadata": {},
   "outputs": [],
   "source": [
    "import requests\n",
    "import urllib\n",
    "import tweepy\n",
    "import json\n",
    "import csv\n",
    "import pandas as pd\n",
    "from requests.auth import HTTPBasicAuth\n",
    "import matplotlib.pyplot as plt\n",
    "import re\n",
    "import io\n",
    "import time\n",
    "from datetime import datetime\n",
    "from bs4 import BeautifulSoup\n",
    "import unicodedata\n",
    "import string\n",
    "\n",
    "import nltk\n",
    "from nltk.corpus import stopwords\n",
    "from sklearn import preprocessing\n",
    "from sklearn.feature_extraction.text import TfidfVectorizer\n",
    "from sklearn.feature_extraction.text import CountVectorizer\n",
    "from sklearn.metrics.pairwise import linear_kernel\n",
    "from sklearn.metrics.pairwise import cosine_similarity\n",
    "\n",
    "\n",
    "\n",
    "from selenium import webdriver\n",
    "from selenium.webdriver.common.keys import Keys\n",
    "from webdriver_manager.chrome import ChromeDriverManager\n",
    "\n",
    "from wordcloud import WordCloud, STOPWORDS\n",
    "from PIL import Image\n",
    "\n",
    "from textblob import TextBlob\n",
    "from textblob.sentiments import NaiveBayesAnalyzer\n",
    "from vaderSentiment.vaderSentiment import SentimentIntensityAnalyzer"
   ]
  },
  {
   "cell_type": "markdown",
   "metadata": {},
   "source": [
    "## User Input\n",
    "\n",
    "We will have the user input their username or Twitter handle to us for webscraping. We will also have the user input the tweet that they intend on posting for sentiment analysis. Finally, we will have the user input the category of their tweet in order to gather data on tweets that are more relevant to the tweet that the user wants to post."
   ]
  },
  {
   "cell_type": "code",
   "execution_count": 227,
   "metadata": {},
   "outputs": [
    {
     "name": "stdout",
     "output_type": "stream",
     "text": [
      "What is your username? elonmusk\n"
     ]
    }
   ],
   "source": [
    "user_name = input(\"What is your username? \")"
   ]
  },
  {
   "cell_type": "code",
   "execution_count": 228,
   "metadata": {},
   "outputs": [
    {
     "name": "stdout",
     "output_type": "stream",
     "text": [
      "What is your tweet? Huge thanks to all who contributed ideas to Cybertruck. It’s better because of you! ♥️♥️♥️ #Tesla #Tech2020 #Design\n"
     ]
    }
   ],
   "source": [
    "orig_tweet_input = input(\"What is your tweet? \")\n",
    "#\"Huge thanks to all who contributed ideas to Cybertruck. It’s better because of you! ♥️♥️♥️ #Tesla #Tech2020 #Design\""
   ]
  },
  {
   "cell_type": "code",
   "execution_count": 229,
   "metadata": {},
   "outputs": [
    {
     "name": "stdout",
     "output_type": "stream",
     "text": [
      "What is the category of your tweet? These are the possible categories: Sports, Politics, Entertainment, Education, Technology, Business. Please input only one category Technology\n"
     ]
    }
   ],
   "source": [
    "#Possible Categories are: Sports\", \"Politics\", \"Entertainment\", \"Education\", \"Technology\", \"Business\"\n",
    "orig_category = input(\"What is the category of your tweet? These are the possible categories: Sports, Politics, Entertainment, Education, Technology, Business. Please input only one category \")"
   ]
  },
  {
   "cell_type": "markdown",
   "metadata": {},
   "source": [
    "##  Gathering the Data\n",
    "Here is a brief overview of the entire process of gathering user data\n",
    "<img src = \"3.png\" align = \"center\">\n",
    "To begin with, we need to gather our data from Twitter. We will be using the Twitter API to get all of the tweets that were posted globally in the specfic inputted category. Then, we will be using webscraping to scrape the all of the posts from the user's timeline. However, in order to use the data that we have gathered, we need to clean and preprocess the data so that we can complete our analyses. The end result is two dataframes:\n",
    "    1. Data Frame to analyse all tweets posted on twitter this week \n",
    "    2. Data Frame to analyse all tweets posted specificaly by the user using our product. We want to provide suggestions that are specifically curated based on our user's most popular tweets. "
   ]
  },
  {
   "cell_type": "markdown",
   "metadata": {},
   "source": [
    "### Data Cleaning and Preprocessing\n",
    "\n",
    "Below, we have listed out all of the functions that we will need to use in our project in order to process and analyze our data. \n",
    "\n",
    "#### Removing emojis, special characters from tweets\n",
    "In order to analyze the content of the user's intended tweet, the content of our collected tweets(using the API), and the content of the tweets on the user's timeline(done using Web Scraping), we will need to replace all characters in each tweet that are not UTF-8 with a description of the emoji"
   ]
  },
  {
   "cell_type": "code",
   "execution_count": 302,
   "metadata": {},
   "outputs": [
    {
     "name": "stdout",
     "output_type": "stream",
     "text": [
      "Tweet without emojis: Huge thanks to all who contributed ideas to Cybertruck. It's better because of you!  #Tesla #Tech2020 #Design\n",
      "\n",
      "Description of Emojis Used: BLACK HEART SUIT,VARIATION SELECTOR-16,BLACK HEART SUIT,VARIATION SELECTOR-16,BLACK HEART SUIT,VARIATION SELECTOR-16\n"
     ]
    }
   ],
   "source": [
    "### replace emojis with descriptions of the emojis \n",
    "def de_emoji(tweet):\n",
    "    new_tweet = \"\"\n",
    "    emojis = []\n",
    "    for character in tweet:\n",
    "        try:\n",
    "            character.encode(\"ascii\")\n",
    "            new_tweet += character\n",
    "        except UnicodeEncodeError:\n",
    "            replaced = unidecode(str(character))\n",
    "            if replaced != '' and replaced !=\"[?]\":\n",
    "                new_tweet += replaced\n",
    "            else:\n",
    "                try:\n",
    "                    emojis.append(unicodedata.name(character))\n",
    "                except ValueError:\n",
    "                     new_tweet += \"[x]\"\n",
    "    return new_tweet, \",\".join(emojis)\n",
    "orig_tweet, orig_emojis = de_emoji(orig_tweet_input)\n",
    "print(\"Tweet without emojis: \"+orig_tweet+\"\\n\")\n",
    "print(\"Description of Emojis Used: \"+orig_emojis)"
   ]
  },
  {
   "cell_type": "markdown",
   "metadata": {},
   "source": [
    "#### Seperating tweet text, hashtags in tweets and removing stopwords, punctuation, links\n",
    "When analzing tweets we want to provide user's with suggestions on what keywords to use and what hashtags to use, hence we create two seperate token lists: \n",
    "    - One for the pure text content of the tweet\n",
    "    - One for the hashtags used in the tweet. "
   ]
  },
  {
   "cell_type": "code",
   "execution_count": 303,
   "metadata": {
    "scrolled": true
   },
   "outputs": [
    {
     "name": "stdout",
     "output_type": "stream",
     "text": [
      "['huge', 'thanks', 'idea', 'cybertruck', 'better', 'tesla', 'tech2020', 'design'] ['#tesla', '#tech2020', '#design'] []\n"
     ]
    }
   ],
   "source": [
    "lemmatizer=nltk.stem.wordnet.WordNetLemmatizer()\n",
    "def preprocess(tweet):\n",
    "    \n",
    "    ## lowercase\n",
    "    lower_case = tweet.lower()\n",
    "    lower_case= re.sub(\"'s\", \"\", lower_case)\n",
    "    \n",
    "    ## removing apostrophes\n",
    "    lower_case = lower_case.translate(str.maketrans('', '', \"'\"))\n",
    "    lower_case = lower_case.translate(str.maketrans('', '', '\"'))\n",
    "    \n",
    "    ## remove links from tweets\n",
    "    lower_case= re.sub(\"(http://t.co/[a-zA-Z0-9]{10})+\", \",,\", lower_case) \n",
    "    lower_case= re.sub(\"(https://t.co/[a-zA-Z0-9]{10})+\", \",,\", lower_case) \n",
    "    lower_case= re.sub(\"(twitter.com/[a-zA-Z0-9]{10})+\", \",,\", lower_case) \n",
    "    ## removing punctuation, only considering alphanumeric characters\n",
    "    tweet_list = re.split('[^a-zA-Z0-9]', lower_case)\n",
    "    \n",
    "    str_list = [x for x in tweet_list if x != '']\n",
    "    \n",
    "    ## lemmatizing each word\n",
    "    str_list = [lemmatizer.lemmatize(x) for x in str_list]\n",
    "    \n",
    "    ## removing stopwords\n",
    "    str_list = [x for x in str_list if x not in stopwords.words('english')]\n",
    "    \n",
    "    ## Removing any liks that are not specifically https: links, like tesla.co or tesla.com\n",
    "    str_list = [x for x in str_list if (\"co\" not in x) and (\"com\" not in x)]\n",
    "    str_list = [x for x in str_list if (\"co\" not in x) and (\"com\" not in x)]\n",
    "    str_list = [x for x in str_list if (\"http\" not in x) and (\"https\" not in x)]\n",
    "\n",
    "    hashtags, mentions = [], []\n",
    "    ## Creating a seperate lists for tweet texts, hashtags(#twitter), mentions(@elonmusk, @carnegiemellon)\n",
    "    for word in lower_case.split():\n",
    "        word = word.strip()\n",
    "        if \"http\" not in word:\n",
    "            if len(word)>0 and word[0]==\"@\":\n",
    "                mentions.append(word)\n",
    "            if len(word)>0 and word[0]==\"#\":\n",
    "                hashtags.append(word)\n",
    "    ## We would like to keep \"#\" but remove other punctuations\n",
    "    punctuations = string.punctuation\n",
    "    punctuations = punctuations.replace(\"#\", \"\")\n",
    "    hashtags = [x.translate(str.maketrans('', '', punctuations)) for x in hashtags]\n",
    "        \n",
    "            \n",
    "    return str_list, hashtags, mentions\n",
    "original_clean_tweet, original_hashtags, original_mentions = preprocess(orig_tweet)\n",
    "print(original_clean_tweet, original_hashtags, original_mentions)"
   ]
  },
  {
   "cell_type": "markdown",
   "metadata": {},
   "source": [
    "#### Using Our Preprocessing Functions on Our Data Frames\n",
    "\n",
    "Before we complete any of our analyses, we will be using all of the functions in our `clean_tweets` function to break. This function cleans, processes all the tweets in the collected data frame. "
   ]
  },
  {
   "cell_type": "code",
   "execution_count": 304,
   "metadata": {},
   "outputs": [],
   "source": [
    "## Clean all tweets \n",
    "def clean_tweets(df):\n",
    "    clean_tweet, hashtags, mentions, emojis = [], [], [], []\n",
    "    for tweet in df['text']:\n",
    "        tweet, emoji = de_emoji(tweet)\n",
    "        tweet, hashtag, mention = preprocess(tweet)\n",
    "        clean_tweet.append(tweet)\n",
    "        hashtags.append(hashtag)\n",
    "        mentions.append(mention)\n",
    "        emojis.append(emoji)\n",
    "    df['text'] = clean_tweet\n",
    "    df['hashtags'] = hashtags\n",
    "    df['mentions'] = mentions\n",
    "    return df"
   ]
  },
  {
   "cell_type": "markdown",
   "metadata": {},
   "source": [
    "#### Reformatting the Data\n",
    "\n",
    "We will be using this function to reformat the time data that we are gathering from the webscraping to a DateTimeIndex format for our time series analysis. The timestamp gathered from webscraping was in string format"
   ]
  },
  {
   "cell_type": "code",
   "execution_count": 233,
   "metadata": {},
   "outputs": [],
   "source": [
    "def convert24(str1): \n",
    "    # Checking if last two elements of time \n",
    "    # is AM and first two elements are 12 \n",
    "    if str1[-2:] == \"AM\" and str1[:2] == \"12\": \n",
    "        return \"00\" + str1[2:-2]     \n",
    "    # remove the AM     \n",
    "    elif str1[-2:] == \"AM\": \n",
    "        return str1[:-2] \n",
    "    elif str1[-2:] == \"PM\" and str1[:2] == \"12\": \n",
    "        return str1[:-2] \n",
    "    else: \n",
    "        # add 12 to hours and remove PM \n",
    "        return str(int(str1[:2]) + 12) + str1[2:6] \n",
    "convert24('03:01 PM')\n",
    "\n",
    "def convertMonth(month):\n",
    "    m = {\n",
    "        'Jan': 1,\n",
    "        'Feb': 2,\n",
    "        'Mar': 3,\n",
    "        'Apr':4,\n",
    "         'May':5,\n",
    "         'Jun':6,\n",
    "         'Jul':7,\n",
    "         'Aug':8,\n",
    "         'Sep':9,\n",
    "         'Oct':10,\n",
    "         'Nov':11,\n",
    "         'Dec':12\n",
    "        }\n",
    "    return m[month]  "
   ]
  },
  {
   "cell_type": "code",
   "execution_count": 234,
   "metadata": {
    "scrolled": false
   },
   "outputs": [],
   "source": [
    "def format_date(user_timeline_df):\n",
    "    user_timeline_df['created_at'] = user_timeline_df['created_at'].astype(str)\n",
    "    for index,row in user_timeline_df.iterrows():\n",
    "        #print(row['created_at'])\n",
    "        dash_index = row['created_at'].find(\"-\")\n",
    "        if \":\" in row['created_at'][:2]:\n",
    "            time = '0' + row['created_at'][:dash_index-1]\n",
    "        else:\n",
    "            time = row['created_at'][:dash_index-1]\n",
    "        time = convert24(time)[:-1] + ':00'\n",
    "        #print(row['created_at'][index+2:])\n",
    "        year = row['created_at'][dash_index+2:][-4:] + \"-\"\n",
    "        #print(row['created_at'][dash_index+2:][-8:-5])\n",
    "        month = str(convertMonth(row['created_at'][dash_index+2:][-8:-5])) + '-'\n",
    "        if \" \" in row['created_at'][dash_index+2:][:2]:\n",
    "            day = \"0\" + row['created_at'][dash_index+2:][0]\n",
    "        else:\n",
    "            day = row['created_at'][dash_index+2:][:2]\n",
    "        date = year + month + day\n",
    "        user_timeline_df[index:]['created_at'] = date + \" \" + time\n",
    "    return user_timeline_df\n",
    "    \n",
    "#user_timeline_df = format_date(user_timeline_df)"
   ]
  },
  {
   "cell_type": "markdown",
   "metadata": {},
   "source": [
    "### Webscraping\n",
    "#### Scraping a user's twitter timeline based on the username\n",
    "We are using Selenium to scroll through a user's timeline and scrape data. As we scrape the unstrucutred data we process each tweet using the functions described earlier and then we create a dataframe. \n",
    "\n",
    "#### Processing HTML content of user's twitter timeline. For each tweet on a user's timeline we scrape (Done using beautiful soup) :\n",
    "    1. Tweet Content/text\n",
    "    2. Number of favorites/likes the tweet received \n",
    "    3. Number of retweets the tweet receieved "
   ]
  },
  {
   "cell_type": "code",
   "execution_count": 305,
   "metadata": {},
   "outputs": [],
   "source": [
    "## Gathering relevant html content\n",
    "def scraped_timeline(content, page, seen_tweets):\n",
    "    soup = BeautifulSoup(page, \"html.parser\")\n",
    "    timeline = soup.select('#timeline li.stream-item')\n",
    "    ## Looping through all the tweets gathered in the current page\n",
    "    for i, tweet in enumerate(timeline):\n",
    "        count = tweet.select('span.ProfileTweet-actionCount')\n",
    "        favs = 0.0\n",
    "        retweets = 0.0\n",
    "        \n",
    "        ## range 1,3 as element 1 and element 2 in count are retweets and favorites \n",
    "        for j in range(1, 3):  \n",
    "            elem = count[j]\n",
    "            val = elem.get_text().strip()\n",
    "            num = \"\"\n",
    "            i = 0\n",
    "            ## To convert the \"num\" to an int\n",
    "            ## Numbers on twitters can be 1,200 or 10, these needed to be processed \n",
    "            while (i<len(val) and not(val[i]== \" \" or val[i]==\"\")):\n",
    "                num+=val[i]\n",
    "                i+=1\n",
    "            if num!=\"\":\n",
    "                num = num.replace(',' , '')\n",
    "                if num.isdigit():\n",
    "                    if j==1:\n",
    "                        retweets = int(num)\n",
    "                    elif j==2:\n",
    "                        favs = int(num)\n",
    "        tweet_text = tweet.select('p.tweet-text')[0].get_text()\n",
    "        tweet_time = tweet.select('a.tweet-timestamp')\n",
    "        for elem in tweet_time:\n",
    "            time = (elem.get('title')) \n",
    "        ## Add Current tweet to our dictionary of tweets \n",
    "        if tweet_text not in seen_tweets:\n",
    "            seen_tweets.add(tweet.text)\n",
    "            text = tweet_text\n",
    "            content[\"created_at\"].append(time)\n",
    "            content[\"text\"].append(text)\n",
    "            content[\"favorite_count\"].append(favs)\n",
    "            content[\"retweet_count\"].append(retweets)\n",
    "            \n",
    "    return    "
   ]
  },
  {
   "cell_type": "markdown",
   "metadata": {},
   "source": [
    "#### Using Selenium (web based automation) to scroll through user's timeline \n",
    "This is done to collect more than just the first page of tweets of a user. The more data we collect the more in detail/accurate our suggestions will be. The user can also control how many tweets should be collected from their timeline by changing the \"no_of_pagedowns\""
   ]
  },
  {
   "cell_type": "code",
   "execution_count": 306,
   "metadata": {
    "scrolled": true
   },
   "outputs": [],
   "source": [
    "def create_timeline_df(user_name, no_of_pagedowns=100):\n",
    "    driver = webdriver.Chrome(ChromeDriverManager().install())\n",
    "    browser = driver\n",
    "    url = \"https://twitter.com/\" + user_name\n",
    "    browser.get(url)\n",
    "    time.sleep(1)\n",
    "    elem = browser.find_element_by_tag_name(\"body\")\n",
    "    while no_of_pagedowns>=0:\n",
    "        elem.send_keys(Keys.PAGE_DOWN)\n",
    "        time.sleep(0.2)\n",
    "        no_of_pagedowns-=1\n",
    "\n",
    "    content = {\"created_at\":[], \"text\":[], \"favorite_count\":[], \"retweet_count\":[]}\n",
    "    \n",
    "    ## seen_tweets is used to ensure we do not add duplicate tweets to our dataframe\n",
    "    seen_tweets = set()\n",
    "    html_source = scraped_timeline(content, browser.page_source, seen_tweets)\n",
    "    \n",
    "    ## dataframe created from content dictionary \n",
    "    user_timeline_df = pd.DataFrame.from_dict(content)\n",
    "    return user_timeline_df"
   ]
  },
  {
   "cell_type": "markdown",
   "metadata": {},
   "source": [
    "#### Cleaning and preprocessing collected tweets, formatting timestamp, creating dataframe for the user's timeline"
   ]
  },
  {
   "cell_type": "code",
   "execution_count": 307,
   "metadata": {},
   "outputs": [
    {
     "name": "stdout",
     "output_type": "stream",
     "text": [
      "\n",
      "Looking for [chromedriver 78.0.3904.105 mac64] driver in cache \n",
      "File found in cache by path [/Users/ishaanjaffer/.wdm/drivers/chromedriver/78.0.3904.105/mac64/chromedriver]\n"
     ]
    },
    {
     "name": "stderr",
     "output_type": "stream",
     "text": [
      "/Library/Frameworks/Python.framework/Versions/3.6/lib/python3.6/site-packages/ipykernel_launcher.py:20: SettingWithCopyWarning: \n",
      "A value is trying to be set on a copy of a slice from a DataFrame.\n",
      "Try using .loc[row_indexer,col_indexer] = value instead\n",
      "\n",
      "See the caveats in the documentation: http://pandas.pydata.org/pandas-docs/stable/user_guide/indexing.html#returning-a-view-versus-a-copy\n"
     ]
    },
    {
     "data": {
      "text/html": [
       "<div>\n",
       "<style scoped>\n",
       "    .dataframe tbody tr th:only-of-type {\n",
       "        vertical-align: middle;\n",
       "    }\n",
       "\n",
       "    .dataframe tbody tr th {\n",
       "        vertical-align: top;\n",
       "    }\n",
       "\n",
       "    .dataframe thead th {\n",
       "        text-align: right;\n",
       "    }\n",
       "</style>\n",
       "<table border=\"1\" class=\"dataframe\">\n",
       "  <thead>\n",
       "    <tr style=\"text-align: right;\">\n",
       "      <th></th>\n",
       "      <th>created_at</th>\n",
       "      <th>text</th>\n",
       "      <th>favorite_count</th>\n",
       "      <th>retweet_count</th>\n",
       "      <th>hashtags</th>\n",
       "      <th>mentions</th>\n",
       "      <th>emojis</th>\n",
       "    </tr>\n",
       "  </thead>\n",
       "  <tbody>\n",
       "    <tr>\n",
       "      <td>0</td>\n",
       "      <td>2019-12-11 11:25:00</td>\n",
       "      <td>[anymore, excuse, ford, p100d, imagine, cybert...</td>\n",
       "      <td>12110</td>\n",
       "      <td>2425</td>\n",
       "      <td>[#tesla, #cybertruckpic]</td>\n",
       "      <td>[@ford, @elonmusk]</td>\n",
       "      <td></td>\n",
       "    </tr>\n",
       "    <tr>\n",
       "      <td>1</td>\n",
       "      <td>2019-12-11 09:15:00</td>\n",
       "      <td>[edmunds, 2020, toprated, best, ev, year, tesl...</td>\n",
       "      <td>5020</td>\n",
       "      <td>767</td>\n",
       "      <td>[#toprated]</td>\n",
       "      <td>[@tesla]</td>\n",
       "      <td></td>\n",
       "    </tr>\n",
       "    <tr>\n",
       "      <td>2</td>\n",
       "      <td>2019-12-09 10:15:00</td>\n",
       "      <td>[tesla, virtual, power, plant, rescue, grid, p...</td>\n",
       "      <td>7280</td>\n",
       "      <td>1004</td>\n",
       "      <td>[]</td>\n",
       "      <td>[]</td>\n",
       "      <td></td>\n",
       "    </tr>\n",
       "    <tr>\n",
       "      <td>3</td>\n",
       "      <td>2019-12-08 02:09:00</td>\n",
       "      <td>[capture, 19, flight, space, station, dragon, ...</td>\n",
       "      <td>20670</td>\n",
       "      <td>1864</td>\n",
       "      <td>[]</td>\n",
       "      <td>[@space_station,]</td>\n",
       "      <td></td>\n",
       "    </tr>\n",
       "    <tr>\n",
       "      <td>4</td>\n",
       "      <td>2019-12-07 15:56:00</td>\n",
       "      <td>[huge, thanks, everyone, idea, cybertruck, bet...</td>\n",
       "      <td>155830</td>\n",
       "      <td>5496</td>\n",
       "      <td>[]</td>\n",
       "      <td>[]</td>\n",
       "      <td></td>\n",
       "    </tr>\n",
       "    <tr>\n",
       "      <td>...</td>\n",
       "      <td>...</td>\n",
       "      <td>...</td>\n",
       "      <td>...</td>\n",
       "      <td>...</td>\n",
       "      <td>...</td>\n",
       "      <td>...</td>\n",
       "      <td>...</td>\n",
       "    </tr>\n",
       "    <tr>\n",
       "      <td>175</td>\n",
       "      <td>2019-9-28 06:31:00</td>\n",
       "      <td>[starship, launch, facility, cameron, texas, w...</td>\n",
       "      <td>22533</td>\n",
       "      <td>3553</td>\n",
       "      <td>[]</td>\n",
       "      <td>[@elonmusk]</td>\n",
       "      <td></td>\n",
       "    </tr>\n",
       "    <tr>\n",
       "      <td>176</td>\n",
       "      <td>2019-9-27 12:25:00</td>\n",
       "      <td>[make, life, know, multiplanetary]</td>\n",
       "      <td>66498</td>\n",
       "      <td>3751</td>\n",
       "      <td>[]</td>\n",
       "      <td>[]</td>\n",
       "      <td></td>\n",
       "    </tr>\n",
       "    <tr>\n",
       "      <td>177</td>\n",
       "      <td>2019-9-27 12:25:00</td>\n",
       "      <td>[starship, allow, u, inhabit, world]</td>\n",
       "      <td>129883</td>\n",
       "      <td>11316</td>\n",
       "      <td>[]</td>\n",
       "      <td>[]</td>\n",
       "      <td></td>\n",
       "    </tr>\n",
       "    <tr>\n",
       "      <td>178</td>\n",
       "      <td>2019-9-27 12:14:00</td>\n",
       "      <td>[starship, half, joinedpic]</td>\n",
       "      <td>167195</td>\n",
       "      <td>20452</td>\n",
       "      <td>[]</td>\n",
       "      <td>[]</td>\n",
       "      <td></td>\n",
       "    </tr>\n",
       "    <tr>\n",
       "      <td>179</td>\n",
       "      <td>2019-9-27 11:55:00</td>\n",
       "      <td>[summon, improving, www, reddit, r, teslamotor...</td>\n",
       "      <td>10282</td>\n",
       "      <td>531</td>\n",
       "      <td>[]</td>\n",
       "      <td>[]</td>\n",
       "      <td></td>\n",
       "    </tr>\n",
       "  </tbody>\n",
       "</table>\n",
       "<p>180 rows × 7 columns</p>\n",
       "</div>"
      ],
      "text/plain": [
       "              created_at                                               text  \\\n",
       "0    2019-12-11 11:25:00  [anymore, excuse, ford, p100d, imagine, cybert...   \n",
       "1    2019-12-11 09:15:00  [edmunds, 2020, toprated, best, ev, year, tesl...   \n",
       "2    2019-12-09 10:15:00  [tesla, virtual, power, plant, rescue, grid, p...   \n",
       "3    2019-12-08 02:09:00  [capture, 19, flight, space, station, dragon, ...   \n",
       "4    2019-12-07 15:56:00  [huge, thanks, everyone, idea, cybertruck, bet...   \n",
       "..                   ...                                                ...   \n",
       "175   2019-9-28 06:31:00  [starship, launch, facility, cameron, texas, w...   \n",
       "176   2019-9-27 12:25:00                 [make, life, know, multiplanetary]   \n",
       "177   2019-9-27 12:25:00               [starship, allow, u, inhabit, world]   \n",
       "178   2019-9-27 12:14:00                        [starship, half, joinedpic]   \n",
       "179   2019-9-27 11:55:00  [summon, improving, www, reddit, r, teslamotor...   \n",
       "\n",
       "     favorite_count  retweet_count                  hashtags  \\\n",
       "0             12110           2425  [#tesla, #cybertruckpic]   \n",
       "1              5020            767               [#toprated]   \n",
       "2              7280           1004                        []   \n",
       "3             20670           1864                        []   \n",
       "4            155830           5496                        []   \n",
       "..              ...            ...                       ...   \n",
       "175           22533           3553                        []   \n",
       "176           66498           3751                        []   \n",
       "177          129883          11316                        []   \n",
       "178          167195          20452                        []   \n",
       "179           10282            531                        []   \n",
       "\n",
       "               mentions emojis  \n",
       "0    [@ford, @elonmusk]         \n",
       "1              [@tesla]         \n",
       "2                    []         \n",
       "3     [@space_station,]         \n",
       "4                    []         \n",
       "..                  ...    ...  \n",
       "175         [@elonmusk]         \n",
       "176                  []         \n",
       "177                  []         \n",
       "178                  []         \n",
       "179                  []         \n",
       "\n",
       "[180 rows x 7 columns]"
      ]
     },
     "execution_count": 307,
     "metadata": {},
     "output_type": "execute_result"
    }
   ],
   "source": [
    "user_timeline_df = create_timeline_df(user_name)\n",
    "clean_tweet, hashtags, mentions, emojis = [], [], [], []\n",
    "for tweet in user_timeline_df['text']:\n",
    "    tweet, emoji = de_emoji(tweet)\n",
    "    tweet, hashtag, mention = preprocess(tweet)\n",
    "    clean_tweet.append(tweet)\n",
    "    hashtags.append(hashtag)\n",
    "    mentions.append(mention)\n",
    "    emojis.append(emoji)\n",
    "user_timeline_df['text'] = clean_tweet\n",
    "user_timeline_df['hashtags'] = hashtags\n",
    "user_timeline_df['mentions'] = mentions\n",
    "user_timeline_df['emojis'] = emojis\n",
    "user_timeline_df = format_date(user_timeline_df)\n",
    "user_timeline_df"
   ]
  },
  {
   "cell_type": "markdown",
   "metadata": {},
   "source": [
    "Clearly Elon Musk does not use a lot of hashtags or a lot of emojis. This might be because he primarily uses twitter to update people interested in his companies. "
   ]
  },
  {
   "cell_type": "markdown",
   "metadata": {},
   "source": [
    "### Twitter API\n",
    "In order to gather our data about tweets that were posted globally, we will be using Tweepy and the Twitter API. In order to do this, we needed to use an API key and access token, which we have provided in our code below. In our function `get_tweets`, we will be accessing the Twitter API using the Tweepy module. Using this module, we will begin building a CSV file that contains the most popular tweets in each of the six preset categories that we have provided from each of the last seven days. For each of these tweets, we will be getting the screen_name, the time the Tweet was posted, the content of the text, specifically the keyword tokens and the emojis, the favorite count, the retweet count, and the follower count of the author of the tweet. Thus, we use this dataset to analyze the characteristics of the most relevant and popular tweets from each of the six of the preset categories."
   ]
  },
  {
   "cell_type": "code",
   "execution_count": 241,
   "metadata": {
    "scrolled": false
   },
   "outputs": [
    {
     "name": "stdout",
     "output_type": "stream",
     "text": [
      "['Sports', 'Politics', 'Entertainment', 'Education', 'Technology', 'Business', 'huge', 'thanks', 'idea', 'cybertruck', 'better', 'tesla', 'tech2020', 'design', '#tesla', '#tech2020', '#design']\n",
      "Collecting Data for Sports\n",
      "Collecting Data for Politics\n",
      "Collecting Data for Entertainment\n",
      "Collecting Data for Education\n",
      "Collecting Data for Technology\n",
      "Collecting Data for Business\n",
      "Collecting Data for huge\n",
      "Collecting Data for thanks\n",
      "Collecting Data for idea\n",
      "Collecting Data for cybertruck\n",
      "Collecting Data for better\n",
      "Collecting Data for tesla\n",
      "Collecting Data for tech2020\n",
      "Collecting Data for design\n",
      "Collecting Data for #tesla\n",
      "Collecting Data for #tech2020\n",
      "Collecting Data for #design\n"
     ]
    }
   ],
   "source": [
    "\n",
    "def get_tweets():\n",
    "    \n",
    "    ## found from Twitter Developer Account\n",
    "    consumer_key = \"jKh08dfgDeTPztN1rzCpTG7Ub\"\n",
    "    consumer_secret = \"piCHq08QogdkccQjQ4w74ejfNZl0ZLJeN5QDfkyNKp1AUG1nL8\"\n",
    "    access_token = \"968209315285946373-kB1go0AZDLjgR3uw8D04fkekvLNGrM2\"\n",
    "    access_secret = \"49zXLZmjYPdVwIufciUGgM5vtn9YtLD4YehU6pydKCWZY\"\n",
    "    \n",
    "    try:\n",
    "        auth = tweepy.OAuthHandler(consumer_key, consumer_secret)\n",
    "        auth.set_access_token(access_token, access_secret)\n",
    "        api = tweepy.API(auth, wait_on_rate_limit=True)\n",
    "        csvFile = open('final-project-tweets.csv', 'a')\n",
    "\n",
    "        #Use csv writer\n",
    "        csvWriter = csv.writer(csvFile)\n",
    "        ## Writing the column names \n",
    "        csvWriter.writerow([\"category\", \"screen_name\", \"created_at\", \"text\", \"emojis\", \"favorite_count\", \"retweet_count\", \"follower_count\"])\n",
    "        categories = [\"Sports\", \"Politics\", \"Entertainment\", \"Education\", \"Technology\", \"Business\"]\n",
    "        \n",
    "        ## We are also querying the keywords and hashtags used in the tweet our user entered\n",
    "        categories.extend(original_clean_tweet)\n",
    "        categories.extend(original_hashtags)\n",
    "        print(categories)\n",
    "        ## Dates for this week \n",
    "        dates = [\"12-5\", \"12-6\", \"12-7\", \"12-8\", \"12-9\", \"12-10\", \"12-11\"]\n",
    "        for category in categories:\n",
    "            print(\"Collecting Data for \" + category)\n",
    "            for date in range(len(dates)-1):\n",
    "                for tweet in tweepy.Cursor(api.search,q = category,since = \"2019-\"+dates[date],until = \"2019-\"+dates[date+1],lang = \"en\", result_type = 'popular').items():\n",
    "                    text, emojis = de_emoji(tweet.text)\n",
    "                    csvWriter.writerow([category, tweet.user.screen_name, tweet.created_at, text, emojis, tweet.favorite_count, tweet.retweet_count, tweet.user.followers_count])\n",
    "                    time.sleep(.200)\n",
    "        csvFile.close()\n",
    "    except tweepy.error.TweepError:\n",
    "        raise\n",
    "        \n",
    "get_tweets()"
   ]
  },
  {
   "cell_type": "markdown",
   "metadata": {},
   "source": [
    "#### Finally, we read our collected data into a dataframe and process/clean all the tweets. "
   ]
  },
  {
   "cell_type": "code",
   "execution_count": 252,
   "metadata": {},
   "outputs": [
    {
     "data": {
      "text/html": [
       "<div>\n",
       "<style scoped>\n",
       "    .dataframe tbody tr th:only-of-type {\n",
       "        vertical-align: middle;\n",
       "    }\n",
       "\n",
       "    .dataframe tbody tr th {\n",
       "        vertical-align: top;\n",
       "    }\n",
       "\n",
       "    .dataframe thead th {\n",
       "        text-align: right;\n",
       "    }\n",
       "</style>\n",
       "<table border=\"1\" class=\"dataframe\">\n",
       "  <thead>\n",
       "    <tr style=\"text-align: right;\">\n",
       "      <th></th>\n",
       "      <th>category</th>\n",
       "      <th>screen_name</th>\n",
       "      <th>created_at</th>\n",
       "      <th>text</th>\n",
       "      <th>emojis</th>\n",
       "      <th>favorite_count</th>\n",
       "      <th>retweet_count</th>\n",
       "      <th>follower_count</th>\n",
       "      <th>hashtags</th>\n",
       "      <th>mentions</th>\n",
       "    </tr>\n",
       "  </thead>\n",
       "  <tbody>\n",
       "    <tr>\n",
       "      <td>0</td>\n",
       "      <td>Sports</td>\n",
       "      <td>Herve_Renard_HR</td>\n",
       "      <td>2019-12-05 21:02:58</td>\n",
       "      <td>[player, staff, federation, ministry, sport, f...</td>\n",
       "      <td>NaN</td>\n",
       "      <td>7810</td>\n",
       "      <td>6692</td>\n",
       "      <td>153137</td>\n",
       "      <td>[]</td>\n",
       "      <td>[]</td>\n",
       "    </tr>\n",
       "    <tr>\n",
       "      <td>1</td>\n",
       "      <td>Sports</td>\n",
       "      <td>SkySportsNews</td>\n",
       "      <td>2019-12-05 19:18:38</td>\n",
       "      <td>[breaking, silva, ha, sacked, everton, sky, sp...</td>\n",
       "      <td>NaN</td>\n",
       "      <td>30471</td>\n",
       "      <td>7547</td>\n",
       "      <td>6980889</td>\n",
       "      <td>[]</td>\n",
       "      <td>[]</td>\n",
       "    </tr>\n",
       "    <tr>\n",
       "      <td>2</td>\n",
       "      <td>Sports</td>\n",
       "      <td>samirasawlani</td>\n",
       "      <td>2019-12-05 13:51:18</td>\n",
       "      <td>[horrendous, stop, read, organiser, internatio...</td>\n",
       "      <td>NaN</td>\n",
       "      <td>385</td>\n",
       "      <td>618</td>\n",
       "      <td>68095</td>\n",
       "      <td>[]</td>\n",
       "      <td>[]</td>\n",
       "    </tr>\n",
       "    <tr>\n",
       "      <td>3</td>\n",
       "      <td>Sports</td>\n",
       "      <td>Sam4TR</td>\n",
       "      <td>2019-12-05 00:49:11</td>\n",
       "      <td>[remember, clip, kaepernick, slinging, deep, b...</td>\n",
       "      <td>NaN</td>\n",
       "      <td>11888</td>\n",
       "      <td>4488</td>\n",
       "      <td>7635</td>\n",
       "      <td>[]</td>\n",
       "      <td>[]</td>\n",
       "    </tr>\n",
       "    <tr>\n",
       "      <td>4</td>\n",
       "      <td>Sports</td>\n",
       "      <td>sarkodie</td>\n",
       "      <td>2019-12-05 19:26:37</td>\n",
       "      <td>[sunday, guy, 8th, december, accra, sport, sta...</td>\n",
       "      <td>REGIONAL INDICATOR SYMBOL LETTER G,REGIONAL IN...</td>\n",
       "      <td>4343</td>\n",
       "      <td>638</td>\n",
       "      <td>2557905</td>\n",
       "      <td>[]</td>\n",
       "      <td>[]</td>\n",
       "    </tr>\n",
       "    <tr>\n",
       "      <td>...</td>\n",
       "      <td>...</td>\n",
       "      <td>...</td>\n",
       "      <td>...</td>\n",
       "      <td>...</td>\n",
       "      <td>...</td>\n",
       "      <td>...</td>\n",
       "      <td>...</td>\n",
       "      <td>...</td>\n",
       "      <td>...</td>\n",
       "      <td>...</td>\n",
       "    </tr>\n",
       "    <tr>\n",
       "      <td>2026</td>\n",
       "      <td>#design</td>\n",
       "      <td>AldaCenter</td>\n",
       "      <td>2019-12-05 17:40:02</td>\n",
       "      <td>[job, alert, please, rt, hiring, fellow, stem,...</td>\n",
       "      <td>NaN</td>\n",
       "      <td>14</td>\n",
       "      <td>17</td>\n",
       "      <td>17381</td>\n",
       "      <td>[#scicomm, #stem]</td>\n",
       "      <td>[]</td>\n",
       "    </tr>\n",
       "    <tr>\n",
       "      <td>2027</td>\n",
       "      <td>#design</td>\n",
       "      <td>dribbble</td>\n",
       "      <td>2019-12-08 21:28:02</td>\n",
       "      <td>[im, able, freelance, full, time, self, employ...</td>\n",
       "      <td>NaN</td>\n",
       "      <td>56</td>\n",
       "      <td>15</td>\n",
       "      <td>225233</td>\n",
       "      <td>[]</td>\n",
       "      <td>[]</td>\n",
       "    </tr>\n",
       "    <tr>\n",
       "      <td>2028</td>\n",
       "      <td>#design</td>\n",
       "      <td>AudiOfficial</td>\n",
       "      <td>2019-12-09 10:00:07</td>\n",
       "      <td>[starting, week, bang, audi, s8, r, q8, r8, rw...</td>\n",
       "      <td>NaN</td>\n",
       "      <td>563</td>\n",
       "      <td>50</td>\n",
       "      <td>423685</td>\n",
       "      <td>[#audi, #s8,, #rs, #q8, #r8]</td>\n",
       "      <td>[]</td>\n",
       "    </tr>\n",
       "    <tr>\n",
       "      <td>2029</td>\n",
       "      <td>#design</td>\n",
       "      <td>interacting</td>\n",
       "      <td>2019-12-09 18:56:01</td>\n",
       "      <td>[norman, three, level, design, visceral, behav...</td>\n",
       "      <td>NaN</td>\n",
       "      <td>48</td>\n",
       "      <td>16</td>\n",
       "      <td>38997</td>\n",
       "      <td>[#ux, #design]</td>\n",
       "      <td>[]</td>\n",
       "    </tr>\n",
       "    <tr>\n",
       "      <td>2030</td>\n",
       "      <td>#design</td>\n",
       "      <td>AudiOfficial</td>\n",
       "      <td>2019-12-10 11:05:01</td>\n",
       "      <td>[revised, refined, audi, r, 5, rs5, sportback,...</td>\n",
       "      <td>NaN</td>\n",
       "      <td>278</td>\n",
       "      <td>32</td>\n",
       "      <td>423685</td>\n",
       "      <td>[#audi, #rs, #rs5, #design,]</td>\n",
       "      <td>[]</td>\n",
       "    </tr>\n",
       "  </tbody>\n",
       "</table>\n",
       "<p>2031 rows × 10 columns</p>\n",
       "</div>"
      ],
      "text/plain": [
       "     category      screen_name           created_at  \\\n",
       "0      Sports  Herve_Renard_HR  2019-12-05 21:02:58   \n",
       "1      Sports    SkySportsNews  2019-12-05 19:18:38   \n",
       "2      Sports    samirasawlani  2019-12-05 13:51:18   \n",
       "3      Sports           Sam4TR  2019-12-05 00:49:11   \n",
       "4      Sports         sarkodie  2019-12-05 19:26:37   \n",
       "...       ...              ...                  ...   \n",
       "2026  #design       AldaCenter  2019-12-05 17:40:02   \n",
       "2027  #design         dribbble  2019-12-08 21:28:02   \n",
       "2028  #design     AudiOfficial  2019-12-09 10:00:07   \n",
       "2029  #design      interacting  2019-12-09 18:56:01   \n",
       "2030  #design     AudiOfficial  2019-12-10 11:05:01   \n",
       "\n",
       "                                                   text  \\\n",
       "0     [player, staff, federation, ministry, sport, f...   \n",
       "1     [breaking, silva, ha, sacked, everton, sky, sp...   \n",
       "2     [horrendous, stop, read, organiser, internatio...   \n",
       "3     [remember, clip, kaepernick, slinging, deep, b...   \n",
       "4     [sunday, guy, 8th, december, accra, sport, sta...   \n",
       "...                                                 ...   \n",
       "2026  [job, alert, please, rt, hiring, fellow, stem,...   \n",
       "2027  [im, able, freelance, full, time, self, employ...   \n",
       "2028  [starting, week, bang, audi, s8, r, q8, r8, rw...   \n",
       "2029  [norman, three, level, design, visceral, behav...   \n",
       "2030  [revised, refined, audi, r, 5, rs5, sportback,...   \n",
       "\n",
       "                                                 emojis  favorite_count  \\\n",
       "0                                                   NaN            7810   \n",
       "1                                                   NaN           30471   \n",
       "2                                                   NaN             385   \n",
       "3                                                   NaN           11888   \n",
       "4     REGIONAL INDICATOR SYMBOL LETTER G,REGIONAL IN...            4343   \n",
       "...                                                 ...             ...   \n",
       "2026                                                NaN              14   \n",
       "2027                                                NaN              56   \n",
       "2028                                                NaN             563   \n",
       "2029                                                NaN              48   \n",
       "2030                                                NaN             278   \n",
       "\n",
       "      retweet_count  follower_count                      hashtags mentions  \n",
       "0              6692          153137                            []       []  \n",
       "1              7547         6980889                            []       []  \n",
       "2               618           68095                            []       []  \n",
       "3              4488            7635                            []       []  \n",
       "4               638         2557905                            []       []  \n",
       "...             ...             ...                           ...      ...  \n",
       "2026             17           17381             [#scicomm, #stem]       []  \n",
       "2027             15          225233                            []       []  \n",
       "2028             50          423685  [#audi, #s8,, #rs, #q8, #r8]       []  \n",
       "2029             16           38997                [#ux, #design]       []  \n",
       "2030             32          423685  [#audi, #rs, #rs5, #design,]       []  \n",
       "\n",
       "[2031 rows x 10 columns]"
      ]
     },
     "execution_count": 252,
     "metadata": {},
     "output_type": "execute_result"
    }
   ],
   "source": [
    "data = pd.read_csv(\"final-project-tweets.csv\") \n",
    "data = clean_tweets(data)\n",
    "data"
   ]
  },
  {
   "cell_type": "markdown",
   "metadata": {},
   "source": [
    "## Finding the Best Time to Post \n",
    "\n",
    "The first feature of our project that we will explore is the prediction of the best time to post our tweets. The first step to increasing social media engagement is ensuring that your followers actually see the post. This feature is important because we want to ensure that the user will post when their tweet will gain the most exposure or when their followers are most active. In order to do this, we looked at the data from all of the tweet in the given category that we collected from the Twitter API and the data from the user's timeline that we collected from the webscraping."
   ]
  },
  {
   "cell_type": "markdown",
   "metadata": {},
   "source": [
    "### Global\n",
    "\n",
    "In order to analyze the global data that we collected from the Twitter API, we had to process the data in such a way that we could gage the popularity of a tweet. To do this, we created a scale to measure popularity by calculating a popularity ranking to each tweet: (favorite count + retweet count) / (number of followers). This ranking would help us quantify the amount of engagement that a user has with his or her followers. From these rankings, we normalized the rankings, which would help us understand the percentage of active engagement that a user had with his or her followers in their tweet. Thus, using Pandas, in a given category, we were able to complete a time series analysis to better understand which 30 minute interval during a 24 hour period should users post to ensure the highest percentage of engagement. Through this analysis and the data we have collected, we are able to identify a 30 minute interval of when tweets were posted that users have the highest percentage of engagement with their followers. As an example, we have demonstrated if a user were to input 'Politics' as the category of their tweet. From our analysis and our plot, we could find a 30 minute interval of when 'Political' tweets had the highest social media engagment among the most popular 'Political' tweets."
   ]
  },
  {
   "cell_type": "code",
   "execution_count": 253,
   "metadata": {
    "scrolled": true
   },
   "outputs": [],
   "source": [
    "data['created_at'] = pd.DatetimeIndex(data['created_at'])\n",
    "data['created_at'] = data['created_at'].dt.time.astype(str)\n",
    "data['created_at'] = pd.DatetimeIndex(data['created_at'])\n",
    "data['popularity'] = (data['favorite_count'] + data['retweet_count'])/data['follower_count']"
   ]
  },
  {
   "cell_type": "code",
   "execution_count": 254,
   "metadata": {},
   "outputs": [
    {
     "data": {
      "text/html": [
       "<div>\n",
       "<style scoped>\n",
       "    .dataframe tbody tr th:only-of-type {\n",
       "        vertical-align: middle;\n",
       "    }\n",
       "\n",
       "    .dataframe tbody tr th {\n",
       "        vertical-align: top;\n",
       "    }\n",
       "\n",
       "    .dataframe thead th {\n",
       "        text-align: right;\n",
       "    }\n",
       "</style>\n",
       "<table border=\"1\" class=\"dataframe\">\n",
       "  <thead>\n",
       "    <tr style=\"text-align: right;\">\n",
       "      <th></th>\n",
       "      <th>category</th>\n",
       "      <th>screen_name</th>\n",
       "      <th>created_at</th>\n",
       "      <th>text</th>\n",
       "      <th>emojis</th>\n",
       "      <th>favorite_count</th>\n",
       "      <th>retweet_count</th>\n",
       "      <th>follower_count</th>\n",
       "      <th>hashtags</th>\n",
       "      <th>mentions</th>\n",
       "      <th>popularity</th>\n",
       "    </tr>\n",
       "  </thead>\n",
       "  <tbody>\n",
       "    <tr>\n",
       "      <td>0</td>\n",
       "      <td>Sports</td>\n",
       "      <td>Herve_Renard_HR</td>\n",
       "      <td>2019-12-11 21:02:58</td>\n",
       "      <td>[player, staff, federation, ministry, sport, f...</td>\n",
       "      <td>NaN</td>\n",
       "      <td>7810</td>\n",
       "      <td>6692</td>\n",
       "      <td>153137</td>\n",
       "      <td>[]</td>\n",
       "      <td>[]</td>\n",
       "      <td>0.094700</td>\n",
       "    </tr>\n",
       "    <tr>\n",
       "      <td>1</td>\n",
       "      <td>Sports</td>\n",
       "      <td>SkySportsNews</td>\n",
       "      <td>2019-12-11 19:18:38</td>\n",
       "      <td>[breaking, silva, ha, sacked, everton, sky, sp...</td>\n",
       "      <td>NaN</td>\n",
       "      <td>30471</td>\n",
       "      <td>7547</td>\n",
       "      <td>6980889</td>\n",
       "      <td>[]</td>\n",
       "      <td>[]</td>\n",
       "      <td>0.005446</td>\n",
       "    </tr>\n",
       "    <tr>\n",
       "      <td>2</td>\n",
       "      <td>Sports</td>\n",
       "      <td>samirasawlani</td>\n",
       "      <td>2019-12-11 13:51:18</td>\n",
       "      <td>[horrendous, stop, read, organiser, internatio...</td>\n",
       "      <td>NaN</td>\n",
       "      <td>385</td>\n",
       "      <td>618</td>\n",
       "      <td>68095</td>\n",
       "      <td>[]</td>\n",
       "      <td>[]</td>\n",
       "      <td>0.014729</td>\n",
       "    </tr>\n",
       "    <tr>\n",
       "      <td>3</td>\n",
       "      <td>Sports</td>\n",
       "      <td>Sam4TR</td>\n",
       "      <td>2019-12-11 00:49:11</td>\n",
       "      <td>[remember, clip, kaepernick, slinging, deep, b...</td>\n",
       "      <td>NaN</td>\n",
       "      <td>11888</td>\n",
       "      <td>4488</td>\n",
       "      <td>7635</td>\n",
       "      <td>[]</td>\n",
       "      <td>[]</td>\n",
       "      <td>2.144859</td>\n",
       "    </tr>\n",
       "    <tr>\n",
       "      <td>4</td>\n",
       "      <td>Sports</td>\n",
       "      <td>sarkodie</td>\n",
       "      <td>2019-12-11 19:26:37</td>\n",
       "      <td>[sunday, guy, 8th, december, accra, sport, sta...</td>\n",
       "      <td>REGIONAL INDICATOR SYMBOL LETTER G,REGIONAL IN...</td>\n",
       "      <td>4343</td>\n",
       "      <td>638</td>\n",
       "      <td>2557905</td>\n",
       "      <td>[]</td>\n",
       "      <td>[]</td>\n",
       "      <td>0.001947</td>\n",
       "    </tr>\n",
       "  </tbody>\n",
       "</table>\n",
       "</div>"
      ],
      "text/plain": [
       "  category      screen_name          created_at  \\\n",
       "0   Sports  Herve_Renard_HR 2019-12-11 21:02:58   \n",
       "1   Sports    SkySportsNews 2019-12-11 19:18:38   \n",
       "2   Sports    samirasawlani 2019-12-11 13:51:18   \n",
       "3   Sports           Sam4TR 2019-12-11 00:49:11   \n",
       "4   Sports         sarkodie 2019-12-11 19:26:37   \n",
       "\n",
       "                                                text  \\\n",
       "0  [player, staff, federation, ministry, sport, f...   \n",
       "1  [breaking, silva, ha, sacked, everton, sky, sp...   \n",
       "2  [horrendous, stop, read, organiser, internatio...   \n",
       "3  [remember, clip, kaepernick, slinging, deep, b...   \n",
       "4  [sunday, guy, 8th, december, accra, sport, sta...   \n",
       "\n",
       "                                              emojis  favorite_count  \\\n",
       "0                                                NaN            7810   \n",
       "1                                                NaN           30471   \n",
       "2                                                NaN             385   \n",
       "3                                                NaN           11888   \n",
       "4  REGIONAL INDICATOR SYMBOL LETTER G,REGIONAL IN...            4343   \n",
       "\n",
       "   retweet_count  follower_count hashtags mentions  popularity  \n",
       "0           6692          153137       []       []    0.094700  \n",
       "1           7547         6980889       []       []    0.005446  \n",
       "2            618           68095       []       []    0.014729  \n",
       "3           4488            7635       []       []    2.144859  \n",
       "4            638         2557905       []       []    0.001947  "
      ]
     },
     "execution_count": 254,
     "metadata": {},
     "output_type": "execute_result"
    }
   ],
   "source": [
    "data.head()"
   ]
  },
  {
   "cell_type": "code",
   "execution_count": 255,
   "metadata": {
    "scrolled": false
   },
   "outputs": [
    {
     "data": {
      "image/png": "[encoded data removed]",
      "text/plain": [
       "<matplotlib.figure.Figure at 0x1423a5be0>"
      ]
     },
     "metadata": {
      "needs_background": "light"
     },
     "output_type": "display_data"
    }
   ],
   "source": [
    "def get_max_time_category(category):\n",
    "    groups = data.groupby(['category'])\n",
    "    category = groups.get_group(category)\n",
    "    time_grpr = category.groupby(pd.Grouper(key='created_at', freq='30min'))\n",
    "    count_grpr = time_grpr['text'].count()\n",
    "    sum_grpr = time_grpr['popularity'].sum()\n",
    "    popularity = sum_grpr/count_grpr\n",
    "    popularity = (popularity - popularity.min()) / (popularity.max() - popularity.min()) \n",
    "    popularity = popularity.fillna(0)\n",
    "    popularity = popularity.rename('popularity')\n",
    "    popularity_df = popularity.to_frame()\n",
    "    popularity_df['tmpstmp'] = popularity.index\n",
    "    popularity_df['tmpstmp'] = popularity_df['tmpstmp'].dt.time.astype(str)\n",
    "    plt.bar(popularity_df['tmpstmp'],height = popularity_df['popularity'])\n",
    "    max_time = popularity_df['popularity'].idxmax()\n",
    "    return max_time\n",
    "\n",
    "best_time_to_post = get_max_time_category(orig_category)"
   ]
  },
  {
   "cell_type": "markdown",
   "metadata": {},
   "source": [
    "### User Specific\n",
    "\n",
    "In order to analyze the user specific data that we collected from the webscraping, we had to process the data in such a way that we could gage the popularity of a tweet. To do this, we used the same scale to measure the popularity of a tweet as we did in the previous section for the the global tweets. For a specific user, we analyzed all of the posts that the user had on his or her timeline. Using this data, we are able to measure when their posts had the highest percentage of active engagment with his or her followers. Thus, using Pandas, we are able to complete a time series analysis to better understand which 10 minute interval during a 24 hour period should the user post to ensure the highest percentage of engagement. Through this analysis and the data we have collected, we are able to identify a 10 minute interval of when the user's tweets had the highest percentage of engagement with their followers. As an example, we have demonstrated if the user's username was 'elonmusk', we would be able to demonstrate when his tweets have historically had the highest percentage of engagement with his followers."
   ]
  },
  {
   "cell_type": "code",
   "execution_count": 256,
   "metadata": {},
   "outputs": [],
   "source": [
    "consumer_key = \"jKh08dfgDeTPztN1rzCpTG7Ub\"\n",
    "consumer_secret = \"piCHq08QogdkccQjQ4w74ejfNZl0ZLJeN5QDfkyNKp1AUG1nL8\"\n",
    "access_token = \"968209315285946373-kB1go0AZDLjgR3uw8D04fkekvLNGrM2\"\n",
    "access_secret = \"49zXLZmjYPdVwIufciUGgM5vtn9YtLD4YehU6pydKCWZY\"\n",
    "auth = tweepy.OAuthHandler(consumer_key, consumer_secret)\n",
    "auth.set_access_token(access_token, access_secret)\n",
    "api = tweepy.API(auth, wait_on_rate_limit=True)\n",
    "user = api.get_user(user_name)\n",
    "follower_count = user.followers_count"
   ]
  },
  {
   "cell_type": "code",
   "execution_count": 257,
   "metadata": {},
   "outputs": [
    {
     "data": {
      "text/html": [
       "<div>\n",
       "<style scoped>\n",
       "    .dataframe tbody tr th:only-of-type {\n",
       "        vertical-align: middle;\n",
       "    }\n",
       "\n",
       "    .dataframe tbody tr th {\n",
       "        vertical-align: top;\n",
       "    }\n",
       "\n",
       "    .dataframe thead th {\n",
       "        text-align: right;\n",
       "    }\n",
       "</style>\n",
       "<table border=\"1\" class=\"dataframe\">\n",
       "  <thead>\n",
       "    <tr style=\"text-align: right;\">\n",
       "      <th></th>\n",
       "      <th>created_at</th>\n",
       "      <th>text</th>\n",
       "      <th>favorite_count</th>\n",
       "      <th>retweet_count</th>\n",
       "      <th>hashtags</th>\n",
       "      <th>mentions</th>\n",
       "      <th>emojis</th>\n",
       "      <th>popularity</th>\n",
       "    </tr>\n",
       "  </thead>\n",
       "  <tbody>\n",
       "    <tr>\n",
       "      <td>0</td>\n",
       "      <td>2019-12-11 11:25:00</td>\n",
       "      <td>[anymore, excuse, ford, p100d, imagine, cybert...</td>\n",
       "      <td>11181</td>\n",
       "      <td>2269</td>\n",
       "      <td>[#tesla, #cybertruckpic.,,]</td>\n",
       "      <td>[@ford, @elonmusk]</td>\n",
       "      <td></td>\n",
       "      <td>0.012462</td>\n",
       "    </tr>\n",
       "    <tr>\n",
       "      <td>1</td>\n",
       "      <td>2019-12-11 09:15:00</td>\n",
       "      <td>[edmunds, 2020, toprated, best, ev, year, tesl...</td>\n",
       "      <td>4894</td>\n",
       "      <td>751</td>\n",
       "      <td>[#toprated]</td>\n",
       "      <td>[@tesla]</td>\n",
       "      <td></td>\n",
       "      <td>0.002601</td>\n",
       "    </tr>\n",
       "    <tr>\n",
       "      <td>2</td>\n",
       "      <td>2019-12-11 10:15:00</td>\n",
       "      <td>[tesla, virtual, power, plant, rescue, grid, p...</td>\n",
       "      <td>7276</td>\n",
       "      <td>1003</td>\n",
       "      <td>[]</td>\n",
       "      <td>[]</td>\n",
       "      <td></td>\n",
       "      <td>0.005929</td>\n",
       "    </tr>\n",
       "    <tr>\n",
       "      <td>3</td>\n",
       "      <td>2019-12-11 02:09:00</td>\n",
       "      <td>[capture, 19, flight, space, station, dragon, ...</td>\n",
       "      <td>20657</td>\n",
       "      <td>1864</td>\n",
       "      <td>[]</td>\n",
       "      <td>[@space_station,]</td>\n",
       "      <td></td>\n",
       "      <td>0.023923</td>\n",
       "    </tr>\n",
       "    <tr>\n",
       "      <td>4</td>\n",
       "      <td>2019-12-11 15:56:00</td>\n",
       "      <td>[huge, thanks, everyone, idea, cybertruck, bet...</td>\n",
       "      <td>155782</td>\n",
       "      <td>5496</td>\n",
       "      <td>[]</td>\n",
       "      <td>[]</td>\n",
       "      <td></td>\n",
       "      <td>0.199230</td>\n",
       "    </tr>\n",
       "  </tbody>\n",
       "</table>\n",
       "</div>"
      ],
      "text/plain": [
       "           created_at                                               text  \\\n",
       "0 2019-12-11 11:25:00  [anymore, excuse, ford, p100d, imagine, cybert...   \n",
       "1 2019-12-11 09:15:00  [edmunds, 2020, toprated, best, ev, year, tesl...   \n",
       "2 2019-12-11 10:15:00  [tesla, virtual, power, plant, rescue, grid, p...   \n",
       "3 2019-12-11 02:09:00  [capture, 19, flight, space, station, dragon, ...   \n",
       "4 2019-12-11 15:56:00  [huge, thanks, everyone, idea, cybertruck, bet...   \n",
       "\n",
       "   favorite_count  retweet_count                     hashtags  \\\n",
       "0           11181           2269  [#tesla, #cybertruckpic.,,]   \n",
       "1            4894            751                  [#toprated]   \n",
       "2            7276           1003                           []   \n",
       "3           20657           1864                           []   \n",
       "4          155782           5496                           []   \n",
       "\n",
       "             mentions emojis  popularity  \n",
       "0  [@ford, @elonmusk]           0.012462  \n",
       "1            [@tesla]           0.002601  \n",
       "2                  []           0.005929  \n",
       "3   [@space_station,]           0.023923  \n",
       "4                  []           0.199230  "
      ]
     },
     "execution_count": 257,
     "metadata": {},
     "output_type": "execute_result"
    }
   ],
   "source": [
    "user_timeline_df['created_at'] = user_timeline_df['created_at'].astype(str)\n",
    "user_timeline_df['created_at'] = pd.DatetimeIndex(user_timeline_df['created_at'])\n",
    "user_timeline_df['created_at'] = user_timeline_df['created_at'].dt.time.astype(str)\n",
    "user_timeline_df['created_at'] = pd.DatetimeIndex(user_timeline_df['created_at'])\n",
    "user_timeline_df['popularity'] = (user_timeline_df['favorite_count'] + user_timeline_df['retweet_count'])/follower_count\n",
    "user_timeline_df['popularity'] = (user_timeline_df['popularity'] - user_timeline_df['popularity'].min()) / (user_timeline_df['popularity'].max() - user_timeline_df['popularity'].min())\n",
    "user_timeline_df.head()"
   ]
  },
  {
   "cell_type": "code",
   "execution_count": 258,
   "metadata": {},
   "outputs": [
    {
     "data": {
      "image/png": "[encoded data removed]",
      "text/plain": [
       "<matplotlib.figure.Figure at 0x141f18668>"
      ]
     },
     "metadata": {
      "needs_background": "light"
     },
     "output_type": "display_data"
    }
   ],
   "source": [
    "def get_max_time_user():\n",
    "    user_time_grpr = user_timeline_df.groupby(pd.Grouper(key='created_at', freq='10min'))\n",
    "    user_count_grpr = user_time_grpr['text'].count()\n",
    "    user_sum_grpr = user_time_grpr['popularity'].sum()\n",
    "    user_popularity = user_sum_grpr/user_count_grpr\n",
    "    user_popularity = user_popularity.fillna(0)\n",
    "    user_popularity = user_popularity.rename('popularity')\n",
    "    user_popularity_df = user_popularity.to_frame()\n",
    "    user_popularity_df['tmpstmp'] = user_popularity.index\n",
    "    user_popularity_df['tmpstmp'] = user_popularity_df['tmpstmp'].dt.time.astype(str)\n",
    "    plt.bar(user_popularity_df['tmpstmp'],height = user_popularity_df['popularity'])\n",
    "    user_max_time = user_popularity_df['popularity'].idxmax()\n",
    "    return user_max_time\n",
    "\n",
    "best_time_to_post_user = get_max_time_user()"
   ]
  },
  {
   "cell_type": "markdown",
   "metadata": {},
   "source": [
    "## Providing Suggestions for Keywords and Hashtags\n",
    "In order to provide suggestions we attempt to analyse the data collected and identify patterns/trends in the most popular tweets. For the purpose of this project we defined popularity of a tweet based on the following: \n",
    "1. User/Follower Engagement: This is the number of likes/favorites and retweets a particular tweet receieves. We divide this by the total number of followers a user has to give use the \"Likes ratio\" as Gen-Z refers to it. This is done because some users can have 10Million followers but their post only receives 1000 likes, whereas if a user with 1000 followers receives 1000 likes on a post that post definitely has something more significant or interesting to their followers compared to the post that received 1000 likes from 10Million followers. This method of defining popularity of a tweet provides us with a relative score(\"ranking\") for each tweet and the author of that tweet.\n",
    "2. Number of days since the tweet was posted. This week's trends might be very different from last week's trends or trends 1 hour ago might be very different from trends in the present. Consider the fact that this year \"Trump\" was one of the most trending words on twitter, this might not have been this case before he announced his campaign. \n",
    "3. How similar the tweet is to the original tweet entered by the user i.e the tweet the end user of our project wants to optimise. We want our suggestions to be related to what our user is posting about. For example if our user was going to post about their new truck we do not want to suggest to them to include words like \"politics\" or \"corruption\". "
   ]
  },
  {
   "cell_type": "code",
   "execution_count": 259,
   "metadata": {},
   "outputs": [],
   "source": [
    "def make_rankings(data, mode):\n",
    "    ## creating a ranking column\n",
    "    if mode==\"user\":\n",
    "        data['ranking'] = (data['retweet_count'] + data['favorite_count'])\n",
    "    else:\n",
    "        data['ranking'] = (data['retweet_count'] + data['favorite_count'])/data['follower_count']\n",
    "    ## normalising the ranking columns\n",
    "    x = data[['ranking']].values.astype(float)\n",
    "    min_max_scaler = preprocessing.MinMaxScaler()\n",
    "    x_scaled = min_max_scaler.fit_transform(x)\n",
    "    data['ranking'] = 100*pd.DataFrame(x_scaled)\n",
    "    return \n",
    "make_rankings(data,\"regular\")"
   ]
  },
  {
   "cell_type": "code",
   "execution_count": 260,
   "metadata": {},
   "outputs": [
    {
     "data": {
      "text/plain": [
       "<matplotlib.axes._subplots.AxesSubplot at 0x14272e240>"
      ]
     },
     "execution_count": 260,
     "metadata": {},
     "output_type": "execute_result"
    },
    {
     "data": {
      "image/png": "[encoded data removed]",
      "text/plain": [
       "<matplotlib.figure.Figure at 0x14272ee80>"
      ]
     },
     "metadata": {
      "needs_background": "light"
     },
     "output_type": "display_data"
    }
   ],
   "source": [
    "## Visualising Rankings of our collected users \n",
    "fig = plt.figure(figsize = (12,8))\n",
    "ax = fig.gca()\n",
    "ax.set_xlabel(\"Follower engagement ranking (Scale 0-100%)\")\n",
    "ax.set_ylabel(\"Number of posts with ranking\")\n",
    "data['ranking'].plot.hist(bins=10, alpha=0.5, ax=ax)"
   ]
  },
  {
   "cell_type": "markdown",
   "metadata": {},
   "source": [
    "A majority of people on twitter have very poor engagement for their followers. A great reason to start using our project in the market. The benefits of high user/follower engagement can include higher income, higher popularity and even higher happiness for our users. "
   ]
  },
  {
   "cell_type": "markdown",
   "metadata": {},
   "source": [
    "### Number of Seconds Since Each Tweet was Posted\n",
    "This accounts for the fact that social media trends today are not the same as they were last week or last year. We will calculate the time it has been between this present moment and the tweet timestamp. This information is stored in the num_seconds column in our dataframe. "
   ]
  },
  {
   "cell_type": "code",
   "execution_count": 261,
   "metadata": {},
   "outputs": [
    {
     "data": {
      "text/html": [
       "<div>\n",
       "<style scoped>\n",
       "    .dataframe tbody tr th:only-of-type {\n",
       "        vertical-align: middle;\n",
       "    }\n",
       "\n",
       "    .dataframe tbody tr th {\n",
       "        vertical-align: top;\n",
       "    }\n",
       "\n",
       "    .dataframe thead th {\n",
       "        text-align: right;\n",
       "    }\n",
       "</style>\n",
       "<table border=\"1\" class=\"dataframe\">\n",
       "  <thead>\n",
       "    <tr style=\"text-align: right;\">\n",
       "      <th></th>\n",
       "      <th>category</th>\n",
       "      <th>screen_name</th>\n",
       "      <th>created_at</th>\n",
       "      <th>text</th>\n",
       "      <th>emojis</th>\n",
       "      <th>favorite_count</th>\n",
       "      <th>retweet_count</th>\n",
       "      <th>follower_count</th>\n",
       "      <th>hashtags</th>\n",
       "      <th>mentions</th>\n",
       "      <th>popularity</th>\n",
       "      <th>ranking</th>\n",
       "      <th>num_seconds</th>\n",
       "    </tr>\n",
       "  </thead>\n",
       "  <tbody>\n",
       "    <tr>\n",
       "      <td>0</td>\n",
       "      <td>Sports</td>\n",
       "      <td>Herve_Renard_HR</td>\n",
       "      <td>2019-12-11 21:02:58</td>\n",
       "      <td>[player, staff, federation, ministry, sport, f...</td>\n",
       "      <td>NaN</td>\n",
       "      <td>7810</td>\n",
       "      <td>6692</td>\n",
       "      <td>153137</td>\n",
       "      <td>[]</td>\n",
       "      <td>[]</td>\n",
       "      <td>0.094700</td>\n",
       "      <td>1.449749</td>\n",
       "      <td>7828.002644</td>\n",
       "    </tr>\n",
       "    <tr>\n",
       "      <td>1</td>\n",
       "      <td>Sports</td>\n",
       "      <td>SkySportsNews</td>\n",
       "      <td>2019-12-11 19:18:38</td>\n",
       "      <td>[breaking, silva, ha, sacked, everton, sky, sp...</td>\n",
       "      <td>NaN</td>\n",
       "      <td>30471</td>\n",
       "      <td>7547</td>\n",
       "      <td>6980889</td>\n",
       "      <td>[]</td>\n",
       "      <td>[]</td>\n",
       "      <td>0.005446</td>\n",
       "      <td>0.083340</td>\n",
       "      <td>14088.002644</td>\n",
       "    </tr>\n",
       "    <tr>\n",
       "      <td>2</td>\n",
       "      <td>Sports</td>\n",
       "      <td>samirasawlani</td>\n",
       "      <td>2019-12-11 13:51:18</td>\n",
       "      <td>[horrendous, stop, read, organiser, internatio...</td>\n",
       "      <td>NaN</td>\n",
       "      <td>385</td>\n",
       "      <td>618</td>\n",
       "      <td>68095</td>\n",
       "      <td>[]</td>\n",
       "      <td>[]</td>\n",
       "      <td>0.014729</td>\n",
       "      <td>0.225462</td>\n",
       "      <td>33728.002644</td>\n",
       "    </tr>\n",
       "    <tr>\n",
       "      <td>3</td>\n",
       "      <td>Sports</td>\n",
       "      <td>Sam4TR</td>\n",
       "      <td>2019-12-11 00:49:11</td>\n",
       "      <td>[remember, clip, kaepernick, slinging, deep, b...</td>\n",
       "      <td>NaN</td>\n",
       "      <td>11888</td>\n",
       "      <td>4488</td>\n",
       "      <td>7635</td>\n",
       "      <td>[]</td>\n",
       "      <td>[]</td>\n",
       "      <td>2.144859</td>\n",
       "      <td>32.836266</td>\n",
       "      <td>80655.002644</td>\n",
       "    </tr>\n",
       "    <tr>\n",
       "      <td>4</td>\n",
       "      <td>Sports</td>\n",
       "      <td>sarkodie</td>\n",
       "      <td>2019-12-11 19:26:37</td>\n",
       "      <td>[sunday, guy, 8th, december, accra, sport, sta...</td>\n",
       "      <td>REGIONAL INDICATOR SYMBOL LETTER G,REGIONAL IN...</td>\n",
       "      <td>4343</td>\n",
       "      <td>638</td>\n",
       "      <td>2557905</td>\n",
       "      <td>[]</td>\n",
       "      <td>[]</td>\n",
       "      <td>0.001947</td>\n",
       "      <td>0.029777</td>\n",
       "      <td>13609.002644</td>\n",
       "    </tr>\n",
       "  </tbody>\n",
       "</table>\n",
       "</div>"
      ],
      "text/plain": [
       "  category      screen_name          created_at  \\\n",
       "0   Sports  Herve_Renard_HR 2019-12-11 21:02:58   \n",
       "1   Sports    SkySportsNews 2019-12-11 19:18:38   \n",
       "2   Sports    samirasawlani 2019-12-11 13:51:18   \n",
       "3   Sports           Sam4TR 2019-12-11 00:49:11   \n",
       "4   Sports         sarkodie 2019-12-11 19:26:37   \n",
       "\n",
       "                                                text  \\\n",
       "0  [player, staff, federation, ministry, sport, f...   \n",
       "1  [breaking, silva, ha, sacked, everton, sky, sp...   \n",
       "2  [horrendous, stop, read, organiser, internatio...   \n",
       "3  [remember, clip, kaepernick, slinging, deep, b...   \n",
       "4  [sunday, guy, 8th, december, accra, sport, sta...   \n",
       "\n",
       "                                              emojis  favorite_count  \\\n",
       "0                                                NaN            7810   \n",
       "1                                                NaN           30471   \n",
       "2                                                NaN             385   \n",
       "3                                                NaN           11888   \n",
       "4  REGIONAL INDICATOR SYMBOL LETTER G,REGIONAL IN...            4343   \n",
       "\n",
       "   retweet_count  follower_count hashtags mentions  popularity    ranking  \\\n",
       "0           6692          153137       []       []    0.094700   1.449749   \n",
       "1           7547         6980889       []       []    0.005446   0.083340   \n",
       "2            618           68095       []       []    0.014729   0.225462   \n",
       "3           4488            7635       []       []    2.144859  32.836266   \n",
       "4            638         2557905       []       []    0.001947   0.029777   \n",
       "\n",
       "    num_seconds  \n",
       "0   7828.002644  \n",
       "1  14088.002644  \n",
       "2  33728.002644  \n",
       "3  80655.002644  \n",
       "4  13609.002644  "
      ]
     },
     "execution_count": 261,
     "metadata": {},
     "output_type": "execute_result"
    }
   ],
   "source": [
    "def make_num_seconds(data):\n",
    "    now = datetime.now()\n",
    "    diff = []\n",
    "    data['created_at'] = pd.to_datetime(data['created_at'])\n",
    "    time_diff = (now - data['created_at'])\n",
    "    for elem in time_diff:\n",
    "        diff.append(elem.total_seconds())\n",
    "    data['num_seconds'] = diff\n",
    "    return data\n",
    "data = make_num_seconds(data)\n",
    "data.head()"
   ]
  },
  {
   "attachments": {},
   "cell_type": "markdown",
   "metadata": {},
   "source": [
    "### Similarity Between Original Tweet and Each Tweet in Dataframe\n",
    "To compare to tweets we are calculating the cosine similarity between to tweets. Before we can calculate the cosine similarity we need to use a TF-IDF(Term Frequency Inverse Document Frequency) Vectorizer to create a Matrix for the features of each tweet and a Matrix for the features of the user's entered tweet. To create a TF-IDF vectorizer was collect all the words and hashtags in our collected dataset and use that as our vocabulary i.e the tfidf vectorizer is fit to it. We then create feature vectors for tweet_1 and tweet_2. These are Sparse Matrices that need to be compared row by row to find the cosine difference\n",
    "\n",
    "Once we have two matrices (one for the original tweet and one for a tweet in our dataframe), cosine similarity is calculated between two vectors. \n",
    "The cosine similarity is calculated in the following way for two vectors x,y\n",
    "<img src = \"imgs/cs.png\" align = \"center\">"
   ]
  },
  {
   "cell_type": "code",
   "execution_count": 308,
   "metadata": {},
   "outputs": [
    {
     "name": "stdout",
     "output_type": "stream",
     "text": [
      "The results of our cosine similarity\n",
      "Two tweets that are similar: hello carnegie mellon how vs hi carnegie mellon university how are\n",
      "9.15761549577\n",
      "Two tweets that are different: hello carnegie mellon how vs bye mit reject me again\n",
      "5.07016626013\n"
     ]
    }
   ],
   "source": [
    "## Since tweet_1 and tweet_2 are tokenized lists we need a function that does nothing to use tfidf on lists\n",
    "def do_nothing(x):\n",
    "    return x\n",
    "\n",
    "\n",
    "## comparing tweet_2 to the original tweet written by the user \n",
    "def similarity(tweet_1, tweet_2, tfidf):\n",
    "    if len(tweet_2)==0:\n",
    "        return 0.0\n",
    "    features_orig = tfidf.transform(tweet_1)\n",
    "    features_current = tfidf.transform(tweet_2)\n",
    "    cosine = (cosine_similarity(features_orig, features_current))\n",
    "    cosine_total = 0.0\n",
    "    for row in cosine:\n",
    "        cosine_total+= sum(row)\n",
    "    return cosine_total\n",
    "\n",
    "def creat_similarities(data):\n",
    "    similarities = []\n",
    "    ## Creating our vocabulary consisting of all words in tweets and hashtags collected \n",
    "    words =[]\n",
    "    for row in data['text']:\n",
    "            words.append(list(set(row)))\n",
    "    for row in data['hashtags']:\n",
    "        words.append(list(set(row)))\n",
    "        \n",
    "    ## Create tfidf vectorizer based on collected vocabulary\n",
    "    tfidf = TfidfVectorizer(tokenizer=do_nothing,preprocessor=do_nothing)\n",
    "    tfidf.fit(words)\n",
    "    \n",
    "    ## Compare similarity of each tweet in dataframe to user tweet \n",
    "    for text in data['text']:\n",
    "        similarities.append(similarity(original_clean_tweet, text, tfidf))\n",
    "    for i, hash_tag in enumerate(data['hashtags']):\n",
    "        ## only compare hashtags if both tweet1 and tweet2 have hashtags\n",
    "        if len(hash_tag)>0 and len(original_hashtags)>0:\n",
    "            similarities[i]+= similarity(original_hashtags, hash_tag, tfidf)\n",
    "    data['similarity'] = similarities\n",
    "    data['similarity'].fillna(0)\n",
    "    return \n",
    "creat_similarities(data)\n",
    "print(\"The results of our cosine similarity\")\n",
    "print(\"Two tweets that are similar: hello carnegie mellon how vs hi carnegie mellon university how are\")\n",
    "print(similarity([\"hello\", \"carnegie\", \"mellon\", \"how\"], [\"hi\", \"carnegie\", \"mellon\", \"university\", \"how\", \"are\"], tfidf))\n",
    "print(\"Two tweets that are different: hello carnegie mellon how vs bye mit reject me again\")\n",
    "print(similarity([\"hello\", \"carnegie\", \"mellon\", \"how\"], [\"bye\", \"mit\", \"reject\", \"me\", \"again\"], tfidf))"
   ]
  },
  {
   "cell_type": "code",
   "execution_count": 309,
   "metadata": {},
   "outputs": [
    {
     "data": {
      "text/html": [
       "<div>\n",
       "<style scoped>\n",
       "    .dataframe tbody tr th:only-of-type {\n",
       "        vertical-align: middle;\n",
       "    }\n",
       "\n",
       "    .dataframe tbody tr th {\n",
       "        vertical-align: top;\n",
       "    }\n",
       "\n",
       "    .dataframe thead th {\n",
       "        text-align: right;\n",
       "    }\n",
       "</style>\n",
       "<table border=\"1\" class=\"dataframe\">\n",
       "  <thead>\n",
       "    <tr style=\"text-align: right;\">\n",
       "      <th></th>\n",
       "      <th>category</th>\n",
       "      <th>screen_name</th>\n",
       "      <th>created_at</th>\n",
       "      <th>text</th>\n",
       "      <th>emojis</th>\n",
       "      <th>favorite_count</th>\n",
       "      <th>retweet_count</th>\n",
       "      <th>follower_count</th>\n",
       "      <th>hashtags</th>\n",
       "      <th>mentions</th>\n",
       "      <th>popularity</th>\n",
       "      <th>ranking</th>\n",
       "      <th>num_seconds</th>\n",
       "      <th>similarity</th>\n",
       "    </tr>\n",
       "  </thead>\n",
       "  <tbody>\n",
       "    <tr>\n",
       "      <td>0</td>\n",
       "      <td>Sports</td>\n",
       "      <td>Herve_Renard_HR</td>\n",
       "      <td>2019-12-11 21:02:58</td>\n",
       "      <td>[player, staff, federation, ministry, sport, f...</td>\n",
       "      <td>NaN</td>\n",
       "      <td>7810</td>\n",
       "      <td>6692</td>\n",
       "      <td>153137</td>\n",
       "      <td>[]</td>\n",
       "      <td>[]</td>\n",
       "      <td>0.094700</td>\n",
       "      <td>1.449749</td>\n",
       "      <td>7828.002644</td>\n",
       "      <td>18.033894</td>\n",
       "    </tr>\n",
       "    <tr>\n",
       "      <td>1</td>\n",
       "      <td>Sports</td>\n",
       "      <td>SkySportsNews</td>\n",
       "      <td>2019-12-11 19:18:38</td>\n",
       "      <td>[breaking, silva, ha, sacked, everton, sky, sp...</td>\n",
       "      <td>NaN</td>\n",
       "      <td>30471</td>\n",
       "      <td>7547</td>\n",
       "      <td>6980889</td>\n",
       "      <td>[]</td>\n",
       "      <td>[]</td>\n",
       "      <td>0.005446</td>\n",
       "      <td>0.083340</td>\n",
       "      <td>14088.002644</td>\n",
       "      <td>21.595309</td>\n",
       "    </tr>\n",
       "    <tr>\n",
       "      <td>2</td>\n",
       "      <td>Sports</td>\n",
       "      <td>samirasawlani</td>\n",
       "      <td>2019-12-11 13:51:18</td>\n",
       "      <td>[horrendous, stop, read, organiser, internatio...</td>\n",
       "      <td>NaN</td>\n",
       "      <td>385</td>\n",
       "      <td>618</td>\n",
       "      <td>68095</td>\n",
       "      <td>[]</td>\n",
       "      <td>[]</td>\n",
       "      <td>0.014729</td>\n",
       "      <td>0.225462</td>\n",
       "      <td>33728.002644</td>\n",
       "      <td>20.723786</td>\n",
       "    </tr>\n",
       "    <tr>\n",
       "      <td>3</td>\n",
       "      <td>Sports</td>\n",
       "      <td>Sam4TR</td>\n",
       "      <td>2019-12-11 00:49:11</td>\n",
       "      <td>[remember, clip, kaepernick, slinging, deep, b...</td>\n",
       "      <td>NaN</td>\n",
       "      <td>11888</td>\n",
       "      <td>4488</td>\n",
       "      <td>7635</td>\n",
       "      <td>[]</td>\n",
       "      <td>[]</td>\n",
       "      <td>2.144859</td>\n",
       "      <td>32.836266</td>\n",
       "      <td>80655.002644</td>\n",
       "      <td>28.929002</td>\n",
       "    </tr>\n",
       "    <tr>\n",
       "      <td>4</td>\n",
       "      <td>Sports</td>\n",
       "      <td>sarkodie</td>\n",
       "      <td>2019-12-11 19:26:37</td>\n",
       "      <td>[sunday, guy, 8th, december, accra, sport, sta...</td>\n",
       "      <td>REGIONAL INDICATOR SYMBOL LETTER G,REGIONAL IN...</td>\n",
       "      <td>4343</td>\n",
       "      <td>638</td>\n",
       "      <td>2557905</td>\n",
       "      <td>[]</td>\n",
       "      <td>[]</td>\n",
       "      <td>0.001947</td>\n",
       "      <td>0.029777</td>\n",
       "      <td>13609.002644</td>\n",
       "      <td>15.256162</td>\n",
       "    </tr>\n",
       "    <tr>\n",
       "      <td>...</td>\n",
       "      <td>...</td>\n",
       "      <td>...</td>\n",
       "      <td>...</td>\n",
       "      <td>...</td>\n",
       "      <td>...</td>\n",
       "      <td>...</td>\n",
       "      <td>...</td>\n",
       "      <td>...</td>\n",
       "      <td>...</td>\n",
       "      <td>...</td>\n",
       "      <td>...</td>\n",
       "      <td>...</td>\n",
       "      <td>...</td>\n",
       "      <td>...</td>\n",
       "    </tr>\n",
       "    <tr>\n",
       "      <td>2026</td>\n",
       "      <td>#design</td>\n",
       "      <td>AldaCenter</td>\n",
       "      <td>2019-12-11 17:40:02</td>\n",
       "      <td>[job, alert, please, rt, hiring, fellow, stem,...</td>\n",
       "      <td>NaN</td>\n",
       "      <td>14</td>\n",
       "      <td>17</td>\n",
       "      <td>17381</td>\n",
       "      <td>[#scicomm, #stem]</td>\n",
       "      <td>[]</td>\n",
       "      <td>0.001784</td>\n",
       "      <td>0.027270</td>\n",
       "      <td>20004.002644</td>\n",
       "      <td>22.269463</td>\n",
       "    </tr>\n",
       "    <tr>\n",
       "      <td>2027</td>\n",
       "      <td>#design</td>\n",
       "      <td>dribbble</td>\n",
       "      <td>2019-12-11 21:28:02</td>\n",
       "      <td>[im, able, freelance, full, time, self, employ...</td>\n",
       "      <td>NaN</td>\n",
       "      <td>56</td>\n",
       "      <td>15</td>\n",
       "      <td>225233</td>\n",
       "      <td>[]</td>\n",
       "      <td>[]</td>\n",
       "      <td>0.000315</td>\n",
       "      <td>0.004791</td>\n",
       "      <td>6324.002644</td>\n",
       "      <td>35.677633</td>\n",
       "    </tr>\n",
       "    <tr>\n",
       "      <td>2028</td>\n",
       "      <td>#design</td>\n",
       "      <td>AudiOfficial</td>\n",
       "      <td>2019-12-11 10:00:07</td>\n",
       "      <td>[starting, week, bang, audi, s8, r, q8, r8, rw...</td>\n",
       "      <td>NaN</td>\n",
       "      <td>563</td>\n",
       "      <td>50</td>\n",
       "      <td>423685</td>\n",
       "      <td>[#audi, #s8,, #rs, #q8, #r8]</td>\n",
       "      <td>[]</td>\n",
       "      <td>0.001447</td>\n",
       "      <td>0.022115</td>\n",
       "      <td>47599.002644</td>\n",
       "      <td>20.074490</td>\n",
       "    </tr>\n",
       "    <tr>\n",
       "      <td>2029</td>\n",
       "      <td>#design</td>\n",
       "      <td>interacting</td>\n",
       "      <td>2019-12-11 18:56:01</td>\n",
       "      <td>[norman, three, level, design, visceral, behav...</td>\n",
       "      <td>NaN</td>\n",
       "      <td>48</td>\n",
       "      <td>16</td>\n",
       "      <td>38997</td>\n",
       "      <td>[#ux, #design]</td>\n",
       "      <td>[]</td>\n",
       "      <td>0.001641</td>\n",
       "      <td>0.025090</td>\n",
       "      <td>15445.002644</td>\n",
       "      <td>30.028940</td>\n",
       "    </tr>\n",
       "    <tr>\n",
       "      <td>2030</td>\n",
       "      <td>#design</td>\n",
       "      <td>AudiOfficial</td>\n",
       "      <td>2019-12-11 11:05:01</td>\n",
       "      <td>[revised, refined, audi, r, 5, rs5, sportback,...</td>\n",
       "      <td>NaN</td>\n",
       "      <td>278</td>\n",
       "      <td>32</td>\n",
       "      <td>423685</td>\n",
       "      <td>[#audi, #rs, #rs5, #design,]</td>\n",
       "      <td>[]</td>\n",
       "      <td>0.000732</td>\n",
       "      <td>0.011167</td>\n",
       "      <td>43705.002644</td>\n",
       "      <td>28.370790</td>\n",
       "    </tr>\n",
       "  </tbody>\n",
       "</table>\n",
       "<p>2031 rows × 14 columns</p>\n",
       "</div>"
      ],
      "text/plain": [
       "     category      screen_name          created_at  \\\n",
       "0      Sports  Herve_Renard_HR 2019-12-11 21:02:58   \n",
       "1      Sports    SkySportsNews 2019-12-11 19:18:38   \n",
       "2      Sports    samirasawlani 2019-12-11 13:51:18   \n",
       "3      Sports           Sam4TR 2019-12-11 00:49:11   \n",
       "4      Sports         sarkodie 2019-12-11 19:26:37   \n",
       "...       ...              ...                 ...   \n",
       "2026  #design       AldaCenter 2019-12-11 17:40:02   \n",
       "2027  #design         dribbble 2019-12-11 21:28:02   \n",
       "2028  #design     AudiOfficial 2019-12-11 10:00:07   \n",
       "2029  #design      interacting 2019-12-11 18:56:01   \n",
       "2030  #design     AudiOfficial 2019-12-11 11:05:01   \n",
       "\n",
       "                                                   text  \\\n",
       "0     [player, staff, federation, ministry, sport, f...   \n",
       "1     [breaking, silva, ha, sacked, everton, sky, sp...   \n",
       "2     [horrendous, stop, read, organiser, internatio...   \n",
       "3     [remember, clip, kaepernick, slinging, deep, b...   \n",
       "4     [sunday, guy, 8th, december, accra, sport, sta...   \n",
       "...                                                 ...   \n",
       "2026  [job, alert, please, rt, hiring, fellow, stem,...   \n",
       "2027  [im, able, freelance, full, time, self, employ...   \n",
       "2028  [starting, week, bang, audi, s8, r, q8, r8, rw...   \n",
       "2029  [norman, three, level, design, visceral, behav...   \n",
       "2030  [revised, refined, audi, r, 5, rs5, sportback,...   \n",
       "\n",
       "                                                 emojis  favorite_count  \\\n",
       "0                                                   NaN            7810   \n",
       "1                                                   NaN           30471   \n",
       "2                                                   NaN             385   \n",
       "3                                                   NaN           11888   \n",
       "4     REGIONAL INDICATOR SYMBOL LETTER G,REGIONAL IN...            4343   \n",
       "...                                                 ...             ...   \n",
       "2026                                                NaN              14   \n",
       "2027                                                NaN              56   \n",
       "2028                                                NaN             563   \n",
       "2029                                                NaN              48   \n",
       "2030                                                NaN             278   \n",
       "\n",
       "      retweet_count  follower_count                      hashtags mentions  \\\n",
       "0              6692          153137                            []       []   \n",
       "1              7547         6980889                            []       []   \n",
       "2               618           68095                            []       []   \n",
       "3              4488            7635                            []       []   \n",
       "4               638         2557905                            []       []   \n",
       "...             ...             ...                           ...      ...   \n",
       "2026             17           17381             [#scicomm, #stem]       []   \n",
       "2027             15          225233                            []       []   \n",
       "2028             50          423685  [#audi, #s8,, #rs, #q8, #r8]       []   \n",
       "2029             16           38997                [#ux, #design]       []   \n",
       "2030             32          423685  [#audi, #rs, #rs5, #design,]       []   \n",
       "\n",
       "      popularity    ranking   num_seconds  similarity  \n",
       "0       0.094700   1.449749   7828.002644   18.033894  \n",
       "1       0.005446   0.083340  14088.002644   21.595309  \n",
       "2       0.014729   0.225462  33728.002644   20.723786  \n",
       "3       2.144859  32.836266  80655.002644   28.929002  \n",
       "4       0.001947   0.029777  13609.002644   15.256162  \n",
       "...          ...        ...           ...         ...  \n",
       "2026    0.001784   0.027270  20004.002644   22.269463  \n",
       "2027    0.000315   0.004791   6324.002644   35.677633  \n",
       "2028    0.001447   0.022115  47599.002644   20.074490  \n",
       "2029    0.001641   0.025090  15445.002644   30.028940  \n",
       "2030    0.000732   0.011167  43705.002644   28.370790  \n",
       "\n",
       "[2031 rows x 14 columns]"
      ]
     },
     "execution_count": 309,
     "metadata": {},
     "output_type": "execute_result"
    }
   ],
   "source": [
    "data"
   ]
  },
  {
   "cell_type": "markdown",
   "metadata": {},
   "source": [
    "### Finding the Keywords and Hashtags Using Our Rankings\n",
    "We create a dictionary for each word in our dataset and another dictionary for each hashtag in our dataset. Each key in both dictionaries has a score associated with it. When assigning scores to keywords or hashtags we considered the following: \n",
    "1. Higher \"ranking\" or higher (number of likes/favorites + number of retweets)/(number of followers) is better than a lower ranking. Hence this should be added to the words \n",
    "2. Higher similarity is a positive weight, hence this is also added to each word score \n",
    "3. Lower time is a positive weight. The more recent a tweet is the higher likelihood of it containing a recent trend. Hence we divide the score of a word by num_seconds. Words used more recently should have higher scores. "
   ]
  },
  {
   "cell_type": "code",
   "execution_count": 323,
   "metadata": {},
   "outputs": [],
   "source": [
    "def find_keywords_hashtags(data):\n",
    "    keywords = {}\n",
    "    hashtags = {}\n",
    "    for index, row in data.iterrows():\n",
    "        tweet = row[\"text\"]\n",
    "        for word in tweet:\n",
    "            if word in keywords:\n",
    "                keywords[word]+= (row[\"similarity\"]+row[\"ranking\"])/row[\"num_seconds\"]\n",
    "            else:\n",
    "                keywords[word] = (row[\"similarity\"]+row[\"ranking\"])/row[\"num_seconds\"]\n",
    "        for tag in row[\"hashtags\"]:\n",
    "            if tag in hashtags:\n",
    "                hashtags[tag] += (row[\"similarity\"]+row[\"ranking\"])/row[\"num_seconds\"]\n",
    "            else:\n",
    "                hashtags[tag] = (row[\"similarity\"]+row[\"ranking\"])/row[\"num_seconds\"]\n",
    "\n",
    "    best_words = {k: v for k, v in sorted(keywords.items(), key=lambda item: item[1], reverse=True)}\n",
    "    best_tags = {k: v for k, v in sorted(hashtags.items(), key=lambda item: item[1], reverse=True)} \n",
    "    \n",
    "    best_words_list = []\n",
    "    best_tags_list = []\n",
    "    for elem in best_words:\n",
    "        best_words_list.append(elem)\n",
    "    for elem in best_tags:\n",
    "        best_tags_list.append(elem)\n",
    "    \n",
    "    \n",
    "    return best_words, best_tags, best_words_list, best_tags_list"
   ]
  },
  {
   "cell_type": "markdown",
   "metadata": {},
   "source": [
    "## Visualising Our Results\n",
    "We create wordclouds for our list of suggestions. The bigger a word is on the chart the more likely it is to be used. These suggestions are based on the original tweet at the start of this project:\n",
    "\"Huge thanks to everyone who contributed ideas to Cybertruck. It’s better because of you! ♥️♥️♥️ #Tesla #Tech2020 #Design\""
   ]
  },
  {
   "cell_type": "code",
   "execution_count": 325,
   "metadata": {},
   "outputs": [
    {
     "data": {
      "text/plain": [
       "<matplotlib.image.AxesImage at 0x1267c6518>"
      ]
     },
     "execution_count": 325,
     "metadata": {},
     "output_type": "execute_result"
    },
    {
     "data": {
      "image/png": "[encoded data removed]",
      "text/plain": [
       "<matplotlib.figure.Figure at 0x12edd5f28>"
      ]
     },
     "metadata": {
      "needs_background": "light"
     },
     "output_type": "display_data"
    }
   ],
   "source": [
    "best_keywords, best_hashtags, best_words_list, best_tags_list = find_keywords_hashtags(data)\n",
    "fig = plt.figure(figsize = (12,8))\n",
    "wc = WordCloud(background_color=\"black\",width=4000,height=2000, max_words=10,relative_scaling=0.5,normalize_plurals=False).generate_from_frequencies(best_hashtags)\n",
    "plt.imshow(wc)"
   ]
  },
  {
   "cell_type": "markdown",
   "metadata": {},
   "source": [
    "youtuberewind2019, cybertruck, technology, insiders, new all seem like good suggestions to the original tweet. There are still some unrelated suggestions like 4ir, missuniverse"
   ]
  },
  {
   "cell_type": "code",
   "execution_count": 285,
   "metadata": {},
   "outputs": [
    {
     "data": {
      "text/plain": [
       "<matplotlib.image.AxesImage at 0x136d6b7f0>"
      ]
     },
     "execution_count": 285,
     "metadata": {},
     "output_type": "execute_result"
    },
    {
     "data": {
      "image/png": "[encoded data removed]",
      "text/plain": [
       "<matplotlib.figure.Figure at 0x136559898>"
      ]
     },
     "metadata": {
      "needs_background": "light"
     },
     "output_type": "display_data"
    }
   ],
   "source": [
    "fig = plt.figure(figsize = (12,8))\n",
    "wc = WordCloud(background_color=\"black\",width=4000,height=2000, max_words=10,relative_scaling=0.5,normalize_plurals=False).generate_from_frequencies(best_keywords)\n",
    "plt.imshow(wc)"
   ]
  },
  {
   "cell_type": "markdown",
   "metadata": {},
   "source": [
    "Hmm teslarati ? I guess the world really likes teslaratis. \n",
    "Once again latest, tesla, teslarati, amp juice(like car battery juice)seem like relevant and good suggestions but raj and wa seem to be not to useful for our original tweet."
   ]
  },
  {
   "cell_type": "markdown",
   "metadata": {},
   "source": [
    "## Keyword and Hashtag Suggestions Based on Users Timeline Dataframe"
   ]
  },
  {
   "cell_type": "code",
   "execution_count": 326,
   "metadata": {},
   "outputs": [],
   "source": [
    "user_timeline_df['created_at'] = pd.to_datetime(user_timeline_df ['created_at'])\n",
    "creat_similarities(user_timeline_df)\n",
    "make_num_seconds(user_timeline_df)\n",
    "make_rankings(user_timeline_df, \"user\")\n",
    "best_keywords_user, best_hashtags_user, best_words_list_user, best_tags_list_user = find_keywords_hashtags(user_timeline_df)"
   ]
  },
  {
   "cell_type": "code",
   "execution_count": 317,
   "metadata": {
    "scrolled": true
   },
   "outputs": [
    {
     "data": {
      "text/plain": [
       "<matplotlib.image.AxesImage at 0x131719be0>"
      ]
     },
     "execution_count": 317,
     "metadata": {},
     "output_type": "execute_result"
    },
    {
     "data": {
      "image/png": "[encoded data removed]",
      "text/plain": [
       "<matplotlib.figure.Figure at 0x1323234e0>"
      ]
     },
     "metadata": {
      "needs_background": "light"
     },
     "output_type": "display_data"
    }
   ],
   "source": [
    "fig = plt.figure(figsize = (12,8))\n",
    "wc = WordCloud(background_color=\"black\",width=4000,height=2000, max_words=8,relative_scaling=0.5,normalize_plurals=False).generate_from_frequencies(best_hashtags_user)\n",
    "plt.imshow(wc)"
   ]
  },
  {
   "cell_type": "code",
   "execution_count": 318,
   "metadata": {},
   "outputs": [
    {
     "data": {
      "text/plain": [
       "<matplotlib.image.AxesImage at 0x130d27be0>"
      ]
     },
     "execution_count": 318,
     "metadata": {},
     "output_type": "execute_result"
    },
    {
     "data": {
      "image/png": "[encoded data removed]",
      "text/plain": [
       "<matplotlib.figure.Figure at 0x12d44c080>"
      ]
     },
     "metadata": {
      "needs_background": "light"
     },
     "output_type": "display_data"
    }
   ],
   "source": [
    "fig = plt.figure(figsize = (12,8))\n",
    "wc = WordCloud(background_color=\"black\",width=4000,height=2000, max_words=10,relative_scaling=0.5,normalize_plurals=False).generate_from_frequencies(best_keywords_user)\n",
    "plt.imshow(wc)"
   ]
  },
  {
   "cell_type": "markdown",
   "metadata": {},
   "source": [
    "Elon Musk does not use a lot of hashtags in his tweets. It most likely is the case that from all the tweets we collected #toprated was the only one he ever used. "
   ]
  },
  {
   "cell_type": "markdown",
   "metadata": {},
   "source": [
    "## Sentiment Analysis"
   ]
  },
  {
   "cell_type": "markdown",
   "metadata": {},
   "source": [
    "In order to provide the user with insights about the sentiment of their tweets we are using two pre built sentiment classifiers: \n",
    "1. Vader (Valence Aware Dictionary and sEntiment Reasoner)\n",
    "2. TextBlob\n",
    "We then combine the results of both these classifiers to provide the user with a more in detail result. We are using two classifiers because Vader is better suited for social media content as it considers the fact that sentiment of a sentence changes based on emoticons, capitalization or slang(more commonly seen on social media). \n",
    "Vader can provide us with the degree/magnitude of positivity, negativity or neutrality of a text. \n",
    "Example: \"Hello this is nice\", scores={pos:.80, neg: .1, neu: .2}\n",
    "\n",
    "Textblob provides us with the polarity of a sentence i.e scores in range -1 & 1 but we are not given the degree of how neutral a sentence is. These results are then combined with the vader scores to provide the user with an average score from both classifiers. \n",
    "\n",
    "Our users can see the sentiment of the following: \n",
    "1. Their original tweet\n",
    "2. The emojis they are using in the original tweet. Since a lot of users not part of Gen-Z might not actually understand the sentiment of some emojis. \n",
    "3. The hashtags they are using in their original tweet. "
   ]
  },
  {
   "cell_type": "code",
   "execution_count": 290,
   "metadata": {},
   "outputs": [
    {
     "name": "stdout",
     "output_type": "stream",
     "text": [
      "The Sentiment of the original tweet:\n",
      "This text is 38.366666666666674% Positive, 64.1% Neutral, 0.0% Negative \n",
      "The Sentiment of the emojis in the original tweet:\n",
      "This text is 0.0% Positive, 100.0% Neutral, 8.333333333333332% Negative \n",
      "The Sentiment of the hashtags in the original tweet:\n",
      "This text is 0.0% Positive, 100.0% Neutral, 0.0% Negative \n"
     ]
    }
   ],
   "source": [
    "## Vader Sentiment Analyser\n",
    "vader_analyser = SentimentIntensityAnalyzer()\n",
    "def sentiment_analyzer_scores(sentence):\n",
    "    score_vader = analyser.polarity_scores(sentence)\n",
    "    score_text_blob = TextBlob(sentence).sentiment.polarity\n",
    "    if score_text_blob>0:\n",
    "        score_vader['pos']=(score_text_blob+score_vader['pos'])/2\n",
    "    if score_text_blob<0:\n",
    "        score_vader['neg'] =(abs(score_text_blob)+score_vader['neg'])/2\n",
    "    result = \"This text is \"+ str(score_vader['pos']*100) +\"% Positive, \" + str(score_vader['neu']*100) +\"% Neutral, \" + str(score_vader['neg']*100) + \"% Negative \"\n",
    "    return result\n",
    "\n",
    "final_sentiment =\"The Sentiment of the original tweet:\\n\"\n",
    "final_sentiment+=(sentiment_analyzer_scores(orig_tweet_input)+\"\\n\")\n",
    "final_sentiment+=\"The Sentiment of the emojis in the original tweet:\\n\"\n",
    "final_sentiment+= (sentiment_analyzer_scores(orig_emojis)+\"\\n\")\n",
    "final_sentiment+=\"The Sentiment of the hashtags in the original tweet:\\n\"\n",
    "final_sentiment+= sentiment_analyzer_scores(\",\".join(original_hashtags))\n",
    "print(final_sentiment)"
   ]
  },
  {
   "cell_type": "markdown",
   "metadata": {},
   "source": [
    "## Results\n",
    "\n",
    "Now that we have explored all of the features of our project, here are the final results of our project. In order to demonstrate how all of the features of our project work together, we have created an example input to demonstrate a sample response that our project would give. \n",
    "\n",
    "For our example, our user is Elon Musk and his username is 'elonmusk' and he is looking to post this tweet: 'Huge thanks to everyone who contributed ideas to Cybertruck. It’s better because of you! ♥️♥️♥️ #Tesla #Tech2020 #Design'. He has also indicated that the tweet that the category of his tweet is 'Technology'."
   ]
  },
  {
   "cell_type": "markdown",
   "metadata": {},
   "source": [
    "To begin, our application will gather the data from the user's timeline and will gather data regarding the tweets in the given category."
   ]
  },
  {
   "cell_type": "code",
   "execution_count": 343,
   "metadata": {},
   "outputs": [],
   "source": [
    "best_words_list, best_tags_list\n",
    "table = {\"Suggestions\":[\"Best Time to post\", \"Best keywords to use\", \"Best hashtags to use\"], \n",
    "         \"All Collected Twitter Data\": [str(best_time_to_post),str(best_words_list), str(best_tags_list)], \n",
    "         \"User's Timeline Twitter Data\":[str(best_time_to_post_user), str(best_words_list_user), str(best_tags_list_user)]}\n",
    "table = pd.DataFrame.from_dict(table)\n",
    "pd.set_option('display.width', 5000)\n",
    "pd.set_option('display.expand_frame_repr', True)"
   ]
  },
  {
   "cell_type": "code",
   "execution_count": 344,
   "metadata": {},
   "outputs": [
    {
     "data": {
      "text/html": [
       "<div>\n",
       "<style scoped>\n",
       "    .dataframe tbody tr th:only-of-type {\n",
       "        vertical-align: middle;\n",
       "    }\n",
       "\n",
       "    .dataframe tbody tr th {\n",
       "        vertical-align: top;\n",
       "    }\n",
       "\n",
       "    .dataframe thead th {\n",
       "        text-align: right;\n",
       "    }\n",
       "</style>\n",
       "<table border=\"1\" class=\"dataframe\">\n",
       "  <thead>\n",
       "    <tr style=\"text-align: right;\">\n",
       "      <th></th>\n",
       "      <th>Suggestions</th>\n",
       "      <th>All Collected Twitter Data</th>\n",
       "      <th>User's Timeline Twitter Data</th>\n",
       "    </tr>\n",
       "  </thead>\n",
       "  <tbody>\n",
       "    <tr>\n",
       "      <td>0</td>\n",
       "      <td>Best Time to post</td>\n",
       "      <td>2019-12-11 16:00:00</td>\n",
       "      <td>2019-12-11 19:20:00</td>\n",
       "    </tr>\n",
       "    <tr>\n",
       "      <td>1</td>\n",
       "      <td>Best keywords to use</td>\n",
       "      <td>['tesla', 'amp', 'really', 'need', 'teslarati'...</td>\n",
       "      <td>['3', 'tesla', 'model', 'toprated', 'pic', 'ma...</td>\n",
       "    </tr>\n",
       "    <tr>\n",
       "      <td>2</td>\n",
       "      <td>Best hashtags to use</td>\n",
       "      <td>['#technology', '#4ir', '#youtuberewind2019,',...</td>\n",
       "      <td>['#toprated', '#cybertruckpic', '#tesla', '#dr...</td>\n",
       "    </tr>\n",
       "  </tbody>\n",
       "</table>\n",
       "</div>"
      ],
      "text/plain": [
       "            Suggestions                         All Collected Twitter Data                       User's Timeline Twitter Data\n",
       "0     Best Time to post                                2019-12-11 16:00:00                                2019-12-11 19:20:00\n",
       "1  Best keywords to use  ['tesla', 'amp', 'really', 'need', 'teslarati'...  ['3', 'tesla', 'model', 'toprated', 'pic', 'ma...\n",
       "2  Best hashtags to use  ['#technology', '#4ir', '#youtuberewind2019,',...  ['#toprated', '#cybertruckpic', '#tesla', '#dr..."
      ]
     },
     "execution_count": 344,
     "metadata": {},
     "output_type": "execute_result"
    }
   ],
   "source": [
    "table"
   ]
  },
  {
   "cell_type": "markdown",
   "metadata": {},
   "source": [
    "## The Sentiment of your Tweet"
   ]
  },
  {
   "cell_type": "code",
   "execution_count": 322,
   "metadata": {},
   "outputs": [
    {
     "name": "stdout",
     "output_type": "stream",
     "text": [
      "The Sentiment of the original tweet:\n",
      "This text is 38.366666666666674% Positive, 64.1% Neutral, 0.0% Negative \n",
      "The Sentiment of the emojis in the original tweet:\n",
      "This text is 0.0% Positive, 100.0% Neutral, 8.333333333333332% Negative \n",
      "The Sentiment of the hashtags in the original tweet:\n",
      "This text is 0.0% Positive, 100.0% Neutral, 0.0% Negative \n"
     ]
    }
   ],
   "source": [
    "print(final_sentiment)"
   ]
  },
  {
   "cell_type": "markdown",
   "metadata": {},
   "source": [
    "Thus, we have provided four suggestions regarding important factors that a user should consider before posting their tweet. With our application, the user should get much higher social media engagment on each of their tweets if they take our suggestions into consideration. With these suggestions, the user can now identify the best time to post their tweets regarding the category of the content of their tweet, what keywords or hashtags to include, and if the sentiment of their tweet is the same as the sentiment that they are aiming to express."
   ]
  },
  {
   "cell_type": "markdown",
   "metadata": {},
   "source": [
    "## Suggestions for Future Research"
   ]
  },
  {
   "cell_type": "markdown",
   "metadata": {},
   "source": [
    "With more resources and access to data, we would look to actually test our application to ensure that our suggestions can actually improve social media engagement on a user's tweets. We would also suggest adding different methods to calculate the similarity between tweets. Additionally, we would suggest expanding our application to other social media platforms such as Instagram, Facebook, LinkedIn, and etc. We would also suggest expanding our application to analyze the content of images included in a social media post.\n",
    "\n",
    "For additional references and details, here is the documentation for the important modules that were used in this project:\n",
    "- Tweepy: [https://www.tweepy.org/](https://www.tweepy.org/)\n",
    "- Selenium: [https://selenium-python.readthedocs.io/](https://selenium-python.readthedocs.io/)\n",
    "- Pandas: [https://pandas.pydata.org/](https://pandas.pydata.org/)\n",
    "- sklearn: [https://scikit-learn.org/stable/](https://scikit-learn.org/stable/)\n",
    "- TextBlob: [https://textblob.readthedocs.io/en/dev/](https://textblob.readthedocs.io/en/dev/)\n",
    "\n"
   ]
  }
 ],
 "metadata": {
  "kernelspec": {
   "display_name": "py_36_env",
   "language": "python",
   "name": "py_36_env"
  },
  "language_info": {
   "codemirror_mode": {
    "name": "ipython",
    "version": 3
   },
   "file_extension": ".py",
   "mimetype": "text/x-python",
   "name": "python",
   "nbconvert_exporter": "python",
   "pygments_lexer": "ipython3",
   "version": "3.6.8"
  }
 },
 "nbformat": 4,
 "nbformat_minor": 2
}
