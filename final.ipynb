{
 "cells": [
  {
   "cell_type": "markdown",
   "metadata": {},
   "source": [
    "## Introduction\n",
    "At present there are approximately 7.7 billion people in the world with at least 3.5 billion of us online, implying that social media platforms are used by approximately one-in-three people in the world. This sudden growth and adoption has transformed the way we find partners, access news and information, or even how we organize political change and in so many other different ways. Leveraging the power of social media is now more important than ever before. This project aims to optimize social media activity for our users by providing them suggestions based on the analysis of data that we get from the Twitter API. Specifically,our project will have four key features that will provide suggestions on the following: \n",
    "    1. What the best time to post on social media would be \n",
    "    2. What are some keywords to include in a tweet based on post category and trending tweets \n",
    "    3. What are some hashtags to include in a tweet based on post category and trending tweets \n",
    "    4. What is the sentiment of the tweet the user has drafted\n",
    "For this project, we will be focusing specifically on Twitter. We have developed these four features because these are the four main components of a tweet that a user should think about before posting it. We want to ensure that a user is posting their tweet when the most people are going to see it. Additionally, we want to provide the user with suggestions of content, including the words itself and the hashtags, that has shown to be popular. Finally, we also want to ensure that the content that the user inputted is reflecting the same sentiment that they are intending to express."
   ]
  },
  {
   "cell_type": "markdown",
   "metadata": {},
   "source": [
    "## Table of Contents\n",
    "- [Architecture Diagram](#Architecture-Diagram)\n",
    "- [Installing the Libraries](#Installing-the-Libraries)\n",
    "- [User Input](#User-Input)\n",
    "- [Gathering the Data](#Gathering-the-Data)\n",
    "    - [Data Cleaning and Preprocessing](#Data-Cleaning-and-Preprocessing)\n",
    "    - [Webscraping](#Webscraping)\n",
    "    - [Twitter API](#Twitter-API)\n",
    "- [Finding the Best Time to Post](#Finding-the-Best-Time-to-Post)\n",
    "- [Predicting Popular Keywords and Hashtags](#Predicting-Popular-Keywords-and-Hashtags)\n",
    "- [Sentiment Analysis](#Sentiment-Analysis)\n",
    "- [Conclusion](#Conclusion)\n",
    "- [Suggestions for Future Research](#Suggestions-for-Future-Research)\n",
    "- [Additional Resources](#Additional-Resources)"
   ]
  },
  {
   "cell_type": "markdown",
   "metadata": {},
   "source": [
    "## Architecture Diagram\n",
    "\n",
    "Below we have illustrated the pipeline that the data will follow. With our project, we will have the user input their username, the tweet that they intend on posting, and the category or categories of the tweet that the content of their tweet falls under. With this data, we can use the Twitter API to begin building a database of all the tweets that were posted globally that fall under the category that the user inputed. We also use webscraping to build a database of all of the tweets and posts on the users timeline. Thus, for each feature of our project we can provide two suggestions, one that is based off of the global data and one that is user specific. For our global suggestion, we will analyze all of the tweets from any Twitter user globally in the given category and give a suggestion based on the data from all Twitter users in that category. For our user specific suggestion, we will analyze all of the tweets that the user has posted and give a suggestion based on only the data from the user.\n",
    "\n",
    "With this data, we can do a time series analysis to analyze the best time for social media engagment globally for the inputted category, as well as specifically for the user. Additionally, after we have cleaned and processed the data, we can use TFIDF to analyze the most popular keywords and hashtags for all tweets globally within the given category, as well as for all of the tweets of the user. Finally, we can use a sentiment analysis model to analyze the sentiment behind the tweet that the user intends on posting. "
   ]
  },
  {
   "cell_type": "markdown",
   "metadata": {},
   "source": [
    "<img src = \"Capture.png\" align = \"center\">"
   ]
  },
  {
   "cell_type": "markdown",
   "metadata": {},
   "source": [
    "## Installing the Libraries\n",
    "\n",
    "In order to gather the data, we will mainly be using Tweepy and the Twitter API, as well as, Selenium for webscraping. For each component of our project, we will be using different module for each component. For the time component, we will mainly be using Pandas for the time series analysis. For the keywords and hashtags, we will mainly be using the sklearn module. Finally, for the sentiment analysis, we will be using the Textblob and NLTK. "
   ]
  },
  {
   "cell_type": "code",
   "execution_count": 31,
   "metadata": {},
   "outputs": [],
   "source": [
    "import requests\n",
    "import urllib\n",
    "import tweepy\n",
    "import json\n",
    "import csv\n",
    "import pandas as pd\n",
    "from requests.auth import HTTPBasicAuth\n",
    "import matplotlib.pyplot as plt\n",
    "import re\n",
    "import io\n",
    "import time\n",
    "from datetime import datetime\n",
    "from bs4 import BeautifulSoup\n",
    "import unicodedata\n",
    "from unidecode import unidecode\n",
    "\n",
    "import nltk\n",
    "from nltk.corpus import stopwords\n",
    "from sklearn import preprocessing\n",
    "from sklearn.feature_extraction.text import TfidfVectorizer\n",
    "from sklearn.feature_extraction.text import CountVectorizer\n",
    "from sklearn.metrics.pairwise import linear_kernel\n",
    "from sklearn.metrics.pairwise import cosine_similarity\n",
    "\n",
    "from selenium import webdriver\n",
    "from selenium.webdriver.common.keys import Keys\n",
    "from webdriver_manager.chrome import ChromeDriverManager\n",
    "#from webdriver_manager.edge import EdgeDriverManager\n",
    "\n",
    "from wordcloud import WordCloud, STOPWORDS\n",
    "from PIL import Image\n",
    "\n",
    "from textblob import TextBlob\n",
    "from textblob.sentiments import NaiveBayesAnalyzer"
   ]
  },
  {
   "cell_type": "markdown",
   "metadata": {},
   "source": [
    "## User Input\n",
    "\n",
    "We will have the user input their username or Twitter handle to us for webscraping. We will also have the user input the tweet that they intend on posting for sentiment analysis. Finally, we will have the user input the category of their tweet in order to gather data on tweets that are more relevant to the tweet that the user wants to post."
   ]
  },
  {
   "cell_type": "code",
   "execution_count": 4,
   "metadata": {},
   "outputs": [
    {
     "name": "stdout",
     "output_type": "stream",
     "text": [
      "What is your username? elonmusk\n"
     ]
    }
   ],
   "source": [
    "user_name = input(\"What is your username? \")"
   ]
  },
  {
   "cell_type": "code",
   "execution_count": 5,
   "metadata": {},
   "outputs": [
    {
     "name": "stdout",
     "output_type": "stream",
     "text": [
      "What is your tweet? Huge thanks to everyone who contributed ideas to Cybertruck. It’s better because of you! ♥️♥️♥️ #Tesla #Tech2020 #Design\n"
     ]
    }
   ],
   "source": [
    "orig_tweet = input(\"What is your tweet? \")\n",
    "#\"Huge thanks to everyone who contributed ideas to Cybertruck. It’s better because of you! ♥️♥️♥️ #Tesla #Tech2020 #Design\""
   ]
  },
  {
   "cell_type": "code",
   "execution_count": 6,
   "metadata": {},
   "outputs": [
    {
     "name": "stdout",
     "output_type": "stream",
     "text": [
      "What is the category of your tweet? These are the possible categories: Sports, Politics, Entertainment, Education, Technology, Business. Please input the categories comma separated. Education, Technology\n"
     ]
    }
   ],
   "source": [
    "#Possible Categories are: Sports\", \"Politics\", \"Entertainment\", \"Education\", \"Technology\", \"Business\"\n",
    "orig_categories = input(\"What is the category of your tweet? These are the possible categories: Sports, Politics, Entertainment, Education, Technology, Business. Please input the categories comma separated. \")\n",
    "orig_categories = orig_categories.split(\",\")"
   ]
  },
  {
   "cell_type": "markdown",
   "metadata": {},
   "source": [
    "##  Gathering the Data\n",
    "\n",
    "To begin with, we need to gather our data from Twitter. We will be using the Twitter API to get all of the tweets that were posted globally in the specfic inputted category. Then, we will be using webscraping to scrape the all of the posts from the user's timeline. However, in order to use the data that we have gathered, we need to clean and preprocess the data so that we can complete our analyses."
   ]
  },
  {
   "cell_type": "markdown",
   "metadata": {},
   "source": [
    "### Data Cleaning and Preprocessing\n",
    "\n",
    "Below, we have listed out all of the functions that we will need to use in our project in order to process and analyze our data. In order to analyze the content of the user's intended tweet, the content of global tweets, and the content of the tweets on the user's timeline, we will need to replace all characters in each tweet that are not UTF-8 with a description of the emoji, remove all all of the extremely common words, or the stopwords, and break down the tweet into tokens of it's keywords and it's hashtags."
   ]
  },
  {
   "cell_type": "code",
   "execution_count": 13,
   "metadata": {},
   "outputs": [
    {
     "name": "stdout",
     "output_type": "stream",
     "text": [
      "Tweet without emojis: Huge thanks to everyone who contributed ideas to Cybertruck. It's better because of you!  #Tesla #Tech2020 #Design\n",
      "\n",
      "Description of Emojis Used: BLACK HEART SUIT,VARIATION SELECTOR-16,BLACK HEART SUIT,VARIATION SELECTOR-16,BLACK HEART SUIT,VARIATION SELECTOR-16\n"
     ]
    }
   ],
   "source": [
    "### replace emojis with descriptions of the emojis \n",
    "def de_emoji(tweet):\n",
    "    new_tweet = \"\"\n",
    "    emojis = []\n",
    "    for character in tweet:\n",
    "        try:\n",
    "            character.encode(\"ascii\")\n",
    "            new_tweet += character\n",
    "        except UnicodeEncodeError:\n",
    "            replaced = unidecode(str(character))\n",
    "            if replaced != '' and replaced !=\"[?]\":\n",
    "                new_tweet += replaced\n",
    "            else:\n",
    "                try:\n",
    "                    emojis.append(unicodedata.name(character))\n",
    "                except ValueError:\n",
    "                     new_tweet += \"[x]\"\n",
    "    return new_tweet, \",\".join(emojis)\n",
    "orig_tweet, orig_emojis = de_emoji(orig_tweet)\n",
    "print(\"Tweet without emojis: \"+orig_tweet+\"\\n\")\n",
    "print(\"Description of Emojis Used: \"+orig_emojis)"
   ]
  },
  {
   "cell_type": "code",
   "execution_count": 14,
   "metadata": {
    "scrolled": true
   },
   "outputs": [
    {
     "name": "stdout",
     "output_type": "stream",
     "text": [
      "['huge', 'thanks', 'everyone', 'ntributed', 'idea', 'cybertruck', 'better', 'tesla', 'tech2020', 'design'] ['#tesla', '#tech2020', '#design'] []\n"
     ]
    }
   ],
   "source": [
    "lemmatizer=nltk.stem.wordnet.WordNetLemmatizer()\n",
    "def preprocess(tweet):\n",
    "    \n",
    "    ## lowercase\n",
    "    lower_case = tweet.lower()\n",
    "    lower_case= re.sub(\"'s\", \"\", lower_case)\n",
    "    \n",
    "    ## removing apostrophes\n",
    "    lower_case = lower_case.translate(str.maketrans('', '', \"'\"))\n",
    "    lower_case = lower_case.translate(str.maketrans('', '', '\"'))\n",
    "    \n",
    "    ## remove links from tweets\n",
    "    lower_case= re.sub(\"(http://t.co/[a-zA-Z0-9]{10})+\", \",,\", lower_case) \n",
    "    lower_case= re.sub(\"(https://t.co/[a-zA-Z0-9]{10})+\", \",,\", lower_case) \n",
    "    lower_case= re.sub(\"(.com)+\", \",,\", lower_case) \n",
    "    lower_case= re.sub(\"(.co)+\", \",,\", lower_case) \n",
    "    ## removing punctuation, only considering alphanumeric characters\n",
    "    tweet_list = re.split('[^a-zA-Z0-9]', lower_case)\n",
    "    \n",
    "    str_list = [x for x in tweet_list if x != '']\n",
    "    \n",
    "    ## lemmatizing each word\n",
    "    str_list = [lemmatizer.lemmatize(x) for x in str_list]\n",
    "    \n",
    "    ## removing stopwords\n",
    "    str_list = [x for x in str_list if x not in stopwords.words('english')]\n",
    "    \n",
    "    hashtags, mentions = [], []\n",
    "    ## Creating a seperate lists for tweet texts, hashtags(#twitter), mentions(@elonmusk, @carnegiemellon)\n",
    "    for word in lower_case.split():\n",
    "        word = word.strip()\n",
    "        if \"http\" not in word:\n",
    "            if len(word)>0 and word[0]==\"@\":\n",
    "                mentions.append(word)\n",
    "            if len(word)>0 and word[0]==\"#\":\n",
    "                hashtags.append(word)\n",
    "        \n",
    "            \n",
    "    return str_list, hashtags, mentions\n",
    "original_clean_tweet, original_hashtags, original_mentions = preprocess(orig_tweet)\n",
    "print(original_clean_tweet, original_hashtags, original_mentions)"
   ]
  },
  {
   "cell_type": "markdown",
   "metadata": {},
   "source": [
    "#### Cleaning the Data\n",
    "\n",
    "Before we complete any of our analyses, we will be using all of the functions in our `clean_tweets` function to break down the content of our tweets into it's different components that we can analyze."
   ]
  },
  {
   "cell_type": "code",
   "execution_count": 15,
   "metadata": {},
   "outputs": [],
   "source": [
    "## Clean all tweets \n",
    "def clean_tweets(df):\n",
    "    clean_tweet, hashtags, mentions, emojis = [], [], [], []\n",
    "    for tweet in df['text']:\n",
    "        tweet, emoji = de_emoji(tweet)\n",
    "        tweet, hashtag, mention = preprocess(tweet)\n",
    "        clean_tweet.append(tweet)\n",
    "        hashtags.append(hashtag)\n",
    "        mentions.append(mention)\n",
    "        emojis.append(emoji)\n",
    "    df['text'] = clean_tweet\n",
    "    df['hashtags'] = hashtags\n",
    "    df['mentions'] = mentions\n",
    "    return df"
   ]
  },
  {
   "cell_type": "markdown",
   "metadata": {},
   "source": [
    "#### Reformatting the Data\n",
    "\n",
    "We will be using this function to reformat the time data that we are gathering from the webscraping to a DateTimeIndex format for our time series analysis."
   ]
  },
  {
   "cell_type": "code",
   "execution_count": 16,
   "metadata": {},
   "outputs": [],
   "source": [
    "def convert24(str1): \n",
    "    # Checking if last two elements of time \n",
    "    # is AM and first two elements are 12 \n",
    "    if str1[-2:] == \"AM\" and str1[:2] == \"12\": \n",
    "        return \"00\" + str1[2:-2]     \n",
    "    # remove the AM     \n",
    "    elif str1[-2:] == \"AM\": \n",
    "        return str1[:-2] \n",
    "    elif str1[-2:] == \"PM\" and str1[:2] == \"12\": \n",
    "        return str1[:-2] \n",
    "    else: \n",
    "        # add 12 to hours and remove PM \n",
    "        return str(int(str1[:2]) + 12) + str1[2:6] \n",
    "convert24('03:01 PM')\n",
    "\n",
    "def convertMonth(month):\n",
    "    m = {\n",
    "        'Jan': 1,\n",
    "        'Feb': 2,\n",
    "        'Mar': 3,\n",
    "        'Apr':4,\n",
    "         'May':5,\n",
    "         'Jun':6,\n",
    "         'Jul':7,\n",
    "         'Aug':8,\n",
    "         'Sep':9,\n",
    "         'Oct':10,\n",
    "         'Nov':11,\n",
    "         'Dec':12\n",
    "        }\n",
    "    return m[month]  "
   ]
  },
  {
   "cell_type": "code",
   "execution_count": 17,
   "metadata": {
    "scrolled": false
   },
   "outputs": [],
   "source": [
    "def format_date(user_timeline_df):\n",
    "    user_timeline_df['created_at'] = user_timeline_df['created_at'].astype(str)\n",
    "    for index,row in user_timeline_df.iterrows():\n",
    "        #print(row['created_at'])\n",
    "        dash_index = row['created_at'].find(\"-\")\n",
    "        if \":\" in row['created_at'][:2]:\n",
    "            time = '0' + row['created_at'][:dash_index-1]\n",
    "        else:\n",
    "            time = row['created_at'][:dash_index-1]\n",
    "        time = convert24(time)[:-1] + ':00'\n",
    "        #print(row['created_at'][index+2:])\n",
    "        year = row['created_at'][dash_index+2:][-4:] + \"-\"\n",
    "        #print(row['created_at'][dash_index+2:][-8:-5])\n",
    "        month = str(convertMonth(row['created_at'][dash_index+2:][-8:-5])) + '-'\n",
    "        if \" \" in row['created_at'][dash_index+2:][:2]:\n",
    "            day = \"0\" + row['created_at'][dash_index+2:][0]\n",
    "        else:\n",
    "            day = row['created_at'][dash_index+2:][:2]\n",
    "        date = year + month + day\n",
    "        user_timeline_df[index:]['created_at'] = date + \" \" + time\n",
    "    return user_timeline_df\n",
    "    \n",
    "#user_timeline_df = format_date(user_timeline_df)"
   ]
  },
  {
   "cell_type": "markdown",
   "metadata": {},
   "source": [
    "### Webscraping"
   ]
  },
  {
   "cell_type": "code",
   "execution_count": 22,
   "metadata": {},
   "outputs": [],
   "source": [
    "## Scraping the user's timelines\n",
    "def scraped_timeline(content, page, seen_tweets):\n",
    "    soup = BeautifulSoup(page, \"html.parser\")\n",
    "    timeline = soup.select('#timeline li.stream-item')\n",
    "    for i, tweet in enumerate(timeline):\n",
    "        count = tweet.select('span.ProfileTweet-actionCount')\n",
    "        favs = 0.0\n",
    "        retweets = 0.0\n",
    "        for j in range(1, 3):  \n",
    "            elem = count[j]\n",
    "            val = elem.get_text().strip()\n",
    "            num = \"\"\n",
    "            i = 0\n",
    "            while (i<len(val) and not(val[i]== \" \" or val[i]==\"\")):\n",
    "                num+=val[i]\n",
    "                i+=1\n",
    "            if num!=\"\":\n",
    "                num = num.replace(',' , '')\n",
    "                if num.isdigit():\n",
    "                    if j==1:\n",
    "                        retweets = int(num)\n",
    "                    elif j==2:\n",
    "                        favs = int(num)\n",
    "        tweet_text = tweet.select('p.tweet-text')[0].get_text()\n",
    "        tweet_time = tweet.select('a.tweet-timestamp')\n",
    "        for elem in tweet_time:\n",
    "            time = (elem.get('title'))   \n",
    "        if tweet_text not in seen_tweets:\n",
    "            seen_tweets.add(tweet.text)\n",
    "            text = tweet_text\n",
    "            content[\"created_at\"].append(time)\n",
    "            content[\"text\"].append(text)\n",
    "            content[\"favorite_count\"].append(favs)\n",
    "            content[\"retweet_count\"].append(retweets)\n",
    "            \n",
    "    return    "
   ]
  },
  {
   "cell_type": "code",
   "execution_count": 29,
   "metadata": {
    "scrolled": true
   },
   "outputs": [],
   "source": [
    "def create_timeline_df(user_name, no_of_pagedowns=1):\n",
    "    driver = webdriver.Chrome(ChromeDriverManager().install())\n",
    "    browser = driver\n",
    "    url = \"https://twitter.com/\" + user_name\n",
    "    browser.get(url)\n",
    "    time.sleep(1)\n",
    "    elem = browser.find_element_by_tag_name(\"body\")\n",
    "    while no_of_pagedowns>=0:\n",
    "        elem.send_keys(Keys.PAGE_DOWN)\n",
    "        time.sleep(0.2)\n",
    "        no_of_pagedowns-=1\n",
    "\n",
    "    content = {\"created_at\":[], \"text\":[], \"favorite_count\":[], \"retweet_count\":[]}\n",
    "    seen_tweets = set()\n",
    "    html_source = scraped_timeline(content, browser.page_source, seen_tweets)\n",
    "    user_timeline_df = pd.DataFrame.from_dict(content)\n",
    "    return user_timeline_df"
   ]
  },
  {
   "cell_type": "code",
   "execution_count": 33,
   "metadata": {},
   "outputs": [
    {
     "name": "stdout",
     "output_type": "stream",
     "text": [
      "Trying to download new driver from http://chromedriver.storage.googleapis.com/78.0.3904.105/chromedriver_win32.zip\n",
      "Unpack archive C:\\Users\\User\\.wdm\\drivers\\chromedriver\\78.0.3904.105\\win32\\chromedriver.zip\n"
     ]
    },
    {
     "ename": "PermissionError",
     "evalue": "[Errno 13] Permission denied: 'C:\\\\Users\\\\User\\\\.wdm\\\\drivers\\\\chromedriver\\\\78.0.3904.105\\\\win32\\\\chromedriver.exe'",
     "output_type": "error",
     "traceback": [
      "\u001b[1;31m---------------------------------------------------------------------------\u001b[0m",
      "\u001b[1;31mPermissionError\u001b[0m                           Traceback (most recent call last)",
      "\u001b[1;32m<ipython-input-33-4e6efc446328>\u001b[0m in \u001b[0;36m<module>\u001b[1;34m\u001b[0m\n\u001b[1;32m----> 1\u001b[1;33m \u001b[0muser_timeline_df\u001b[0m \u001b[1;33m=\u001b[0m \u001b[0mcreate_timeline_df\u001b[0m\u001b[1;33m(\u001b[0m\u001b[0muser_name\u001b[0m\u001b[1;33m)\u001b[0m\u001b[1;33m\u001b[0m\u001b[1;33m\u001b[0m\u001b[0m\n\u001b[0m\u001b[0;32m      2\u001b[0m \u001b[0mclean_tweet\u001b[0m\u001b[1;33m,\u001b[0m \u001b[0mhashtags\u001b[0m\u001b[1;33m,\u001b[0m \u001b[0mmentions\u001b[0m\u001b[1;33m,\u001b[0m \u001b[0memojis\u001b[0m \u001b[1;33m=\u001b[0m \u001b[1;33m[\u001b[0m\u001b[1;33m]\u001b[0m\u001b[1;33m,\u001b[0m \u001b[1;33m[\u001b[0m\u001b[1;33m]\u001b[0m\u001b[1;33m,\u001b[0m \u001b[1;33m[\u001b[0m\u001b[1;33m]\u001b[0m\u001b[1;33m,\u001b[0m \u001b[1;33m[\u001b[0m\u001b[1;33m]\u001b[0m\u001b[1;33m\u001b[0m\u001b[1;33m\u001b[0m\u001b[0m\n\u001b[0;32m      3\u001b[0m \u001b[1;32mfor\u001b[0m \u001b[0mtweet\u001b[0m \u001b[1;32min\u001b[0m \u001b[0muser_timeline_df\u001b[0m\u001b[1;33m[\u001b[0m\u001b[1;34m'text'\u001b[0m\u001b[1;33m]\u001b[0m\u001b[1;33m:\u001b[0m\u001b[1;33m\u001b[0m\u001b[1;33m\u001b[0m\u001b[0m\n\u001b[0;32m      4\u001b[0m     \u001b[0mtweet\u001b[0m\u001b[1;33m,\u001b[0m \u001b[0memoji\u001b[0m \u001b[1;33m=\u001b[0m \u001b[0mde_emoji\u001b[0m\u001b[1;33m(\u001b[0m\u001b[0mtweet\u001b[0m\u001b[1;33m)\u001b[0m\u001b[1;33m\u001b[0m\u001b[1;33m\u001b[0m\u001b[0m\n\u001b[0;32m      5\u001b[0m     \u001b[0mtweet\u001b[0m\u001b[1;33m,\u001b[0m \u001b[0mhashtag\u001b[0m\u001b[1;33m,\u001b[0m \u001b[0mmention\u001b[0m \u001b[1;33m=\u001b[0m \u001b[0mpreprocess\u001b[0m\u001b[1;33m(\u001b[0m\u001b[0mtweet\u001b[0m\u001b[1;33m)\u001b[0m\u001b[1;33m\u001b[0m\u001b[1;33m\u001b[0m\u001b[0m\n",
      "\u001b[1;32m<ipython-input-29-6a1710e00330>\u001b[0m in \u001b[0;36mcreate_timeline_df\u001b[1;34m(user_name, no_of_pagedowns)\u001b[0m\n\u001b[0;32m      1\u001b[0m \u001b[1;32mdef\u001b[0m \u001b[0mcreate_timeline_df\u001b[0m\u001b[1;33m(\u001b[0m\u001b[0muser_name\u001b[0m\u001b[1;33m,\u001b[0m \u001b[0mno_of_pagedowns\u001b[0m\u001b[1;33m=\u001b[0m\u001b[1;36m1\u001b[0m\u001b[1;33m)\u001b[0m\u001b[1;33m:\u001b[0m\u001b[1;33m\u001b[0m\u001b[1;33m\u001b[0m\u001b[0m\n\u001b[1;32m----> 2\u001b[1;33m     \u001b[0mdriver\u001b[0m \u001b[1;33m=\u001b[0m \u001b[0mwebdriver\u001b[0m\u001b[1;33m.\u001b[0m\u001b[0mChrome\u001b[0m\u001b[1;33m(\u001b[0m\u001b[0mChromeDriverManager\u001b[0m\u001b[1;33m(\u001b[0m\u001b[1;33m)\u001b[0m\u001b[1;33m.\u001b[0m\u001b[0minstall\u001b[0m\u001b[1;33m(\u001b[0m\u001b[1;33m)\u001b[0m\u001b[1;33m)\u001b[0m\u001b[1;33m\u001b[0m\u001b[1;33m\u001b[0m\u001b[0m\n\u001b[0m\u001b[0;32m      3\u001b[0m     \u001b[0mbrowser\u001b[0m \u001b[1;33m=\u001b[0m \u001b[0mdriver\u001b[0m\u001b[1;33m\u001b[0m\u001b[1;33m\u001b[0m\u001b[0m\n\u001b[0;32m      4\u001b[0m     \u001b[0murl\u001b[0m \u001b[1;33m=\u001b[0m \u001b[1;34m\"https://twitter.com/\"\u001b[0m \u001b[1;33m+\u001b[0m \u001b[0muser_name\u001b[0m\u001b[1;33m\u001b[0m\u001b[1;33m\u001b[0m\u001b[0m\n\u001b[0;32m      5\u001b[0m     \u001b[0mbrowser\u001b[0m\u001b[1;33m.\u001b[0m\u001b[0mget\u001b[0m\u001b[1;33m(\u001b[0m\u001b[0murl\u001b[0m\u001b[1;33m)\u001b[0m\u001b[1;33m\u001b[0m\u001b[1;33m\u001b[0m\u001b[0m\n",
      "\u001b[1;32m~\\Anaconda3\\lib\\site-packages\\webdriver_manager\\chrome.py\u001b[0m in \u001b[0;36minstall\u001b[1;34m(self)\u001b[0m\n\u001b[0;32m     22\u001b[0m \u001b[1;33m\u001b[0m\u001b[0m\n\u001b[0;32m     23\u001b[0m     \u001b[1;32mdef\u001b[0m \u001b[0minstall\u001b[0m\u001b[1;33m(\u001b[0m\u001b[0mself\u001b[0m\u001b[1;33m)\u001b[0m\u001b[1;33m:\u001b[0m\u001b[1;33m\u001b[0m\u001b[1;33m\u001b[0m\u001b[0m\n\u001b[1;32m---> 24\u001b[1;33m         \u001b[0mdriver_path\u001b[0m \u001b[1;33m=\u001b[0m \u001b[0mself\u001b[0m\u001b[1;33m.\u001b[0m\u001b[0mdownload_driver\u001b[0m\u001b[1;33m(\u001b[0m\u001b[0mself\u001b[0m\u001b[1;33m.\u001b[0m\u001b[0mdriver\u001b[0m\u001b[1;33m)\u001b[0m\u001b[1;33m\u001b[0m\u001b[1;33m\u001b[0m\u001b[0m\n\u001b[0m\u001b[0;32m     25\u001b[0m \u001b[1;33m\u001b[0m\u001b[0m\n\u001b[0;32m     26\u001b[0m         \u001b[0mos\u001b[0m\u001b[1;33m.\u001b[0m\u001b[0mchmod\u001b[0m\u001b[1;33m(\u001b[0m\u001b[0mdriver_path\u001b[0m\u001b[1;33m,\u001b[0m \u001b[1;36m0o755\u001b[0m\u001b[1;33m)\u001b[0m\u001b[1;33m\u001b[0m\u001b[1;33m\u001b[0m\u001b[0m\n",
      "\u001b[1;32m~\\Anaconda3\\lib\\site-packages\\webdriver_manager\\manager.py\u001b[0m in \u001b[0;36mdownload_driver\u001b[1;34m(self, driver)\u001b[0m\n\u001b[0;32m     37\u001b[0m             \u001b[1;32mreturn\u001b[0m \u001b[0mcached_path\u001b[0m\u001b[1;33m\u001b[0m\u001b[1;33m\u001b[0m\u001b[0m\n\u001b[0;32m     38\u001b[0m \u001b[1;33m\u001b[0m\u001b[0m\n\u001b[1;32m---> 39\u001b[1;33m         \u001b[0mpath\u001b[0m \u001b[1;33m=\u001b[0m \u001b[0mself\u001b[0m\u001b[1;33m.\u001b[0m\u001b[0m__download_and_save_driver_to_cache\u001b[0m\u001b[1;33m(\u001b[0m\u001b[0mdriver\u001b[0m\u001b[1;33m,\u001b[0m \u001b[0mdriver_version\u001b[0m\u001b[1;33m)\u001b[0m\u001b[1;33m\u001b[0m\u001b[1;33m\u001b[0m\u001b[0m\n\u001b[0m\u001b[0;32m     40\u001b[0m \u001b[1;33m\u001b[0m\u001b[0m\n\u001b[0;32m     41\u001b[0m         \u001b[1;32mif\u001b[0m \u001b[0mis_latest\u001b[0m\u001b[1;33m:\u001b[0m\u001b[1;33m\u001b[0m\u001b[1;33m\u001b[0m\u001b[0m\n",
      "\u001b[1;32m~\\Anaconda3\\lib\\site-packages\\webdriver_manager\\manager.py\u001b[0m in \u001b[0;36m__download_and_save_driver_to_cache\u001b[1;34m(self, driver, driver_version)\u001b[0m\n\u001b[0;32m     27\u001b[0m         \u001b[0mresponse\u001b[0m \u001b[1;33m=\u001b[0m \u001b[0mdownload_driver\u001b[0m\u001b[1;33m(\u001b[0m\u001b[0mdriver\u001b[0m\u001b[1;33m.\u001b[0m\u001b[0mget_url\u001b[0m\u001b[1;33m(\u001b[0m\u001b[0mdriver_version\u001b[0m\u001b[1;33m)\u001b[0m\u001b[1;33m)\u001b[0m\u001b[1;33m\u001b[0m\u001b[1;33m\u001b[0m\u001b[0m\n\u001b[0;32m     28\u001b[0m         return self.driver_cache.save_driver_to_cache(response, driver.get_name(), driver_version,\n\u001b[1;32m---> 29\u001b[1;33m                                                       driver.get_os_type())\n\u001b[0m\u001b[0;32m     30\u001b[0m \u001b[1;33m\u001b[0m\u001b[0m\n\u001b[0;32m     31\u001b[0m     \u001b[1;32mdef\u001b[0m \u001b[0mdownload_driver\u001b[0m\u001b[1;33m(\u001b[0m\u001b[0mself\u001b[0m\u001b[1;33m,\u001b[0m \u001b[0mdriver\u001b[0m\u001b[1;33m)\u001b[0m\u001b[1;33m:\u001b[0m\u001b[1;33m\u001b[0m\u001b[1;33m\u001b[0m\u001b[0m\n",
      "\u001b[1;32m~\\Anaconda3\\lib\\site-packages\\webdriver_manager\\driver_cache.py\u001b[0m in \u001b[0;36msave_driver_to_cache\u001b[1;34m(self, response, driver_name, version, os_type)\u001b[0m\n\u001b[0;32m     58\u001b[0m         \u001b[0mfile_path\u001b[0m \u001b[1;33m=\u001b[0m \u001b[0mos\u001b[0m\u001b[1;33m.\u001b[0m\u001b[0mpath\u001b[0m\u001b[1;33m.\u001b[0m\u001b[0mjoin\u001b[0m\u001b[1;33m(\u001b[0m\u001b[0mdriver_path\u001b[0m\u001b[1;33m,\u001b[0m \u001b[0mfilename\u001b[0m\u001b[1;33m)\u001b[0m\u001b[1;33m\u001b[0m\u001b[1;33m\u001b[0m\u001b[0m\n\u001b[0;32m     59\u001b[0m         \u001b[0mwrite_file\u001b[0m\u001b[1;33m(\u001b[0m\u001b[0mresponse\u001b[0m\u001b[1;33m.\u001b[0m\u001b[0mcontent\u001b[0m\u001b[1;33m,\u001b[0m \u001b[0mfile_path\u001b[0m\u001b[1;33m)\u001b[0m\u001b[1;33m\u001b[0m\u001b[1;33m\u001b[0m\u001b[0m\n\u001b[1;32m---> 60\u001b[1;33m         \u001b[0mfiles\u001b[0m \u001b[1;33m=\u001b[0m \u001b[0mself\u001b[0m\u001b[1;33m.\u001b[0m\u001b[0m__unpack\u001b[0m\u001b[1;33m(\u001b[0m\u001b[0mfile_path\u001b[0m\u001b[1;33m)\u001b[0m\u001b[1;33m\u001b[0m\u001b[1;33m\u001b[0m\u001b[0m\n\u001b[0m\u001b[0;32m     61\u001b[0m         \u001b[1;32mreturn\u001b[0m \u001b[0mos\u001b[0m\u001b[1;33m.\u001b[0m\u001b[0mpath\u001b[0m\u001b[1;33m.\u001b[0m\u001b[0mjoin\u001b[0m\u001b[1;33m(\u001b[0m\u001b[0mdriver_path\u001b[0m\u001b[1;33m,\u001b[0m \u001b[0mfiles\u001b[0m\u001b[1;33m[\u001b[0m\u001b[1;36m0\u001b[0m\u001b[1;33m]\u001b[0m\u001b[1;33m)\u001b[0m\u001b[1;33m\u001b[0m\u001b[1;33m\u001b[0m\u001b[0m\n\u001b[0;32m     62\u001b[0m \u001b[1;33m\u001b[0m\u001b[0m\n",
      "\u001b[1;32m~\\Anaconda3\\lib\\site-packages\\webdriver_manager\\driver_cache.py\u001b[0m in \u001b[0;36m__unpack\u001b[1;34m(self, path, to_directory)\u001b[0m\n\u001b[0;32m     97\u001b[0m             \u001b[0mto_directory\u001b[0m \u001b[1;33m=\u001b[0m \u001b[0mos\u001b[0m\u001b[1;33m.\u001b[0m\u001b[0mpath\u001b[0m\u001b[1;33m.\u001b[0m\u001b[0mdirname\u001b[0m\u001b[1;33m(\u001b[0m\u001b[0mpath\u001b[0m\u001b[1;33m)\u001b[0m\u001b[1;33m\u001b[0m\u001b[1;33m\u001b[0m\u001b[0m\n\u001b[0;32m     98\u001b[0m         \u001b[1;32mif\u001b[0m \u001b[0mpath\u001b[0m\u001b[1;33m.\u001b[0m\u001b[0mendswith\u001b[0m\u001b[1;33m(\u001b[0m\u001b[1;34m\".zip\"\u001b[0m\u001b[1;33m)\u001b[0m\u001b[1;33m:\u001b[0m\u001b[1;33m\u001b[0m\u001b[1;33m\u001b[0m\u001b[0m\n\u001b[1;32m---> 99\u001b[1;33m             \u001b[1;32mreturn\u001b[0m \u001b[0mextract_zip\u001b[0m\u001b[1;33m(\u001b[0m\u001b[0mpath\u001b[0m\u001b[1;33m,\u001b[0m \u001b[0mto_directory\u001b[0m\u001b[1;33m)\u001b[0m\u001b[1;33m\u001b[0m\u001b[1;33m\u001b[0m\u001b[0m\n\u001b[0m\u001b[0;32m    100\u001b[0m         \u001b[1;32melse\u001b[0m\u001b[1;33m:\u001b[0m\u001b[1;33m\u001b[0m\u001b[1;33m\u001b[0m\u001b[0m\n\u001b[0;32m    101\u001b[0m             \u001b[0mfile_list\u001b[0m \u001b[1;33m=\u001b[0m \u001b[0mextract_tar_file\u001b[0m\u001b[1;33m(\u001b[0m\u001b[0mpath\u001b[0m\u001b[1;33m,\u001b[0m \u001b[0mto_directory\u001b[0m\u001b[1;33m)\u001b[0m\u001b[1;33m\u001b[0m\u001b[1;33m\u001b[0m\u001b[0m\n",
      "\u001b[1;32m~\\Anaconda3\\lib\\site-packages\\webdriver_manager\\archive.py\u001b[0m in \u001b[0;36mextract_zip\u001b[1;34m(zip_file, to_directory)\u001b[0m\n\u001b[0;32m      5\u001b[0m \u001b[1;32mdef\u001b[0m \u001b[0mextract_zip\u001b[0m\u001b[1;33m(\u001b[0m\u001b[0mzip_file\u001b[0m\u001b[1;33m,\u001b[0m \u001b[0mto_directory\u001b[0m\u001b[1;33m)\u001b[0m\u001b[1;33m:\u001b[0m\u001b[1;33m\u001b[0m\u001b[1;33m\u001b[0m\u001b[0m\n\u001b[0;32m      6\u001b[0m     \u001b[0marchive\u001b[0m \u001b[1;33m=\u001b[0m \u001b[0mzipfile\u001b[0m\u001b[1;33m.\u001b[0m\u001b[0mZipFile\u001b[0m\u001b[1;33m(\u001b[0m\u001b[0mzip_file\u001b[0m\u001b[1;33m)\u001b[0m\u001b[1;33m\u001b[0m\u001b[1;33m\u001b[0m\u001b[0m\n\u001b[1;32m----> 7\u001b[1;33m     \u001b[0marchive\u001b[0m\u001b[1;33m.\u001b[0m\u001b[0mextractall\u001b[0m\u001b[1;33m(\u001b[0m\u001b[0mto_directory\u001b[0m\u001b[1;33m)\u001b[0m\u001b[1;33m\u001b[0m\u001b[1;33m\u001b[0m\u001b[0m\n\u001b[0m\u001b[0;32m      8\u001b[0m     \u001b[1;32mreturn\u001b[0m \u001b[0marchive\u001b[0m\u001b[1;33m.\u001b[0m\u001b[0mnamelist\u001b[0m\u001b[1;33m(\u001b[0m\u001b[1;33m)\u001b[0m\u001b[1;33m\u001b[0m\u001b[1;33m\u001b[0m\u001b[0m\n\u001b[0;32m      9\u001b[0m \u001b[1;33m\u001b[0m\u001b[0m\n",
      "\u001b[1;32m~\\Anaconda3\\lib\\zipfile.py\u001b[0m in \u001b[0;36mextractall\u001b[1;34m(self, path, members, pwd)\u001b[0m\n\u001b[0;32m   1614\u001b[0m \u001b[1;33m\u001b[0m\u001b[0m\n\u001b[0;32m   1615\u001b[0m         \u001b[1;32mfor\u001b[0m \u001b[0mzipinfo\u001b[0m \u001b[1;32min\u001b[0m \u001b[0mmembers\u001b[0m\u001b[1;33m:\u001b[0m\u001b[1;33m\u001b[0m\u001b[1;33m\u001b[0m\u001b[0m\n\u001b[1;32m-> 1616\u001b[1;33m             \u001b[0mself\u001b[0m\u001b[1;33m.\u001b[0m\u001b[0m_extract_member\u001b[0m\u001b[1;33m(\u001b[0m\u001b[0mzipinfo\u001b[0m\u001b[1;33m,\u001b[0m \u001b[0mpath\u001b[0m\u001b[1;33m,\u001b[0m \u001b[0mpwd\u001b[0m\u001b[1;33m)\u001b[0m\u001b[1;33m\u001b[0m\u001b[1;33m\u001b[0m\u001b[0m\n\u001b[0m\u001b[0;32m   1617\u001b[0m \u001b[1;33m\u001b[0m\u001b[0m\n\u001b[0;32m   1618\u001b[0m     \u001b[1;33m@\u001b[0m\u001b[0mclassmethod\u001b[0m\u001b[1;33m\u001b[0m\u001b[1;33m\u001b[0m\u001b[0m\n",
      "\u001b[1;32m~\\Anaconda3\\lib\\zipfile.py\u001b[0m in \u001b[0;36m_extract_member\u001b[1;34m(self, member, targetpath, pwd)\u001b[0m\n\u001b[0;32m   1668\u001b[0m \u001b[1;33m\u001b[0m\u001b[0m\n\u001b[0;32m   1669\u001b[0m         \u001b[1;32mwith\u001b[0m \u001b[0mself\u001b[0m\u001b[1;33m.\u001b[0m\u001b[0mopen\u001b[0m\u001b[1;33m(\u001b[0m\u001b[0mmember\u001b[0m\u001b[1;33m,\u001b[0m \u001b[0mpwd\u001b[0m\u001b[1;33m=\u001b[0m\u001b[0mpwd\u001b[0m\u001b[1;33m)\u001b[0m \u001b[1;32mas\u001b[0m \u001b[0msource\u001b[0m\u001b[1;33m,\u001b[0m\u001b[0;31m \u001b[0m\u001b[0;31m\\\u001b[0m\u001b[1;33m\u001b[0m\u001b[1;33m\u001b[0m\u001b[0m\n\u001b[1;32m-> 1670\u001b[1;33m              \u001b[0mopen\u001b[0m\u001b[1;33m(\u001b[0m\u001b[0mtargetpath\u001b[0m\u001b[1;33m,\u001b[0m \u001b[1;34m\"wb\"\u001b[0m\u001b[1;33m)\u001b[0m \u001b[1;32mas\u001b[0m \u001b[0mtarget\u001b[0m\u001b[1;33m:\u001b[0m\u001b[1;33m\u001b[0m\u001b[1;33m\u001b[0m\u001b[0m\n\u001b[0m\u001b[0;32m   1671\u001b[0m             \u001b[0mshutil\u001b[0m\u001b[1;33m.\u001b[0m\u001b[0mcopyfileobj\u001b[0m\u001b[1;33m(\u001b[0m\u001b[0msource\u001b[0m\u001b[1;33m,\u001b[0m \u001b[0mtarget\u001b[0m\u001b[1;33m)\u001b[0m\u001b[1;33m\u001b[0m\u001b[1;33m\u001b[0m\u001b[0m\n\u001b[0;32m   1672\u001b[0m \u001b[1;33m\u001b[0m\u001b[0m\n",
      "\u001b[1;31mPermissionError\u001b[0m: [Errno 13] Permission denied: 'C:\\\\Users\\\\User\\\\.wdm\\\\drivers\\\\chromedriver\\\\78.0.3904.105\\\\win32\\\\chromedriver.exe'"
     ]
    }
   ],
   "source": [
    "user_timeline_df = create_timeline_df(user_name)\n",
    "clean_tweet, hashtags, mentions, emojis = [], [], [], []\n",
    "for tweet in user_timeline_df['text']:\n",
    "    tweet, emoji = de_emoji(tweet)\n",
    "    tweet, hashtag, mention = preprocess(tweet)\n",
    "    clean_tweet.append(tweet)\n",
    "    hashtags.append(hashtag)\n",
    "    mentions.append(mention)\n",
    "    emojis.append(emoji)\n",
    "user_timeline_df['text'] = clean_tweet\n",
    "user_timeline_df['hashtags'] = hashtags\n",
    "user_timeline_df['mentions'] = mentions\n",
    "user_timeline_df['emojis'] = emojis\n",
    "user_timeline_df = format_date(user_timeline_df)\n",
    "user_timeline_df"
   ]
  },
  {
   "cell_type": "markdown",
   "metadata": {},
   "source": [
    "### Twitter API\n",
    "\n",
    "In order to gather our data about tweets that were posted globally, we will be using Tweepy and the Twitter API. In order to do this, we needed to use an API key and access token, which we have provided in our code below. In our function `get_tweets`, we will be accessing the Twitter API using the Tweepy module. Using this module, we will begin building a CSV file that contains the most popular tweets in each of the six preset categories that we have provided from each of the last seven days. For each of these tweets, we will be getting the screen_name, the time the Tweet was posted, the content of the text, specifically the keyword tokens and the emojis, the favorite count, the retweet count, and the follower count of the author of the tweet. Thus, we use this database to analyze the characteristics of the most relevant and popular tweets from each of the six of the preset categories."
   ]
  },
  {
   "cell_type": "code",
   "execution_count": 40,
   "metadata": {
    "scrolled": false
   },
   "outputs": [],
   "source": [
    "def get_tweets():\n",
    "    consumer_key = \"jKh08dfgDeTPztN1rzCpTG7Ub\"\n",
    "    consumer_secret = \"piCHq08QogdkccQjQ4w74ejfNZl0ZLJeN5QDfkyNKp1AUG1nL8\"\n",
    "    access_token = \"968209315285946373-kB1go0AZDLjgR3uw8D04fkekvLNGrM2\"\n",
    "    access_secret = \"49zXLZmjYPdVwIufciUGgM5vtn9YtLD4YehU6pydKCWZY\"\n",
    "    \n",
    "    try:\n",
    "        auth = tweepy.OAuthHandler(consumer_key, consumer_secret)\n",
    "        auth.set_access_token(access_token, access_secret)\n",
    "        api = tweepy.API(auth, wait_on_rate_limit=True)\n",
    "\n",
    "        csvFile = open('final-project-tweets1.csv', 'a')\n",
    "\n",
    "        #Use csv writer\n",
    "        csvWriter = csv.writer(csvFile)\n",
    "        csvWriter.writerow([\"category\", \"screen_name\", \"created_at\", \"text\", \"emojis\", \"favorite_count\", \"retweet_count\", \"follower_count\"])\n",
    "        categories = [\"Sports\", \"Politics\", \"Entertainment\", \"Education\", \"Technology\", \"Business\"]\n",
    "        dates = [\"12-5\", \"12-6\", \"12-7\", \"12-8\", \"12-9\", \"12-10\", \"12-11\"]\n",
    "        for category in categories:\n",
    "            for date in range(len(dates)-1):\n",
    "                for tweet in tweepy.Cursor(api.search,q = category,since = \"2019-\"+dates[date],until = \"2019-\"+dates[date+1],lang = \"en\", result_type = 'popular').items():\n",
    "                    text, emojis = de_emoji(tweet.text)\n",
    "                    csvWriter.writerow([category, tweet.user.screen_name, tweet.created_at, text, emojis, tweet.favorite_count, tweet.retweet_count, tweet.user.followers_count])\n",
    "                    #print(category, tweet.user.screen_name, tweet.created_at, text, emojis, tweet.favorite_count, tweet.retweet_count, tweet.user.followers_count) #, tweet.get_tweet_sentiment(tweet.test))\n",
    "                    time.sleep(.200)\n",
    "                    #print (tweet.user.screen_name, tweet.created_at, tweet.text)\n",
    "        csvFile.close()\n",
    "    except tweepy.error.TweepError:\n",
    "        raise\n",
    "        \n",
    "get_tweets()"
   ]
  },
  {
   "cell_type": "markdown",
   "metadata": {},
   "source": [
    "## Finding the Best Time to Post \n",
    "\n",
    "The first feature of our project that we will explore is the prediction of the best time to post our tweets. The first step to increasing social media engagement is ensuring that your followers actually see the post. This feature is important because we want to ensure that the user will post when their tweet will gain the most exposure or when their followers are most active. In order to do this, we looked at the data from all of the tweet in the given category that we collected from the Twitter API and the data from the user's timeline that we collected from the webscraping."
   ]
  },
  {
   "cell_type": "markdown",
   "metadata": {},
   "source": [
    "### Global\n",
    "\n",
    "In order to analyze the global data that we collected from the Twitter API, we had to process the data in such a way that we could gage the popularity of a tweet. To do this, we created a scale to measure popularity by calculating a popularity ranking to each tweet: (favorite count + retweet count) / (number of followers). This ranking would help us quantify the amount of engagement that a user has with his or her followers. From these rankings, we normalized the rankings, which would help us understand the percentage of active engagement that a user had with his or her followers in their tweet. Thus, using Pandas, in a given category, we were able to complete a time series analysis to better understand which 30 minute interval during a 24 hour period should users post to ensure the highest percentage of engagement. Through this analysis and the data we have collected, we are able to identify a 30 minute interval of when tweets were posted that users have the highest percentage of engagement with their followers. As an example, we have demonstrated if a user were to input 'Politics' as the category of their tweet. From our analysis and our plot, we could find a 30 minute interval of when 'Political' tweets had the highest social media engagment among the most popular 'Political' tweets."
   ]
  },
  {
   "cell_type": "code",
   "execution_count": 43,
   "metadata": {
    "scrolled": false
   },
   "outputs": [],
   "source": [
    "data = pd.read_csv(\"final-project-tweets1.csv\") \n",
    "data = clean_tweets(data)"
   ]
  },
  {
   "cell_type": "code",
   "execution_count": 44,
   "metadata": {
    "scrolled": true
   },
   "outputs": [],
   "source": [
    "data['created_at'] = pd.DatetimeIndex(data['created_at'])\n",
    "data['created_at'] = data['created_at'].dt.time.astype(str)\n",
    "data['created_at'] = pd.DatetimeIndex(data['created_at'])\n",
    "data['popularity'] = (data['favorite_count'] + data['retweet_count'])/data['follower_count']"
   ]
  },
  {
   "cell_type": "code",
   "execution_count": 48,
   "metadata": {
    "scrolled": false
   },
   "outputs": [
    {
     "data": {
      "text/plain": [
       "Timestamp('2019-12-11 13:30:00', freq='30T')"
      ]
     },
     "execution_count": 48,
     "metadata": {},
     "output_type": "execute_result"
    },
    {
     "data": {
      "image/png": "[encoded data removed]",
      "text/plain": [
       "<Figure size 432x288 with 1 Axes>"
      ]
     },
     "metadata": {
      "needs_background": "light"
     },
     "output_type": "display_data"
    }
   ],
   "source": [
    "def get_max_time_category(category):\n",
    "    groups = data.groupby(['category'])\n",
    "    category = groups.get_group(category)\n",
    "    time_grpr = category.groupby(pd.Grouper(key='created_at', freq='30min'))\n",
    "    count_grpr = time_grpr['text'].count()\n",
    "    sum_grpr = time_grpr['popularity'].sum()\n",
    "    popularity = sum_grpr/count_grpr\n",
    "    popularity = (popularity - popularity.min()) / (popularity.max() - popularity.min()) \n",
    "    popularity = popularity.fillna(0)\n",
    "    popularity = popularity.rename('popularity')\n",
    "    popularity_df = popularity.to_frame()\n",
    "    popularity_df['tmpstmp'] = popularity.index\n",
    "    popularity_df['tmpstmp'] = popularity_df['tmpstmp'].dt.time.astype(str)\n",
    "    plt.bar(popularity_df['tmpstmp'],height = popularity_df['popularity'])\n",
    "    max_time = popularity_df['popularity'].idxmax()\n",
    "    return max_time\n",
    "\n",
    "#Example: the user inputs 'Politics' as the category of their tweet\n",
    "get_max_time_category('Politics')"
   ]
  },
  {
   "cell_type": "markdown",
   "metadata": {},
   "source": [
    "### User Specific\n",
    "\n",
    "In order to analyze the user specific data that we collected from the webscraping, we had to process the data in such a way that we could gage the popularity of a tweet. To do this, we used the same scale to measure the popularity of a tweet as we did in the previous section for the the global tweets. For a specific user, we analyzed all of the posts that the user had on his or her timeline. Using this data, we are able to measure when their posts had the highest percentage of active engagment with his or her followers. Thus, using Pandas, we are able to complete a time series analysis to better understand which 10 minute interval during a 24 hour period should the user post to ensure the highest percentage of engagement. Through this analysis and the data we have collected, we are able to identify a 10 minute interval of when the user's tweets had the highest percentage of engagement with their followers. As an example, we have demonstrated if the user's username was 'elonmusk', we would be able to demonstrate when his tweets have historically had the highest percentage of engagement with his followers."
   ]
  },
  {
   "cell_type": "code",
   "execution_count": 36,
   "metadata": {},
   "outputs": [],
   "source": [
    "consumer_key = \"jKh08dfgDeTPztN1rzCpTG7Ub\"\n",
    "consumer_secret = \"piCHq08QogdkccQjQ4w74ejfNZl0ZLJeN5QDfkyNKp1AUG1nL8\"\n",
    "access_token = \"968209315285946373-kB1go0AZDLjgR3uw8D04fkekvLNGrM2\"\n",
    "access_secret = \"49zXLZmjYPdVwIufciUGgM5vtn9YtLD4YehU6pydKCWZY\"\n",
    "auth = tweepy.OAuthHandler(consumer_key, consumer_secret)\n",
    "auth.set_access_token(access_token, access_secret)\n",
    "api = tweepy.API(auth, wait_on_rate_limit=True)\n",
    "user = api.get_user(user_name)\n",
    "follower_count = user.followers_count"
   ]
  },
  {
   "cell_type": "code",
   "execution_count": 73,
   "metadata": {},
   "outputs": [
    {
     "data": {
      "text/html": [
       "<div>\n",
       "<style scoped>\n",
       "    .dataframe tbody tr th:only-of-type {\n",
       "        vertical-align: middle;\n",
       "    }\n",
       "\n",
       "    .dataframe tbody tr th {\n",
       "        vertical-align: top;\n",
       "    }\n",
       "\n",
       "    .dataframe thead th {\n",
       "        text-align: right;\n",
       "    }\n",
       "</style>\n",
       "<table border=\"1\" class=\"dataframe\">\n",
       "  <thead>\n",
       "    <tr style=\"text-align: right;\">\n",
       "      <th></th>\n",
       "      <th>created_at</th>\n",
       "      <th>text</th>\n",
       "      <th>favorite_count</th>\n",
       "      <th>retweet_count</th>\n",
       "      <th>hashtags</th>\n",
       "      <th>mentions</th>\n",
       "      <th>emojis</th>\n",
       "      <th>popularity</th>\n",
       "    </tr>\n",
       "  </thead>\n",
       "  <tbody>\n",
       "    <tr>\n",
       "      <td>0</td>\n",
       "      <td>2019-12-11 10:15:00</td>\n",
       "      <td>[tesla, virtual, power, plant, rescue, grid, a...</td>\n",
       "      <td>7109</td>\n",
       "      <td>981</td>\n",
       "      <td>[]</td>\n",
       "      <td>[]</td>\n",
       "      <td></td>\n",
       "      <td>0.002598</td>\n",
       "    </tr>\n",
       "    <tr>\n",
       "      <td>1</td>\n",
       "      <td>2019-12-11 02:09:00</td>\n",
       "      <td>[capture, nfirmed, 19, flight, space, station,...</td>\n",
       "      <td>20493</td>\n",
       "      <td>1846</td>\n",
       "      <td>[]</td>\n",
       "      <td>[@space_station,]</td>\n",
       "      <td></td>\n",
       "      <td>0.039697</td>\n",
       "    </tr>\n",
       "    <tr>\n",
       "      <td>2</td>\n",
       "      <td>2019-12-11 15:56:00</td>\n",
       "      <td>[huge, thanks, everyone, ntributed, idea, cybe...</td>\n",
       "      <td>155034</td>\n",
       "      <td>5473</td>\n",
       "      <td>[]</td>\n",
       "      <td>[]</td>\n",
       "      <td></td>\n",
       "      <td>0.399427</td>\n",
       "    </tr>\n",
       "    <tr>\n",
       "      <td>3</td>\n",
       "      <td>2019-12-11 12:55:00</td>\n",
       "      <td>[fa, n, 9, land, urse, still, love, droneship,...</td>\n",
       "      <td>52590</td>\n",
       "      <td>5103</td>\n",
       "      <td>[]</td>\n",
       "      <td>[]</td>\n",
       "      <td></td>\n",
       "      <td>0.131743</td>\n",
       "    </tr>\n",
       "    <tr>\n",
       "      <td>4</td>\n",
       "      <td>2019-12-11 12:19:00</td>\n",
       "      <td>[speed, solves, everythingpic, twitter, dgylfy...</td>\n",
       "      <td>238258</td>\n",
       "      <td>30474</td>\n",
       "      <td>[]</td>\n",
       "      <td>[]</td>\n",
       "      <td></td>\n",
       "      <td>0.681198</td>\n",
       "    </tr>\n",
       "    <tr>\n",
       "      <td>5</td>\n",
       "      <td>2019-12-11 20:46:00</td>\n",
       "      <td>[super, strong, roof, generates, clean, energy...</td>\n",
       "      <td>46017</td>\n",
       "      <td>3877</td>\n",
       "      <td>[]</td>\n",
       "      <td>[]</td>\n",
       "      <td></td>\n",
       "      <td>0.111438</td>\n",
       "    </tr>\n",
       "    <tr>\n",
       "      <td>6</td>\n",
       "      <td>2019-12-11 09:43:00</td>\n",
       "      <td>[dragon, solar, array, deployed, way, internat...</td>\n",
       "      <td>19221</td>\n",
       "      <td>2229</td>\n",
       "      <td>[]</td>\n",
       "      <td>[@space_station]</td>\n",
       "      <td></td>\n",
       "      <td>0.037382</td>\n",
       "    </tr>\n",
       "    <tr>\n",
       "      <td>7</td>\n",
       "      <td>2019-12-11 09:30:00</td>\n",
       "      <td>[liftoff, pic, twitter, 4w7otmnay1]</td>\n",
       "      <td>39696</td>\n",
       "      <td>5053</td>\n",
       "      <td>[]</td>\n",
       "      <td>[]</td>\n",
       "      <td></td>\n",
       "      <td>0.098043</td>\n",
       "    </tr>\n",
       "    <tr>\n",
       "      <td>8</td>\n",
       "      <td>2019-12-11 09:14:00</td>\n",
       "      <td>[webcast, fa, n, 9, launch, livehttps, twitter...</td>\n",
       "      <td>13455</td>\n",
       "      <td>3284</td>\n",
       "      <td>[]</td>\n",
       "      <td>[]</td>\n",
       "      <td></td>\n",
       "      <td>0.025117</td>\n",
       "    </tr>\n",
       "    <tr>\n",
       "      <td>9</td>\n",
       "      <td>2019-12-11 06:27:00</td>\n",
       "      <td>[fa, n, 9, launch, dragon, targeted, 12, 29, p...</td>\n",
       "      <td>11331</td>\n",
       "      <td>1458</td>\n",
       "      <td>[]</td>\n",
       "      <td>[]</td>\n",
       "      <td></td>\n",
       "      <td>0.014833</td>\n",
       "    </tr>\n",
       "    <tr>\n",
       "      <td>10</td>\n",
       "      <td>2019-12-11 08:59:00</td>\n",
       "      <td>[30, minute, fa, n, 9, launch, dragon, weather...</td>\n",
       "      <td>7058</td>\n",
       "      <td>795</td>\n",
       "      <td>[]</td>\n",
       "      <td>[]</td>\n",
       "      <td></td>\n",
       "      <td>0.001981</td>\n",
       "    </tr>\n",
       "    <tr>\n",
       "      <td>11</td>\n",
       "      <td>2019-12-11 09:12:00</td>\n",
       "      <td>[standing, today, due, upper, altitude, wind, ...</td>\n",
       "      <td>13225</td>\n",
       "      <td>1372</td>\n",
       "      <td>[]</td>\n",
       "      <td>[]</td>\n",
       "      <td></td>\n",
       "      <td>0.019540</td>\n",
       "    </tr>\n",
       "    <tr>\n",
       "      <td>12</td>\n",
       "      <td>2019-12-11 09:32:00</td>\n",
       "      <td>[model, x, earned, 5, star, euro, ncap, safety...</td>\n",
       "      <td>23292</td>\n",
       "      <td>2456</td>\n",
       "      <td>[]</td>\n",
       "      <td>[]</td>\n",
       "      <td></td>\n",
       "      <td>0.048572</td>\n",
       "    </tr>\n",
       "    <tr>\n",
       "      <td>13</td>\n",
       "      <td>2019-12-11 04:25:00</td>\n",
       "      <td>[fa, n, 9, dragon, vertical, ahead, today, res...</td>\n",
       "      <td>16079</td>\n",
       "      <td>2145</td>\n",
       "      <td>[]</td>\n",
       "      <td>[@space_station.]</td>\n",
       "      <td></td>\n",
       "      <td>0.028983</td>\n",
       "    </tr>\n",
       "    <tr>\n",
       "      <td>14</td>\n",
       "      <td>2019-12-11 10:00:00</td>\n",
       "      <td>[spacex, fa, n, 9, dragon, preparing, dec, 4, ...</td>\n",
       "      <td>6339</td>\n",
       "      <td>753</td>\n",
       "      <td>[]</td>\n",
       "      <td>[@spacex, @space_station.]</td>\n",
       "      <td></td>\n",
       "      <td>0.000000</td>\n",
       "    </tr>\n",
       "    <tr>\n",
       "      <td>15</td>\n",
       "      <td>2019-12-11 18:45:00</td>\n",
       "      <td>[launching, third, flight, dragon, spacecraft,...</td>\n",
       "      <td>34574</td>\n",
       "      <td>2333</td>\n",
       "      <td>[]</td>\n",
       "      <td>[@space_station]</td>\n",
       "      <td></td>\n",
       "      <td>0.077625</td>\n",
       "    </tr>\n",
       "    <tr>\n",
       "      <td>16</td>\n",
       "      <td>2019-12-11 15:30:00</td>\n",
       "      <td>[november, 21, 2019, elonmusk, unveiled, large...</td>\n",
       "      <td>14452</td>\n",
       "      <td>2094</td>\n",
       "      <td>[]</td>\n",
       "      <td>[@elonmusk, @teslapic.twitter,,/pgkelcwhzb]</td>\n",
       "      <td></td>\n",
       "      <td>0.024614</td>\n",
       "    </tr>\n",
       "    <tr>\n",
       "      <td>17</td>\n",
       "      <td>2019-12-11 15:18:00</td>\n",
       "      <td>[people, often, think, theyre, breathing, oxyg...</td>\n",
       "      <td>345986</td>\n",
       "      <td>45194</td>\n",
       "      <td>[]</td>\n",
       "      <td>[]</td>\n",
       "      <td></td>\n",
       "      <td>1.000000</td>\n",
       "    </tr>\n",
       "    <tr>\n",
       "      <td>18</td>\n",
       "      <td>2019-12-11 12:45:00</td>\n",
       "      <td>[hydrogen, light, odorless, gas, given, enough...</td>\n",
       "      <td>183535</td>\n",
       "      <td>13641</td>\n",
       "      <td>[]</td>\n",
       "      <td>[]</td>\n",
       "      <td></td>\n",
       "      <td>0.494897</td>\n",
       "    </tr>\n",
       "    <tr>\n",
       "      <td>19</td>\n",
       "      <td>2019-12-11 01:05:00</td>\n",
       "      <td>[artificial]</td>\n",
       "      <td>119858</td>\n",
       "      <td>2724</td>\n",
       "      <td>[]</td>\n",
       "      <td>[]</td>\n",
       "      <td></td>\n",
       "      <td>0.300686</td>\n",
       "    </tr>\n",
       "  </tbody>\n",
       "</table>\n",
       "</div>"
      ],
      "text/plain": [
       "            created_at                                               text  \\\n",
       "0  2019-12-11 10:15:00  [tesla, virtual, power, plant, rescue, grid, a...   \n",
       "1  2019-12-11 02:09:00  [capture, nfirmed, 19, flight, space, station,...   \n",
       "2  2019-12-11 15:56:00  [huge, thanks, everyone, ntributed, idea, cybe...   \n",
       "3  2019-12-11 12:55:00  [fa, n, 9, land, urse, still, love, droneship,...   \n",
       "4  2019-12-11 12:19:00  [speed, solves, everythingpic, twitter, dgylfy...   \n",
       "5  2019-12-11 20:46:00  [super, strong, roof, generates, clean, energy...   \n",
       "6  2019-12-11 09:43:00  [dragon, solar, array, deployed, way, internat...   \n",
       "7  2019-12-11 09:30:00                [liftoff, pic, twitter, 4w7otmnay1]   \n",
       "8  2019-12-11 09:14:00  [webcast, fa, n, 9, launch, livehttps, twitter...   \n",
       "9  2019-12-11 06:27:00  [fa, n, 9, launch, dragon, targeted, 12, 29, p...   \n",
       "10 2019-12-11 08:59:00  [30, minute, fa, n, 9, launch, dragon, weather...   \n",
       "11 2019-12-11 09:12:00  [standing, today, due, upper, altitude, wind, ...   \n",
       "12 2019-12-11 09:32:00  [model, x, earned, 5, star, euro, ncap, safety...   \n",
       "13 2019-12-11 04:25:00  [fa, n, 9, dragon, vertical, ahead, today, res...   \n",
       "14 2019-12-11 10:00:00  [spacex, fa, n, 9, dragon, preparing, dec, 4, ...   \n",
       "15 2019-12-11 18:45:00  [launching, third, flight, dragon, spacecraft,...   \n",
       "16 2019-12-11 15:30:00  [november, 21, 2019, elonmusk, unveiled, large...   \n",
       "17 2019-12-11 15:18:00  [people, often, think, theyre, breathing, oxyg...   \n",
       "18 2019-12-11 12:45:00  [hydrogen, light, odorless, gas, given, enough...   \n",
       "19 2019-12-11 01:05:00                                       [artificial]   \n",
       "\n",
       "    favorite_count  retweet_count hashtags  \\\n",
       "0             7109            981       []   \n",
       "1            20493           1846       []   \n",
       "2           155034           5473       []   \n",
       "3            52590           5103       []   \n",
       "4           238258          30474       []   \n",
       "5            46017           3877       []   \n",
       "6            19221           2229       []   \n",
       "7            39696           5053       []   \n",
       "8            13455           3284       []   \n",
       "9            11331           1458       []   \n",
       "10            7058            795       []   \n",
       "11           13225           1372       []   \n",
       "12           23292           2456       []   \n",
       "13           16079           2145       []   \n",
       "14            6339            753       []   \n",
       "15           34574           2333       []   \n",
       "16           14452           2094       []   \n",
       "17          345986          45194       []   \n",
       "18          183535          13641       []   \n",
       "19          119858           2724       []   \n",
       "\n",
       "                                       mentions emojis  popularity  \n",
       "0                                            []           0.002598  \n",
       "1                             [@space_station,]           0.039697  \n",
       "2                                            []           0.399427  \n",
       "3                                            []           0.131743  \n",
       "4                                            []           0.681198  \n",
       "5                                            []           0.111438  \n",
       "6                              [@space_station]           0.037382  \n",
       "7                                            []           0.098043  \n",
       "8                                            []           0.025117  \n",
       "9                                            []           0.014833  \n",
       "10                                           []           0.001981  \n",
       "11                                           []           0.019540  \n",
       "12                                           []           0.048572  \n",
       "13                            [@space_station.]           0.028983  \n",
       "14                   [@spacex, @space_station.]           0.000000  \n",
       "15                             [@space_station]           0.077625  \n",
       "16  [@elonmusk, @teslapic.twitter,,/pgkelcwhzb]           0.024614  \n",
       "17                                           []           1.000000  \n",
       "18                                           []           0.494897  \n",
       "19                                           []           0.300686  "
      ]
     },
     "execution_count": 73,
     "metadata": {},
     "output_type": "execute_result"
    }
   ],
   "source": [
    "user_timeline_df['created_at'] = user_timeline_df['created_at'].astype(str)\n",
    "user_timeline_df['created_at'] = pd.DatetimeIndex(user_timeline_df['created_at'])\n",
    "user_timeline_df['created_at'] = user_timeline_df['created_at'].dt.time.astype(str)\n",
    "user_timeline_df['created_at'] = pd.DatetimeIndex(user_timeline_df['created_at'])\n",
    "user_timeline_df['popularity'] = (user_timeline_df['favorite_count'] + user_timeline_df['retweet_count'])/follower_count\n",
    "user_timeline_df['popularity'] = (user_timeline_df['popularity'] - user_timeline_df['popularity'].min()) / (user_timeline_df['popularity'].max() - user_timeline_df['popularity'].min())"
   ]
  },
  {
   "cell_type": "code",
   "execution_count": 38,
   "metadata": {},
   "outputs": [
    {
     "ename": "NameError",
     "evalue": "name 'user_timeline_df' is not defined",
     "output_type": "error",
     "traceback": [
      "\u001b[1;31m---------------------------------------------------------------------------\u001b[0m",
      "\u001b[1;31mNameError\u001b[0m                                 Traceback (most recent call last)",
      "\u001b[1;32m<ipython-input-38-9df7be3659de>\u001b[0m in \u001b[0;36m<module>\u001b[1;34m\u001b[0m\n\u001b[0;32m     14\u001b[0m \u001b[1;33m\u001b[0m\u001b[0m\n\u001b[0;32m     15\u001b[0m \u001b[1;31m#Example: if the user's username was 'elonmusk'\u001b[0m\u001b[1;33m\u001b[0m\u001b[1;33m\u001b[0m\u001b[1;33m\u001b[0m\u001b[0m\n\u001b[1;32m---> 16\u001b[1;33m \u001b[0mget_max_time_user\u001b[0m\u001b[1;33m(\u001b[0m\u001b[1;33m)\u001b[0m\u001b[1;33m\u001b[0m\u001b[1;33m\u001b[0m\u001b[0m\n\u001b[0m",
      "\u001b[1;32m<ipython-input-38-9df7be3659de>\u001b[0m in \u001b[0;36mget_max_time_user\u001b[1;34m()\u001b[0m\n\u001b[0;32m      1\u001b[0m \u001b[1;32mdef\u001b[0m \u001b[0mget_max_time_user\u001b[0m\u001b[1;33m(\u001b[0m\u001b[1;33m)\u001b[0m\u001b[1;33m:\u001b[0m\u001b[1;33m\u001b[0m\u001b[1;33m\u001b[0m\u001b[0m\n\u001b[1;32m----> 2\u001b[1;33m     \u001b[0muser_time_grpr\u001b[0m \u001b[1;33m=\u001b[0m \u001b[0muser_timeline_df\u001b[0m\u001b[1;33m.\u001b[0m\u001b[0mgroupby\u001b[0m\u001b[1;33m(\u001b[0m\u001b[0mpd\u001b[0m\u001b[1;33m.\u001b[0m\u001b[0mGrouper\u001b[0m\u001b[1;33m(\u001b[0m\u001b[0mkey\u001b[0m\u001b[1;33m=\u001b[0m\u001b[1;34m'created_at'\u001b[0m\u001b[1;33m,\u001b[0m \u001b[0mfreq\u001b[0m\u001b[1;33m=\u001b[0m\u001b[1;34m'10min'\u001b[0m\u001b[1;33m)\u001b[0m\u001b[1;33m)\u001b[0m\u001b[1;33m\u001b[0m\u001b[1;33m\u001b[0m\u001b[0m\n\u001b[0m\u001b[0;32m      3\u001b[0m     \u001b[0muser_count_grpr\u001b[0m \u001b[1;33m=\u001b[0m \u001b[0muser_time_grpr\u001b[0m\u001b[1;33m[\u001b[0m\u001b[1;34m'text'\u001b[0m\u001b[1;33m]\u001b[0m\u001b[1;33m.\u001b[0m\u001b[0mcount\u001b[0m\u001b[1;33m(\u001b[0m\u001b[1;33m)\u001b[0m\u001b[1;33m\u001b[0m\u001b[1;33m\u001b[0m\u001b[0m\n\u001b[0;32m      4\u001b[0m     \u001b[0muser_sum_grpr\u001b[0m \u001b[1;33m=\u001b[0m \u001b[0muser_time_grpr\u001b[0m\u001b[1;33m[\u001b[0m\u001b[1;34m'popularity'\u001b[0m\u001b[1;33m]\u001b[0m\u001b[1;33m.\u001b[0m\u001b[0msum\u001b[0m\u001b[1;33m(\u001b[0m\u001b[1;33m)\u001b[0m\u001b[1;33m\u001b[0m\u001b[1;33m\u001b[0m\u001b[0m\n\u001b[0;32m      5\u001b[0m     \u001b[0muser_popularity\u001b[0m \u001b[1;33m=\u001b[0m \u001b[0muser_sum_grpr\u001b[0m\u001b[1;33m/\u001b[0m\u001b[0muser_count_grpr\u001b[0m\u001b[1;33m\u001b[0m\u001b[1;33m\u001b[0m\u001b[0m\n",
      "\u001b[1;31mNameError\u001b[0m: name 'user_timeline_df' is not defined"
     ]
    }
   ],
   "source": [
    "def get_max_time_user():\n",
    "    user_time_grpr = user_timeline_df.groupby(pd.Grouper(key='created_at', freq='10min'))\n",
    "    user_count_grpr = user_time_grpr['text'].count()\n",
    "    user_sum_grpr = user_time_grpr['popularity'].sum()\n",
    "    user_popularity = user_sum_grpr/user_count_grpr\n",
    "    user_popularity = user_popularity.fillna(0)\n",
    "    user_popularity = user_popularity.rename('popularity')\n",
    "    user_popularity_df = user_popularity.to_frame()\n",
    "    user_popularity_df['tmpstmp'] = user_popularity.index\n",
    "    user_popularity_df['tmpstmp'] = user_popularity_df['tmpstmp'].dt.time.astype(str)\n",
    "    plt.bar(user_popularity_df['tmpstmp'],height = user_popularity_df['popularity'])\n",
    "    user_max_time = user_popularity_df['popularity'].idxmax()\n",
    "    return user_max_time\n",
    "\n",
    "#Example: if the user's username was 'elonmusk'\n",
    "get_max_time_user()"
   ]
  },
  {
   "cell_type": "markdown",
   "metadata": {},
   "source": [
    "## Predicting Popular Keywords and Hashtags"
   ]
  },
  {
   "cell_type": "code",
   "execution_count": 75,
   "metadata": {},
   "outputs": [],
   "source": [
    "def make_rankings(data, mode):\n",
    "    ## creating a ranking column\n",
    "    if mode==\"user\":\n",
    "        data['ranking'] = (data['retweet_count'] + data['favorite_count'])\n",
    "    else:\n",
    "        data['ranking'] = (data['retweet_count'] + data['favorite_count'])/data['follower_count']\n",
    "    ## normalising the ranking columns\n",
    "    x = data[['ranking']].values.astype(float)\n",
    "    min_max_scaler = preprocessing.MinMaxScaler()\n",
    "    x_scaled = min_max_scaler.fit_transform(x)\n",
    "    data['ranking'] = 100*pd.DataFrame(x_scaled)\n",
    "    return \n",
    "make_rankings(data,\"regular\")"
   ]
  },
  {
   "cell_type": "code",
   "execution_count": 76,
   "metadata": {},
   "outputs": [
    {
     "data": {
      "text/plain": [
       "<matplotlib.axes._subplots.AxesSubplot at 0x126c9a588>"
      ]
     },
     "execution_count": 76,
     "metadata": {},
     "output_type": "execute_result"
    },
    {
     "data": {
      "image/png": "[encoded data removed]",
      "text/plain": [
       "<matplotlib.figure.Figure at 0x126c9ac88>"
      ]
     },
     "metadata": {
      "needs_background": "light"
     },
     "output_type": "display_data"
    }
   ],
   "source": [
    "fig = plt.figure(figsize = (12,8))\n",
    "ax = fig.gca()\n",
    "ax.set_xlabel(\"Follower engagement ranking (Scale 0-100%)\")\n",
    "ax.set_ylabel(\"Number of posts with ranking\")\n",
    "data['ranking'].plot.hist(bins=10, alpha=0.5, ax=ax)"
   ]
  },
  {
   "cell_type": "markdown",
   "metadata": {},
   "source": [
    "### Time tweet was posted since current day & time\n",
    "This accounts for the fact that social media trends today are not the same as they were last week or last year. We will calculate the number of days it has been since the tweet was posted"
   ]
  },
  {
   "cell_type": "code",
   "execution_count": 77,
   "metadata": {},
   "outputs": [],
   "source": [
    "def make_num_seconds(data):\n",
    "    now = datetime.now()\n",
    "    diff = []\n",
    "    data['created_at'] = pd.to_datetime(data['created_at'])\n",
    "    time_diff = (now - data['created_at'])\n",
    "    for elem in time_diff:\n",
    "        diff.append(elem.total_seconds())\n",
    "    data['num_seconds'] = diff\n",
    "    return data\n",
    "data = make_num_seconds(data)"
   ]
  },
  {
   "cell_type": "markdown",
   "metadata": {},
   "source": [
    "### Similarity between original tweet and tweet in dataframe"
   ]
  },
  {
   "cell_type": "code",
   "execution_count": 79,
   "metadata": {},
   "outputs": [
    {
     "data": {
      "text/plain": [
       "0      25.751480\n",
       "1      26.139657\n",
       "2      30.778749\n",
       "3      38.898633\n",
       "4      19.477091\n",
       "         ...    \n",
       "993     9.574866\n",
       "994    28.898267\n",
       "995    28.191126\n",
       "996    34.923147\n",
       "997    34.018726\n",
       "Name: similarity, Length: 998, dtype: float64"
      ]
     },
     "execution_count": 79,
     "metadata": {},
     "output_type": "execute_result"
    }
   ],
   "source": [
    "def do_nothing(x):\n",
    "    return x\n",
    "\n",
    "\n",
    "## comparing tweet_2 to the original tweet written by the user \n",
    "def similarity(tweet_2):\n",
    "    words =[]\n",
    "    for row in data['text']:\n",
    "            words.append(list(set(row)))\n",
    "    tfidf = TfidfVectorizer(tokenizer=do_nothing,preprocessor=do_nothing)\n",
    "    tfidf.fit(words)\n",
    "    features_orig = tfidf.transform(original_clean_tweet)\n",
    "    features_current = tfidf.transform(tweet_2)\n",
    "    \n",
    "    cosine = (cosine_similarity(features_orig, features_current))\n",
    "    cosine_total = 0.0\n",
    "    for row in cosine:\n",
    "        cosine_total+= sum(row)\n",
    "\n",
    "    return cosine_total\n",
    "\n",
    "similarities = []\n",
    "for text in data['text']:\n",
    "    \n",
    "    similarities.append(similarity(text))\n",
    "data['similarity'] = similarities\n",
    "data['similarity'].fillna(0)"
   ]
  },
  {
   "cell_type": "code",
   "execution_count": 82,
   "metadata": {},
   "outputs": [],
   "source": [
    "def find_keywords_hashtags(data):\n",
    "    keywords = {}\n",
    "    hashtags = {}\n",
    "    for index, row in data.iterrows():\n",
    "        tweet = row[\"text\"]\n",
    "        for word in tweet:\n",
    "            if word in keywords:\n",
    "                keywords[word]+= (row[\"similarity\"]+row[\"ranking\"])/row[\"num_seconds\"]\n",
    "            else:\n",
    "                keywords[word] = (row[\"similarity\"]+row[\"ranking\"])/row[\"num_seconds\"]\n",
    "        for tag in row[\"hashtags\"]:\n",
    "            if tag in hashtags:\n",
    "                hashtags[tag] += (row[\"similarity\"]+row[\"ranking\"])/row[\"num_seconds\"]\n",
    "            else:\n",
    "                hashtags[tag] = (row[\"similarity\"]+row[\"ranking\"])/row[\"num_seconds\"]\n",
    "\n",
    "    best_words = {k: v for k, v in sorted(keywords.items(), key=lambda item: item[1], reverse=True)}\n",
    "    best_tags = {k: v for k, v in sorted(hashtags.items(), key=lambda item: item[1], reverse=True)} \n",
    "    \n",
    "    return best_words, best_tags  "
   ]
  },
  {
   "cell_type": "code",
   "execution_count": 83,
   "metadata": {},
   "outputs": [
    {
     "data": {
      "text/plain": [
       "<matplotlib.image.AxesImage at 0x126c80d68>"
      ]
     },
     "execution_count": 83,
     "metadata": {},
     "output_type": "execute_result"
    },
    {
     "data": {
      "image/png": "[encoded data removed]",
      "text/plain": [
       "<matplotlib.figure.Figure at 0x126e0f320>"
      ]
     },
     "metadata": {
      "needs_background": "light"
     },
     "output_type": "display_data"
    }
   ],
   "source": [
    "best_keywords, best_hashtags = find_keywords_hashtags(data)\n",
    "fig = plt.figure(figsize = (12,8))\n",
    "wc = WordCloud(background_color=\"black\",width=4000,height=2000, max_words=10,relative_scaling=0.5,normalize_plurals=False).generate_from_frequencies(best_hashtags)\n",
    "plt.imshow(wc)"
   ]
  },
  {
   "cell_type": "code",
   "execution_count": 84,
   "metadata": {},
   "outputs": [
    {
     "data": {
      "text/plain": [
       "<matplotlib.image.AxesImage at 0x126ca5630>"
      ]
     },
     "execution_count": 84,
     "metadata": {},
     "output_type": "execute_result"
    },
    {
     "data": {
      "image/png": "[encoded data removed]",
      "text/plain": [
       "<matplotlib.figure.Figure at 0x126ee5048>"
      ]
     },
     "metadata": {
      "needs_background": "light"
     },
     "output_type": "display_data"
    }
   ],
   "source": [
    "fig = plt.figure(figsize = (12,8))\n",
    "wc = WordCloud(background_color=\"black\",width=4000,height=2000, max_words=10,relative_scaling=0.5,normalize_plurals=False).generate_from_frequencies(best_keywords)\n",
    "plt.imshow(wc)"
   ]
  },
  {
   "cell_type": "markdown",
   "metadata": {},
   "source": [
    "### Providing Keyword and Hashtag Suggestions Based on the User's Timeline"
   ]
  },
  {
   "cell_type": "code",
   "execution_count": 85,
   "metadata": {},
   "outputs": [
    {
     "name": "stdout",
     "output_type": "stream",
     "text": [
      "{'cybertruck': 0.12102149301396595, 'breathing': 0.0983313209040832, 'oxygen': 0.0983313209040832, 'everyone': 0.08928875436034944, '21': 0.0808983991056581, 'better': 0.05903679881043875, 'huge': 0.05755601570673293, 'thanks': 0.05755601570673293, 'ntributed': 0.05755601570673293, 'idea': 0.05755601570673293, 'people': 0.05651213523967731, '2': 0.055212510538434775, '1': 0.054757204767507055, 'often': 0.0491656604520416, 'think': 0.0491656604520416, 'theyre': 0.0491656604520416, 'actually': 0.0491656604520416, 'nitrogen': 0.0491656604520416, '78': 0.0491656604520416, 'side': 0.0491656604520416, 'serving': 0.0491656604520416, 'argon': 0.0491656604520416, 'sauce': 0.0491656604520416, 'spiced': 0.0491656604520416, 'h2o': 0.0491656604520416, 'dash': 0.0491656604520416, 'neon': 0.0491656604520416, 'krypton': 0.0491656604520416, 'etc': 0.0491656604520416, 'twitter': 0.046248304557022835, 'november': 0.031732738653616505, '2019': 0.031732738653616505, 'elonmusk': 0.031732738653616505, 'unveiled': 0.031732738653616505, 'largely': 0.031732738653616505, 'nsidered': 0.031732738653616505, 'greatest': 0.031732738653616505, 'evolution': 0.031732738653616505, 'vehicular': 0.031732738653616505, 'fashion': 0.031732738653616505, 'function': 0.031732738653616505, 'talking': 0.031732738653616505, 'may': 0.031732738653616505, 'wonder': 0.031732738653616505, 'well': 0.031732738653616505, 'quick': 0.031732738653616505, 'introduction': 0.031732738653616505, 'promised': 0.031732738653616505, 'spec': 0.031732738653616505, 'ad': 0.031732738653616505, 'teslapic': 0.031732738653616505, 'pgkelcwhzb': 0.031732738653616505, 'launch': 0.02033550884379752, 'nasa': 0.016774632946396365, 'fa': 0.01438965706010456, 'n': 0.01438965706010456, '9': 0.01438965706010456, 'space': 0.014091348636274963, 'station': 0.014091348636274963, 'dragon': 0.01266857047746454, 'resupply': 0.0125149541490099, 'today': 0.01245787569641536, '4': 0.01118308863093091, 'science': 0.01118308863093091, 'prelaunch': 0.01118308863093091, 'et': 0.01118308863093091, 'www': 0.008614969358662045, '29': 0.008331583268440764, 'next': 0.008276552845980018, 'hydrogen': 0.00734647478763571, 'light': 0.00734647478763571, 'odorless': 0.00734647478763571, 'gas': 0.00734647478763571, 'given': 0.00734647478763571, 'enough': 0.00734647478763571, 'time': 0.00734647478763571, 'turn': 0.00734647478763571, 'make': 0.00734647478763571, 'statement': 0.00734647478763571, 'mission': 0.006923409833544445, 'wind': 0.006850800164734945, 'broadcast': 0.006508958918731627, 'urse': 0.0063843838214521515, 'still': 0.0063843838214521515, 'love': 0.0063843838214521515, 'droneship': 0.0063843838214521515, 'speed': 0.006089938782408925, 'solves': 0.006089938782408925, 'everythingpic': 0.006089938782408925, 'dgylfyinxi': 0.006089938782408925, 'virtual': 0.006046850086393179, 'power': 0.006046850086393179, 'plant': 0.006046850086393179, 'rescue': 0.006046850086393179, 'grid': 0.006046850086393179, 'spacex': 0.0057233135520156075, 'preparing': 0.005591544315465455, 'dec': 0.005591544315465455, 'watch': 0.005591544315465455, 'tv': 0.005591544315465455, 'update': 0.005591544315465455, 'learn': 0.005591544315465455, 'cargo': 0.005591544315465455, 'board': 0.005591544315465455, 'gov': 0.005591544315465455, 'press': 0.005591544315465455, 'release': 0.005591544315465455, 'activity': 0.005591544315465455, '30pm': 0.005591544315465455, 'briefing': 0.005591544315465455, '4pm': 0.005591544315465455, 'news': 0.005591544315465455, 'nferencepic': 0.005591544315465455, 'osljrw9vd3': 0.005591544315465455, '12': 0.005497657152299372, 'p': 0.005497657152299372, 'est': 0.005497657152299372, '17': 0.005497657152299372, 'utc': 0.005497657152299372, 'webcast': 0.005098737453701514, 'land': 0.0036993752909375895, 'delivering': 0.0036993752909375895, 'orbitpic': 0.0036993752909375895, 'iumj0mjjyi': 0.0036993752909375895, 'pic': 0.0034492495793721272, 'capture': 0.003245881634511343, 'al': 0.0030234250431965897, 'peaker': 0.0030234250431965897, 'fails': 0.0030234250431965897, 'despite': 0.0030234250431965897, 'pletehttps': 0.0030234250431965897, 'teslarati': 0.0030234250431965897, 'percent': 0.0030234250431965897, 'plete': 0.0030234250431965897, 'attempt': 0.0028494573323563526, 'targeted': 0.0028126486217848103, 'ahead': 0.0028126486217848103, 'standing': 0.0026850085305145624, 'due': 0.0026850085305145624, 'upper': 0.0026850085305145624, 'altitude': 0.0026850085305145624, 'high': 0.0026850085305145624, 'sea': 0.0026850085305145624, 'creating': 0.0026850085305145624, 'dynamic': 0.0026850085305145624, 'nditions': 0.0026850085305145624, 'around': 0.0026850085305145624, 'opportunity': 0.0026850085305145624, 'tomorrow': 0.0026850085305145624, '51': 0.0026637310361579806, 'array': 0.002380066466638908, 'deployed': 0.002380066466638908, 'way': 0.002380066466638908, 'international': 0.002380066466638908, 'crew': 0.002380066466638908, 'set': 0.002380066466638908, 'early': 0.002380066466638908, 'sundaypic': 0.002380066466638908, 'm0yoqenlke': 0.002380066466638908, 'looking': 0.0014807831037058198, 'p3p2xhxfrz': 0.0014807831037058198, '30': 0.0013686742286505328, 'minute': 0.0013686742286505328, 'weather': 0.0013686742286505328, '90': 0.0013686742286505328, 'favorable': 0.0013686742286505328, 'vertical': 0.0013318655180789903, 'ubpdqrjenx': 0.0013318655180789903, 'model': 0.0012643568256688515, 'x': 0.0012643568256688515, 'earned': 0.0012643568256688515, '5': 0.0012643568256688515, 'star': 0.0012643568256688515, 'euro': 0.0012643568256688515, 'ncap': 0.0012643568256688515, 'safety': 0.0012643568256688515, 'testing': 0.0012643568256688515, 'livehttps': 0.0009174146032661711, '1vagrqydkedkl': 0.0009174146032661711, 'http': 0.0009162977885606195, 'nfirmed': 0.000865815167872435, '19': 0.000865815167872435, 'ha': 0.000865815167872435, 'delivered': 0.000865815167872435, '95': 0.000865815167872435, '000': 0.000865815167872435, 'pound': 0.000865815167872435, 'critical': 0.000865815167872435, 'supply': 0.000865815167872435, 'orbiting': 0.000865815167872435, 'laboratorypic': 0.000865815167872435, '4ankjh61xd': 0.000865815167872435, 'liftoff': 0.0006366009575873176, '4w7otmnay1': 0.0006366009575873176, 'artificial': 0.0005810946036137143, 'solar': -0.002048218222031181, 'tesla': -0.0028097192909469987, 'status': -0.002886293987089824, 'flight': -0.003183738446012755, 'launching': -0.00404955361388519, 'third': -0.00404955361388519, 'spacecraft': -0.00404955361388519, 'tomorrowhttps': -0.00404955361388519, '1199463905258590208': -0.00404955361388519, 'super': -0.004428284688670089, 'strong': -0.004428284688670089, 'generates': -0.004428284688670089, 'clean': -0.004428284688670089, 'energy': -0.004428284688670089, 'look': -0.004428284688670089, 'great': -0.004428284688670089, 'sts': -0.004428284688670089, 'le': -0.004428284688670089, 'normal': -0.004428284688670089, 'plus': -0.004428284688670089, 'panel': -0.004428284688670089, 'solarglass': -0.004428284688670089, '1203082344602591232': -0.004428284688670089, 'roof': -0.008856569377340178} {}\n"
     ]
    }
   ],
   "source": [
    "user_timeline_df['created_at'] = pd.to_datetime(user_timeline_df ['created_at'])\n",
    "similarities = []\n",
    "for text in user_timeline_df['text']:\n",
    "    similarities.append(similarity(text))\n",
    "user_timeline_df['similarity'] = similarities\n",
    "user_timeline_df['similarity'].fillna(0)\n",
    "make_num_seconds(user_timeline_df)\n",
    "make_rankings(user_timeline_df, \"user\")\n",
    "best_keywords, best_hashtags = find_keywords_hashtags(user_timeline_df)\n",
    "print(best_keywords, best_hashtags)"
   ]
  },
  {
   "cell_type": "markdown",
   "metadata": {},
   "source": [
    "## Sentiment Analysis"
   ]
  },
  {
   "cell_type": "code",
   "execution_count": 50,
   "metadata": {},
   "outputs": [
    {
     "name": "stdout",
     "output_type": "stream",
     "text": [
      "Sentiment(polarity=0.4083333333333334, subjectivity=0.5333333333333333)\n"
     ]
    },
    {
     "data": {
      "text/plain": [
       "'positive'"
      ]
     },
     "execution_count": 50,
     "metadata": {},
     "output_type": "execute_result"
    }
   ],
   "source": [
    "def fetch_sentiment(text):\n",
    "    analysis = TextBlob(text)\n",
    "    print(analysis.sentiment)\n",
    "    if analysis.sentiment.polarity >= 0:\n",
    "        return 'positive'\n",
    "    else:\n",
    "        return 'negative'\n",
    "    \n",
    "fetch_sentiment(orig_tweet)"
   ]
  },
  {
   "cell_type": "markdown",
   "metadata": {},
   "source": [
    "## Results\n",
    "\n",
    "Now that we have explored all of the features of our project, here are the final results of our project. In order to demonstrate how all of the features of our project work together, we have created an example input to demonstrate a sample response that our project would give. \n",
    "\n",
    "For our example, our user is Elon Musk and his username is 'elonmusk' and he is looking to post this tweet: 'Huge thanks to everyone who contributed ideas to Cybertruck. It’s better because of you! ♥️♥️♥️ #Tesla #Tech2020 #Design'. He has also indicated that the tweet that the category of his tweet is 'Technology'."
   ]
  },
  {
   "cell_type": "markdown",
   "metadata": {},
   "source": [
    "To begin, our application will gather the data from the user's timeline and will gather data regarding the tweets in the given category."
   ]
  },
  {
   "cell_type": "code",
   "execution_count": null,
   "metadata": {},
   "outputs": [],
   "source": [
    "create_timeline_df(user_name)\n",
    "get_tweets()"
   ]
  },
  {
   "cell_type": "markdown",
   "metadata": {},
   "source": [
    "First, our application will provide the best times to post. Our application will provide the best time for tweets with 'Technology'-related content to be posted. Additionally, our application will provide the best time for Elon Musk's tweets to be posted"
   ]
  },
  {
   "cell_type": "code",
   "execution_count": 49,
   "metadata": {
    "scrolled": true
   },
   "outputs": [
    {
     "data": {
      "text/plain": [
       "Timestamp('2019-12-11 16:00:00', freq='30T')"
      ]
     },
     "execution_count": 49,
     "metadata": {},
     "output_type": "execute_result"
    },
    {
     "data": {
      "image/png": "[encoded data removed]",
      "text/plain": [
       "<Figure size 432x288 with 1 Axes>"
      ]
     },
     "metadata": {
      "needs_background": "light"
     },
     "output_type": "display_data"
    }
   ],
   "source": [
    "get_max_time_category('Technology')"
   ]
  },
  {
   "cell_type": "code",
   "execution_count": null,
   "metadata": {},
   "outputs": [],
   "source": [
    "get_max_time_user()"
   ]
  },
  {
   "cell_type": "markdown",
   "metadata": {},
   "source": [
    "Next, our application will provide the user with suggestions on hashtags and keywords that have been included in popular tweets."
   ]
  },
  {
   "cell_type": "code",
   "execution_count": null,
   "metadata": {},
   "outputs": [],
   "source": []
  },
  {
   "cell_type": "markdown",
   "metadata": {},
   "source": [
    "Finally, our application will provide the user with the sentiment of the tweet that they intend on posting."
   ]
  },
  {
   "cell_type": "code",
   "execution_count": null,
   "metadata": {},
   "outputs": [],
   "source": [
    "fetch_sentiment(orig_tweet)"
   ]
  },
  {
   "cell_type": "markdown",
   "metadata": {},
   "source": [
    "Thus, we have provided four suggestions regarding important factors that a user should consider before posting their tweet. With our application, the user should get much higher social media engagment on each of their tweets if they take our suggestions into consideration. With these suggestions, the user can now identify the best time to post their tweets regarding the category of the content of their tweet, what keywords or hashtags to include, and if the sentiment of their tweet is the same as the sentiment that they are aiming to express."
   ]
  },
  {
   "cell_type": "markdown",
   "metadata": {},
   "source": [
    "## Suggestions for Future Research"
   ]
  },
  {
   "cell_type": "markdown",
   "metadata": {},
   "source": [
    "With more resources and access to data, we would look to actually test our application to ensure that our suggestions can actually improve social media engagement on a user's tweets. Additionally, we would suggest expanding our application to other social media platforms such as Instagram, Facebook, LinkedIn, and etc. We would also suggest expanding our application to analyze the content of images included in a social media post.\n",
    "\n",
    "For additional references and details, here is the documentation for the important modules that were used in this project:\n",
    "- Tweepy: [https://www.tweepy.org/](https://www.tweepy.org/)\n",
    "- Selenium: [https://selenium-python.readthedocs.io/](https://selenium-python.readthedocs.io/)\n",
    "- Pandas: [https://pandas.pydata.org/](https://pandas.pydata.org/)\n",
    "- sklearn: [https://scikit-learn.org/stable/](https://scikit-learn.org/stable/)\n",
    "- TextBlob: [https://textblob.readthedocs.io/en/dev/](https://textblob.readthedocs.io/en/dev/)"
   ]
  }
 ],
 "metadata": {
  "kernelspec": {
   "display_name": "Python 3",
   "language": "python",
   "name": "python3"
  },
  "language_info": {
   "codemirror_mode": {
    "name": "ipython",
    "version": 3
   },
   "file_extension": ".py",
   "mimetype": "text/x-python",
   "name": "python",
   "nbconvert_exporter": "python",
   "pygments_lexer": "ipython3",
   "version": "3.7.3"
  }
 },
 "nbformat": 4,
 "nbformat_minor": 2
}
